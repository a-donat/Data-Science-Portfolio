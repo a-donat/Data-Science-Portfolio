{
  "cells": [
    {
      "cell_type": "markdown",
      "metadata": {
        "id": "view-in-github",
        "colab_type": "text"
      },
      "source": [
        "<a href=\"https://colab.research.google.com/github/a-donat/Data-Science-Portfolio/blob/master/NLP_Predicting_Sentiment_of_App_Reviews_Portfolio.ipynb\" target=\"_parent\"><img src=\"https://colab.research.google.com/assets/colab-badge.svg\" alt=\"Open In Colab\"/></a>"
      ]
    },
    {
      "cell_type": "markdown",
      "source": [
        "**Predicting Sentiment of App Reviews with Natural Language Processing (NLP)**"
      ],
      "metadata": {
        "id": "jq0r-G-Rf0ta"
      }
    },
    {
      "cell_type": "markdown",
      "source": [
        "By: Annalisa Donat"
      ],
      "metadata": {
        "id": "HmnoqHawf8zp"
      }
    },
    {
      "cell_type": "markdown",
      "metadata": {
        "id": "M27qF7CTrBqc"
      },
      "source": [
        "Task: Predict sentiment (positive or negative) of app reviews."
      ]
    },
    {
      "cell_type": "markdown",
      "metadata": {
        "id": "VbX0jYELZend"
      },
      "source": [
        "data source: https://www.kaggle.com/datasets/furqanrustam118/calling-apps-reviews-dataset\n",
        "\n",
        "The data was originally used in the paper  [\"Using Aspect-Level Sentiments for Calling App Recommendation with Hybrid Deep-Learning Models.\"](https://www.researchgate.net/publication/363059808_Using_Aspect-Level_Sentiments_for_Calling_App_Recommendation_with_Hybrid_Deep-Learning_Models). I am not affiliated with any of the authors.\n"
      ]
    },
    {
      "cell_type": "markdown",
      "metadata": {
        "id": "uAE6Icc0uylP"
      },
      "source": [
        "# I. Set-Up"
      ]
    },
    {
      "cell_type": "markdown",
      "metadata": {
        "id": "9k-VI49rcmcC"
      },
      "source": [
        "## II. Import Libraries and Functions"
      ]
    },
    {
      "cell_type": "code",
      "execution_count": null,
      "metadata": {
        "id": "HmXnZsp3U8hN"
      },
      "outputs": [],
      "source": [
        "! pip install kaggle\n",
        "! mkdir ~/.kaggle\n",
        "! cp kaggle.json ~/.kaggle/\n",
        "! chmod 600 ~/.kaggle/kaggle.json\n",
        "! kaggle datasets download -d furqanrustam118/calling-apps-reviews-dataset\n",
        "! unzip '/content/calling-apps-reviews-dataset.zip' -d '/content/reviews'\n"
      ]
    },
    {
      "cell_type": "code",
      "execution_count": 2,
      "metadata": {
        "id": "YBp2qDPb8pDo"
      },
      "outputs": [],
      "source": [
        "import pandas as pd\n",
        "import numpy as np\n",
        "import seaborn as sns\n",
        "import matplotlib.pyplot as plt\n",
        "from typing import *"
      ]
    },
    {
      "cell_type": "code",
      "execution_count": 3,
      "metadata": {
        "colab": {
          "base_uri": "https://localhost:8080/"
        },
        "id": "vz1h5_4tbKQP",
        "outputId": "62d2b405-4219-4898-dbe7-211f2def61fc"
      },
      "outputs": [
        {
          "output_type": "stream",
          "name": "stderr",
          "text": [
            "[nltk_data] Downloading package stopwords to /root/nltk_data...\n",
            "[nltk_data]   Unzipping corpora/stopwords.zip.\n"
          ]
        }
      ],
      "source": [
        "import re\n",
        "import nltk\n",
        "from nltk.corpus import stopwords\n",
        "nltk.download(\"stopwords\")\n",
        "from string import punctuation"
      ]
    },
    {
      "cell_type": "code",
      "execution_count": 4,
      "metadata": {
        "id": "KR80uuY6Jkrd"
      },
      "outputs": [],
      "source": [
        "from sklearn.feature_extraction.text import CountVectorizer\n",
        "from sklearn.base import BaseEstimator, TransformerMixin\n",
        "from sklearn.naive_bayes import MultinomialNB, ComplementNB\n",
        "from sklearn.tree import DecisionTreeClassifier\n",
        "from sklearn.svm import SVC\n",
        "from sklearn.pipeline import Pipeline\n",
        "from sklearn.model_selection import train_test_split, learning_curve,\\\n",
        "    validation_curve, cross_val_score, StratifiedKFold, GridSearchCV\n",
        "from sklearn.metrics import classification_report, confusion_matrix"
      ]
    },
    {
      "cell_type": "markdown",
      "metadata": {
        "id": "rg5DbiawwVuT"
      },
      "source": [
        "# II. Load Data and Check Data Integrity"
      ]
    },
    {
      "cell_type": "code",
      "execution_count": 10,
      "metadata": {
        "id": "tjIiJdM4u1IE"
      },
      "outputs": [],
      "source": [
        "# Load the data\n",
        "reviews_df = pd.read_csv(\"/content/reviews/IMO.csv\")"
      ]
    },
    {
      "cell_type": "markdown",
      "metadata": {
        "id": "7nq9vOrEN6tx"
      },
      "source": [
        "Note that feedback variable represents sentiment of the review (positive = 1, negative = 0)."
      ]
    },
    {
      "cell_type": "code",
      "execution_count": 11,
      "metadata": {
        "colab": {
          "base_uri": "https://localhost:8080/",
          "height": 634
        },
        "id": "SyVEofs7wXH-",
        "outputId": "4adac46a-e452-4cca-f7e9-9a5b0d17ec34"
      },
      "outputs": [
        {
          "output_type": "execute_result",
          "data": {
            "text/plain": [
              "   Unnamed: 0                                           reviewId  \\\n",
              "0           0  gp:AOqpTOHWpVpIVqvXXlSmKZYCCZT-Orv_dSNpSthDBqb...   \n",
              "1           1  gp:AOqpTOGUd1SOYIvt77XIBbFPNAUC3vrPk-WurYnZ-4D...   \n",
              "2           2  gp:AOqpTOEbieI_4PpTP14kb7DLUgIvV2m7um33AFsse-1...   \n",
              "3           3  gp:AOqpTOFMcOARNMmnpEcrQq703dogFZt2JdjVP18LaZ0...   \n",
              "4           4  gp:AOqpTOGPW9BL_PHcNwRHTrwBaEdODpGtNurr9chMPFV...   \n",
              "\n",
              "               userName                                          userImage  \\\n",
              "0       Robbin Robinson  https://play-lh.googleusercontent.com/a-/AOh14...   \n",
              "1      brandon williams  https://play-lh.googleusercontent.com/a-/AOh14...   \n",
              "2           BLACK PEARL  https://play-lh.googleusercontent.com/a/AATXAJ...   \n",
              "3         Ashley Eddins  https://play-lh.googleusercontent.com/a/AATXAJ...   \n",
              "4  KalifRetlaw Dworfton  https://play-lh.googleusercontent.com/a-/AOh14...   \n",
              "\n",
              "                                             content  score  thumbsUpCount  \\\n",
              "0  The app used to work very well. Now I can't se...      2            439   \n",
              "1  Sends full resolution vids and pix. No compres...      2            337   \n",
              "2  They took my 💰 money 4 a subscription & is not...      1            280   \n",
              "3  Calls get very glitchy .I miss calls . They do...      3             36   \n",
              "4  PLEASE don't do anymore update's there's nothi...      2            296   \n",
              "\n",
              "  reviewCreatedVersion                   at  replyContent  repliedAt App Name  \n",
              "0     9.8.000000011315  2021-12-30 19:53:09           NaN        NaN      IMO  \n",
              "1     9.8.000000011315  2021-12-26 09:40:47           NaN        NaN      IMO  \n",
              "2     9.8.000000011315  2022-01-11 06:52:20           NaN        NaN      IMO  \n",
              "3     9.8.000000011315  2021-12-31 06:30:53           NaN        NaN      IMO  \n",
              "4     9.8.000000011305  2021-11-24 03:34:13           NaN        NaN      IMO  "
            ],
            "text/html": [
              "\n",
              "  <div id=\"df-944e278f-07dc-48e6-b484-749da645607c\">\n",
              "    <div class=\"colab-df-container\">\n",
              "      <div>\n",
              "<style scoped>\n",
              "    .dataframe tbody tr th:only-of-type {\n",
              "        vertical-align: middle;\n",
              "    }\n",
              "\n",
              "    .dataframe tbody tr th {\n",
              "        vertical-align: top;\n",
              "    }\n",
              "\n",
              "    .dataframe thead th {\n",
              "        text-align: right;\n",
              "    }\n",
              "</style>\n",
              "<table border=\"1\" class=\"dataframe\">\n",
              "  <thead>\n",
              "    <tr style=\"text-align: right;\">\n",
              "      <th></th>\n",
              "      <th>Unnamed: 0</th>\n",
              "      <th>reviewId</th>\n",
              "      <th>userName</th>\n",
              "      <th>userImage</th>\n",
              "      <th>content</th>\n",
              "      <th>score</th>\n",
              "      <th>thumbsUpCount</th>\n",
              "      <th>reviewCreatedVersion</th>\n",
              "      <th>at</th>\n",
              "      <th>replyContent</th>\n",
              "      <th>repliedAt</th>\n",
              "      <th>App Name</th>\n",
              "    </tr>\n",
              "  </thead>\n",
              "  <tbody>\n",
              "    <tr>\n",
              "      <th>0</th>\n",
              "      <td>0</td>\n",
              "      <td>gp:AOqpTOHWpVpIVqvXXlSmKZYCCZT-Orv_dSNpSthDBqb...</td>\n",
              "      <td>Robbin Robinson</td>\n",
              "      <td>https://play-lh.googleusercontent.com/a-/AOh14...</td>\n",
              "      <td>The app used to work very well. Now I can't se...</td>\n",
              "      <td>2</td>\n",
              "      <td>439</td>\n",
              "      <td>9.8.000000011315</td>\n",
              "      <td>2021-12-30 19:53:09</td>\n",
              "      <td>NaN</td>\n",
              "      <td>NaN</td>\n",
              "      <td>IMO</td>\n",
              "    </tr>\n",
              "    <tr>\n",
              "      <th>1</th>\n",
              "      <td>1</td>\n",
              "      <td>gp:AOqpTOGUd1SOYIvt77XIBbFPNAUC3vrPk-WurYnZ-4D...</td>\n",
              "      <td>brandon williams</td>\n",
              "      <td>https://play-lh.googleusercontent.com/a-/AOh14...</td>\n",
              "      <td>Sends full resolution vids and pix. No compres...</td>\n",
              "      <td>2</td>\n",
              "      <td>337</td>\n",
              "      <td>9.8.000000011315</td>\n",
              "      <td>2021-12-26 09:40:47</td>\n",
              "      <td>NaN</td>\n",
              "      <td>NaN</td>\n",
              "      <td>IMO</td>\n",
              "    </tr>\n",
              "    <tr>\n",
              "      <th>2</th>\n",
              "      <td>2</td>\n",
              "      <td>gp:AOqpTOEbieI_4PpTP14kb7DLUgIvV2m7um33AFsse-1...</td>\n",
              "      <td>BLACK PEARL</td>\n",
              "      <td>https://play-lh.googleusercontent.com/a/AATXAJ...</td>\n",
              "      <td>They took my 💰 money 4 a subscription &amp; is not...</td>\n",
              "      <td>1</td>\n",
              "      <td>280</td>\n",
              "      <td>9.8.000000011315</td>\n",
              "      <td>2022-01-11 06:52:20</td>\n",
              "      <td>NaN</td>\n",
              "      <td>NaN</td>\n",
              "      <td>IMO</td>\n",
              "    </tr>\n",
              "    <tr>\n",
              "      <th>3</th>\n",
              "      <td>3</td>\n",
              "      <td>gp:AOqpTOFMcOARNMmnpEcrQq703dogFZt2JdjVP18LaZ0...</td>\n",
              "      <td>Ashley Eddins</td>\n",
              "      <td>https://play-lh.googleusercontent.com/a/AATXAJ...</td>\n",
              "      <td>Calls get very glitchy .I miss calls . They do...</td>\n",
              "      <td>3</td>\n",
              "      <td>36</td>\n",
              "      <td>9.8.000000011315</td>\n",
              "      <td>2021-12-31 06:30:53</td>\n",
              "      <td>NaN</td>\n",
              "      <td>NaN</td>\n",
              "      <td>IMO</td>\n",
              "    </tr>\n",
              "    <tr>\n",
              "      <th>4</th>\n",
              "      <td>4</td>\n",
              "      <td>gp:AOqpTOGPW9BL_PHcNwRHTrwBaEdODpGtNurr9chMPFV...</td>\n",
              "      <td>KalifRetlaw Dworfton</td>\n",
              "      <td>https://play-lh.googleusercontent.com/a-/AOh14...</td>\n",
              "      <td>PLEASE don't do anymore update's there's nothi...</td>\n",
              "      <td>2</td>\n",
              "      <td>296</td>\n",
              "      <td>9.8.000000011305</td>\n",
              "      <td>2021-11-24 03:34:13</td>\n",
              "      <td>NaN</td>\n",
              "      <td>NaN</td>\n",
              "      <td>IMO</td>\n",
              "    </tr>\n",
              "  </tbody>\n",
              "</table>\n",
              "</div>\n",
              "      <button class=\"colab-df-convert\" onclick=\"convertToInteractive('df-944e278f-07dc-48e6-b484-749da645607c')\"\n",
              "              title=\"Convert this dataframe to an interactive table.\"\n",
              "              style=\"display:none;\">\n",
              "        \n",
              "  <svg xmlns=\"http://www.w3.org/2000/svg\" height=\"24px\"viewBox=\"0 0 24 24\"\n",
              "       width=\"24px\">\n",
              "    <path d=\"M0 0h24v24H0V0z\" fill=\"none\"/>\n",
              "    <path d=\"M18.56 5.44l.94 2.06.94-2.06 2.06-.94-2.06-.94-.94-2.06-.94 2.06-2.06.94zm-11 1L8.5 8.5l.94-2.06 2.06-.94-2.06-.94L8.5 2.5l-.94 2.06-2.06.94zm10 10l.94 2.06.94-2.06 2.06-.94-2.06-.94-.94-2.06-.94 2.06-2.06.94z\"/><path d=\"M17.41 7.96l-1.37-1.37c-.4-.4-.92-.59-1.43-.59-.52 0-1.04.2-1.43.59L10.3 9.45l-7.72 7.72c-.78.78-.78 2.05 0 2.83L4 21.41c.39.39.9.59 1.41.59.51 0 1.02-.2 1.41-.59l7.78-7.78 2.81-2.81c.8-.78.8-2.07 0-2.86zM5.41 20L4 18.59l7.72-7.72 1.47 1.35L5.41 20z\"/>\n",
              "  </svg>\n",
              "      </button>\n",
              "      \n",
              "  <style>\n",
              "    .colab-df-container {\n",
              "      display:flex;\n",
              "      flex-wrap:wrap;\n",
              "      gap: 12px;\n",
              "    }\n",
              "\n",
              "    .colab-df-convert {\n",
              "      background-color: #E8F0FE;\n",
              "      border: none;\n",
              "      border-radius: 50%;\n",
              "      cursor: pointer;\n",
              "      display: none;\n",
              "      fill: #1967D2;\n",
              "      height: 32px;\n",
              "      padding: 0 0 0 0;\n",
              "      width: 32px;\n",
              "    }\n",
              "\n",
              "    .colab-df-convert:hover {\n",
              "      background-color: #E2EBFA;\n",
              "      box-shadow: 0px 1px 2px rgba(60, 64, 67, 0.3), 0px 1px 3px 1px rgba(60, 64, 67, 0.15);\n",
              "      fill: #174EA6;\n",
              "    }\n",
              "\n",
              "    [theme=dark] .colab-df-convert {\n",
              "      background-color: #3B4455;\n",
              "      fill: #D2E3FC;\n",
              "    }\n",
              "\n",
              "    [theme=dark] .colab-df-convert:hover {\n",
              "      background-color: #434B5C;\n",
              "      box-shadow: 0px 1px 3px 1px rgba(0, 0, 0, 0.15);\n",
              "      filter: drop-shadow(0px 1px 2px rgba(0, 0, 0, 0.3));\n",
              "      fill: #FFFFFF;\n",
              "    }\n",
              "  </style>\n",
              "\n",
              "      <script>\n",
              "        const buttonEl =\n",
              "          document.querySelector('#df-944e278f-07dc-48e6-b484-749da645607c button.colab-df-convert');\n",
              "        buttonEl.style.display =\n",
              "          google.colab.kernel.accessAllowed ? 'block' : 'none';\n",
              "\n",
              "        async function convertToInteractive(key) {\n",
              "          const element = document.querySelector('#df-944e278f-07dc-48e6-b484-749da645607c');\n",
              "          const dataTable =\n",
              "            await google.colab.kernel.invokeFunction('convertToInteractive',\n",
              "                                                     [key], {});\n",
              "          if (!dataTable) return;\n",
              "\n",
              "          const docLinkHtml = 'Like what you see? Visit the ' +\n",
              "            '<a target=\"_blank\" href=https://colab.research.google.com/notebooks/data_table.ipynb>data table notebook</a>'\n",
              "            + ' to learn more about interactive tables.';\n",
              "          element.innerHTML = '';\n",
              "          dataTable['output_type'] = 'display_data';\n",
              "          await google.colab.output.renderOutput(dataTable, element);\n",
              "          const docLink = document.createElement('div');\n",
              "          docLink.innerHTML = docLinkHtml;\n",
              "          element.appendChild(docLink);\n",
              "        }\n",
              "      </script>\n",
              "    </div>\n",
              "  </div>\n",
              "  "
            ]
          },
          "metadata": {},
          "execution_count": 11
        }
      ],
      "source": [
        "reviews_df.head()"
      ]
    },
    {
      "cell_type": "code",
      "execution_count": 12,
      "metadata": {
        "colab": {
          "base_uri": "https://localhost:8080/"
        },
        "id": "RUt2ON_UxyYk",
        "outputId": "58729512-7468-4b8e-b128-89fa7bad85c3"
      },
      "outputs": [
        {
          "output_type": "stream",
          "name": "stdout",
          "text": [
            "<class 'pandas.core.frame.DataFrame'>\n",
            "RangeIndex: 10000 entries, 0 to 9999\n",
            "Data columns (total 12 columns):\n",
            " #   Column                Non-Null Count  Dtype  \n",
            "---  ------                --------------  -----  \n",
            " 0   Unnamed: 0            10000 non-null  int64  \n",
            " 1   reviewId              10000 non-null  object \n",
            " 2   userName              10000 non-null  object \n",
            " 3   userImage             10000 non-null  object \n",
            " 4   content               10000 non-null  object \n",
            " 5   score                 10000 non-null  int64  \n",
            " 6   thumbsUpCount         10000 non-null  int64  \n",
            " 7   reviewCreatedVersion  7819 non-null   object \n",
            " 8   at                    10000 non-null  object \n",
            " 9   replyContent          0 non-null      float64\n",
            " 10  repliedAt             0 non-null      float64\n",
            " 11  App Name              10000 non-null  object \n",
            "dtypes: float64(2), int64(3), object(7)\n",
            "memory usage: 937.6+ KB\n"
          ]
        }
      ],
      "source": [
        "# View the DataFrame Information\n",
        "reviews_df.info()"
      ]
    },
    {
      "cell_type": "code",
      "execution_count": 13,
      "metadata": {
        "id": "MjtLZcQZz70h"
      },
      "outputs": [],
      "source": [
        "reviews_df = reviews_df.drop(\n",
        "    columns=[\"Unnamed: 0\", \"reviewId\", \"userImage\", \n",
        "             \"replyContent\",\t\"repliedAt\", \"App Name\"]).copy()"
      ]
    },
    {
      "cell_type": "code",
      "execution_count": 14,
      "metadata": {
        "colab": {
          "base_uri": "https://localhost:8080/",
          "height": 300
        },
        "id": "hMq3-KWOx0e1",
        "outputId": "1770e00d-0d55-46ab-fb3c-89b984140c08"
      },
      "outputs": [
        {
          "output_type": "execute_result",
          "data": {
            "text/plain": [
              "              score  thumbsUpCount\n",
              "count  10000.000000   10000.000000\n",
              "mean       2.920300       6.620000\n",
              "std        1.806232      47.596709\n",
              "min        1.000000       0.000000\n",
              "25%        1.000000       0.000000\n",
              "50%        3.000000       0.000000\n",
              "75%        5.000000       2.000000\n",
              "max        5.000000    2641.000000"
            ],
            "text/html": [
              "\n",
              "  <div id=\"df-958df445-e946-411a-bbeb-2506a42bba5d\">\n",
              "    <div class=\"colab-df-container\">\n",
              "      <div>\n",
              "<style scoped>\n",
              "    .dataframe tbody tr th:only-of-type {\n",
              "        vertical-align: middle;\n",
              "    }\n",
              "\n",
              "    .dataframe tbody tr th {\n",
              "        vertical-align: top;\n",
              "    }\n",
              "\n",
              "    .dataframe thead th {\n",
              "        text-align: right;\n",
              "    }\n",
              "</style>\n",
              "<table border=\"1\" class=\"dataframe\">\n",
              "  <thead>\n",
              "    <tr style=\"text-align: right;\">\n",
              "      <th></th>\n",
              "      <th>score</th>\n",
              "      <th>thumbsUpCount</th>\n",
              "    </tr>\n",
              "  </thead>\n",
              "  <tbody>\n",
              "    <tr>\n",
              "      <th>count</th>\n",
              "      <td>10000.000000</td>\n",
              "      <td>10000.000000</td>\n",
              "    </tr>\n",
              "    <tr>\n",
              "      <th>mean</th>\n",
              "      <td>2.920300</td>\n",
              "      <td>6.620000</td>\n",
              "    </tr>\n",
              "    <tr>\n",
              "      <th>std</th>\n",
              "      <td>1.806232</td>\n",
              "      <td>47.596709</td>\n",
              "    </tr>\n",
              "    <tr>\n",
              "      <th>min</th>\n",
              "      <td>1.000000</td>\n",
              "      <td>0.000000</td>\n",
              "    </tr>\n",
              "    <tr>\n",
              "      <th>25%</th>\n",
              "      <td>1.000000</td>\n",
              "      <td>0.000000</td>\n",
              "    </tr>\n",
              "    <tr>\n",
              "      <th>50%</th>\n",
              "      <td>3.000000</td>\n",
              "      <td>0.000000</td>\n",
              "    </tr>\n",
              "    <tr>\n",
              "      <th>75%</th>\n",
              "      <td>5.000000</td>\n",
              "      <td>2.000000</td>\n",
              "    </tr>\n",
              "    <tr>\n",
              "      <th>max</th>\n",
              "      <td>5.000000</td>\n",
              "      <td>2641.000000</td>\n",
              "    </tr>\n",
              "  </tbody>\n",
              "</table>\n",
              "</div>\n",
              "      <button class=\"colab-df-convert\" onclick=\"convertToInteractive('df-958df445-e946-411a-bbeb-2506a42bba5d')\"\n",
              "              title=\"Convert this dataframe to an interactive table.\"\n",
              "              style=\"display:none;\">\n",
              "        \n",
              "  <svg xmlns=\"http://www.w3.org/2000/svg\" height=\"24px\"viewBox=\"0 0 24 24\"\n",
              "       width=\"24px\">\n",
              "    <path d=\"M0 0h24v24H0V0z\" fill=\"none\"/>\n",
              "    <path d=\"M18.56 5.44l.94 2.06.94-2.06 2.06-.94-2.06-.94-.94-2.06-.94 2.06-2.06.94zm-11 1L8.5 8.5l.94-2.06 2.06-.94-2.06-.94L8.5 2.5l-.94 2.06-2.06.94zm10 10l.94 2.06.94-2.06 2.06-.94-2.06-.94-.94-2.06-.94 2.06-2.06.94z\"/><path d=\"M17.41 7.96l-1.37-1.37c-.4-.4-.92-.59-1.43-.59-.52 0-1.04.2-1.43.59L10.3 9.45l-7.72 7.72c-.78.78-.78 2.05 0 2.83L4 21.41c.39.39.9.59 1.41.59.51 0 1.02-.2 1.41-.59l7.78-7.78 2.81-2.81c.8-.78.8-2.07 0-2.86zM5.41 20L4 18.59l7.72-7.72 1.47 1.35L5.41 20z\"/>\n",
              "  </svg>\n",
              "      </button>\n",
              "      \n",
              "  <style>\n",
              "    .colab-df-container {\n",
              "      display:flex;\n",
              "      flex-wrap:wrap;\n",
              "      gap: 12px;\n",
              "    }\n",
              "\n",
              "    .colab-df-convert {\n",
              "      background-color: #E8F0FE;\n",
              "      border: none;\n",
              "      border-radius: 50%;\n",
              "      cursor: pointer;\n",
              "      display: none;\n",
              "      fill: #1967D2;\n",
              "      height: 32px;\n",
              "      padding: 0 0 0 0;\n",
              "      width: 32px;\n",
              "    }\n",
              "\n",
              "    .colab-df-convert:hover {\n",
              "      background-color: #E2EBFA;\n",
              "      box-shadow: 0px 1px 2px rgba(60, 64, 67, 0.3), 0px 1px 3px 1px rgba(60, 64, 67, 0.15);\n",
              "      fill: #174EA6;\n",
              "    }\n",
              "\n",
              "    [theme=dark] .colab-df-convert {\n",
              "      background-color: #3B4455;\n",
              "      fill: #D2E3FC;\n",
              "    }\n",
              "\n",
              "    [theme=dark] .colab-df-convert:hover {\n",
              "      background-color: #434B5C;\n",
              "      box-shadow: 0px 1px 3px 1px rgba(0, 0, 0, 0.15);\n",
              "      filter: drop-shadow(0px 1px 2px rgba(0, 0, 0, 0.3));\n",
              "      fill: #FFFFFF;\n",
              "    }\n",
              "  </style>\n",
              "\n",
              "      <script>\n",
              "        const buttonEl =\n",
              "          document.querySelector('#df-958df445-e946-411a-bbeb-2506a42bba5d button.colab-df-convert');\n",
              "        buttonEl.style.display =\n",
              "          google.colab.kernel.accessAllowed ? 'block' : 'none';\n",
              "\n",
              "        async function convertToInteractive(key) {\n",
              "          const element = document.querySelector('#df-958df445-e946-411a-bbeb-2506a42bba5d');\n",
              "          const dataTable =\n",
              "            await google.colab.kernel.invokeFunction('convertToInteractive',\n",
              "                                                     [key], {});\n",
              "          if (!dataTable) return;\n",
              "\n",
              "          const docLinkHtml = 'Like what you see? Visit the ' +\n",
              "            '<a target=\"_blank\" href=https://colab.research.google.com/notebooks/data_table.ipynb>data table notebook</a>'\n",
              "            + ' to learn more about interactive tables.';\n",
              "          element.innerHTML = '';\n",
              "          dataTable['output_type'] = 'display_data';\n",
              "          await google.colab.output.renderOutput(dataTable, element);\n",
              "          const docLink = document.createElement('div');\n",
              "          docLink.innerHTML = docLinkHtml;\n",
              "          element.appendChild(docLink);\n",
              "        }\n",
              "      </script>\n",
              "    </div>\n",
              "  </div>\n",
              "  "
            ]
          },
          "metadata": {},
          "execution_count": 14
        }
      ],
      "source": [
        "# View DataFrame Statistical Summary\n",
        "reviews_df.describe()"
      ]
    },
    {
      "cell_type": "code",
      "execution_count": 15,
      "metadata": {
        "colab": {
          "base_uri": "https://localhost:8080/",
          "height": 279
        },
        "id": "r47zUXQTNihA",
        "outputId": "f0a82971-af27-43c8-a76c-24a2d31cf3fe"
      },
      "outputs": [
        {
          "output_type": "display_data",
          "data": {
            "text/plain": [
              "<Figure size 432x288 with 1 Axes>"
            ],
            "image/png": "[encoded data removed]"
          },
          "metadata": {
            "needs_background": "light"
          }
        }
      ],
      "source": [
        "# Plot the count plot for the ratings\n",
        "sns.countplot(x = reviews_df[\"score\"])\n",
        "plt.show()"
      ]
    },
    {
      "cell_type": "code",
      "execution_count": 16,
      "metadata": {
        "id": "-vgwQDuNXMtb"
      },
      "outputs": [],
      "source": [
        "reviews_df = reviews_df[reviews_df[\"score\"] != 3].copy()\n",
        "reviews_df[\"sentiment\"] = reviews_df[\"score\"].map({1: 0, 2: 0, 4: 1, 5: 1})"
      ]
    },
    {
      "cell_type": "markdown",
      "metadata": {
        "id": "LlszUhNNyrl_"
      },
      "source": [
        "# III. Exploratory Data Analysis (EDA)"
      ]
    },
    {
      "cell_type": "code",
      "execution_count": 17,
      "metadata": {
        "colab": {
          "base_uri": "https://localhost:8080/",
          "height": 282
        },
        "id": "-r9PAaTqNihA",
        "outputId": "19945d0b-0b25-4c8f-e34d-68d85c303e73"
      },
      "outputs": [
        {
          "output_type": "display_data",
          "data": {
            "text/plain": [
              "<Figure size 432x288 with 1 Axes>"
            ],
            "image/png": "[encoded data removed]"
          },
          "metadata": {
            "needs_background": "light"
          }
        }
      ],
      "source": [
        "sns.countplot(x = reviews_df[\"sentiment\"])\n",
        "plt.show()"
      ]
    },
    {
      "cell_type": "code",
      "execution_count": 18,
      "metadata": {
        "colab": {
          "base_uri": "https://localhost:8080/"
        },
        "id": "09ZsvdvBzFqS",
        "outputId": "b65b8341-f880-49f4-e776-a877659e00b2"
      },
      "outputs": [
        {
          "output_type": "execute_result",
          "data": {
            "text/plain": [
              "userName                7089\n",
              "content                 9016\n",
              "score                      4\n",
              "thumbsUpCount            185\n",
              "reviewCreatedVersion      55\n",
              "at                      9252\n",
              "sentiment                  2\n",
              "dtype: int64"
            ]
          },
          "metadata": {},
          "execution_count": 18
        }
      ],
      "source": [
        "reviews_df.nunique()"
      ]
    },
    {
      "cell_type": "code",
      "execution_count": 19,
      "metadata": {
        "id": "1k2KDfoHTXNb"
      },
      "outputs": [],
      "source": [
        "def get_num_words(review_text: str) -> int:\n",
        "  if len(review_text) == 0:\n",
        "    n_words = 0\n",
        "  else:\n",
        "    n_words = re.sub(\"\\s+\", \"XxX\", review_text).count(\"XxX\") + 1\n",
        "  return n_words"
      ]
    },
    {
      "cell_type": "code",
      "execution_count": 20,
      "metadata": {
        "id": "YbVWANahQTm_"
      },
      "outputs": [],
      "source": [
        "# Let's get the length of the content column\n",
        "\n",
        "reviews_df[\"length_char\"] = reviews_df[\"content\"].apply(len)\n",
        "reviews_df[\"length_words\"] = reviews_df[\"content\"].apply(get_num_words)"
      ]
    },
    {
      "cell_type": "code",
      "execution_count": 21,
      "metadata": {
        "colab": {
          "base_uri": "https://localhost:8080/",
          "height": 279
        },
        "id": "qWi_AX-fQlMb",
        "outputId": "17e829c4-278f-453c-db67-c8220b92a913"
      },
      "outputs": [
        {
          "output_type": "display_data",
          "data": {
            "text/plain": [
              "<Figure size 720x288 with 2 Axes>"
            ],
            "image/png": "[encoded data removed]"
          },
          "metadata": {
            "needs_background": "light"
          }
        }
      ],
      "source": [
        "fig, axes = plt.subplots(figsize=(10, 4), ncols=2)\n",
        "sns.boxplot(y=\"length_char\", x=\"score\", data=reviews_df,\n",
        "            whis=[0, 100], width=.6, palette=\"vlag\", ax=axes[0])\n",
        "sns.boxplot(y=\"length_char\", x=\"sentiment\", data=reviews_df,\n",
        "            whis=[0, 100], width=.6, palette=\"vlag\", ax=axes[1])\n",
        "plt.show()"
      ]
    },
    {
      "cell_type": "code",
      "execution_count": 22,
      "metadata": {
        "colab": {
          "base_uri": "https://localhost:8080/",
          "height": 279
        },
        "id": "fFoVGRwjU-a1",
        "outputId": "1b3f225d-ce09-43e1-dc5a-084665ad93d8"
      },
      "outputs": [
        {
          "output_type": "display_data",
          "data": {
            "text/plain": [
              "<Figure size 720x288 with 2 Axes>"
            ],
            "image/png": "[encoded data removed]"
          },
          "metadata": {
            "needs_background": "light"
          }
        }
      ],
      "source": [
        "fig, axes = plt.subplots(figsize=(10, 4), ncols=2)\n",
        "sns.boxplot(y=\"length_words\", x=\"score\", data=reviews_df,\n",
        "            whis=[0, 100], width=.6, palette=\"vlag\", ax=axes[0])\n",
        "sns.boxplot(y=\"length_words\", x=\"sentiment\", data=reviews_df,\n",
        "            whis=[0, 100], width=.6, palette=\"vlag\", ax=axes[1])\n",
        "plt.show()"
      ]
    },
    {
      "cell_type": "markdown",
      "metadata": {
        "id": "n7n4Fg58Yu-P"
      },
      "source": [
        "Observation: Negative reviews tend to be longer than positive reviews."
      ]
    },
    {
      "cell_type": "code",
      "execution_count": 23,
      "metadata": {
        "colab": {
          "base_uri": "https://localhost:8080/",
          "height": 283
        },
        "id": "RYLqq7WetK79",
        "outputId": "e0d910d1-fb04-4c0b-99bd-ae816cee1ca6"
      },
      "outputs": [
        {
          "output_type": "execute_result",
          "data": {
            "text/plain": [
              "<AxesSubplot:ylabel='Frequency'>"
            ]
          },
          "metadata": {},
          "execution_count": 23
        },
        {
          "output_type": "display_data",
          "data": {
            "text/plain": [
              "<Figure size 432x288 with 1 Axes>"
            ],
            "image/png": "[encoded data removed]"
          },
          "metadata": {
            "needs_background": "light"
          }
        }
      ],
      "source": [
        "# Plot the histogram for the length\n",
        "reviews_df[\"length_char\"].plot(bins=100, kind=\"hist\")"
      ]
    },
    {
      "cell_type": "code",
      "execution_count": 24,
      "metadata": {
        "colab": {
          "base_uri": "https://localhost:8080/",
          "height": 300
        },
        "id": "bf22hdT0KFVs",
        "outputId": "2d78baa2-1ea3-4d6c-a491-e765b839ed4f"
      },
      "outputs": [
        {
          "output_type": "execute_result",
          "data": {
            "text/plain": [
              "         score  thumbsUpCount  sentiment  length_char  length_words\n",
              "count  9261.00        9261.00    9261.00      9261.00       9261.00\n",
              "mean      2.91           6.34       0.48        83.65         16.58\n",
              "std       1.88          46.47       0.50        80.93         15.79\n",
              "min       1.00           0.00       0.00        10.00          2.00\n",
              "25%       1.00           0.00       0.00        33.00          7.00\n",
              "50%       2.00           0.00       0.00        57.00         11.00\n",
              "75%       5.00           1.00       1.00       104.00         21.00\n",
              "max       5.00        2641.00       1.00       991.00        207.00"
            ],
            "text/html": [
              "\n",
              "  <div id=\"df-a682e611-1aa4-46b8-b14e-b81d2c3c7ba4\">\n",
              "    <div class=\"colab-df-container\">\n",
              "      <div>\n",
              "<style scoped>\n",
              "    .dataframe tbody tr th:only-of-type {\n",
              "        vertical-align: middle;\n",
              "    }\n",
              "\n",
              "    .dataframe tbody tr th {\n",
              "        vertical-align: top;\n",
              "    }\n",
              "\n",
              "    .dataframe thead th {\n",
              "        text-align: right;\n",
              "    }\n",
              "</style>\n",
              "<table border=\"1\" class=\"dataframe\">\n",
              "  <thead>\n",
              "    <tr style=\"text-align: right;\">\n",
              "      <th></th>\n",
              "      <th>score</th>\n",
              "      <th>thumbsUpCount</th>\n",
              "      <th>sentiment</th>\n",
              "      <th>length_char</th>\n",
              "      <th>length_words</th>\n",
              "    </tr>\n",
              "  </thead>\n",
              "  <tbody>\n",
              "    <tr>\n",
              "      <th>count</th>\n",
              "      <td>9261.00</td>\n",
              "      <td>9261.00</td>\n",
              "      <td>9261.00</td>\n",
              "      <td>9261.00</td>\n",
              "      <td>9261.00</td>\n",
              "    </tr>\n",
              "    <tr>\n",
              "      <th>mean</th>\n",
              "      <td>2.91</td>\n",
              "      <td>6.34</td>\n",
              "      <td>0.48</td>\n",
              "      <td>83.65</td>\n",
              "      <td>16.58</td>\n",
              "    </tr>\n",
              "    <tr>\n",
              "      <th>std</th>\n",
              "      <td>1.88</td>\n",
              "      <td>46.47</td>\n",
              "      <td>0.50</td>\n",
              "      <td>80.93</td>\n",
              "      <td>15.79</td>\n",
              "    </tr>\n",
              "    <tr>\n",
              "      <th>min</th>\n",
              "      <td>1.00</td>\n",
              "      <td>0.00</td>\n",
              "      <td>0.00</td>\n",
              "      <td>10.00</td>\n",
              "      <td>2.00</td>\n",
              "    </tr>\n",
              "    <tr>\n",
              "      <th>25%</th>\n",
              "      <td>1.00</td>\n",
              "      <td>0.00</td>\n",
              "      <td>0.00</td>\n",
              "      <td>33.00</td>\n",
              "      <td>7.00</td>\n",
              "    </tr>\n",
              "    <tr>\n",
              "      <th>50%</th>\n",
              "      <td>2.00</td>\n",
              "      <td>0.00</td>\n",
              "      <td>0.00</td>\n",
              "      <td>57.00</td>\n",
              "      <td>11.00</td>\n",
              "    </tr>\n",
              "    <tr>\n",
              "      <th>75%</th>\n",
              "      <td>5.00</td>\n",
              "      <td>1.00</td>\n",
              "      <td>1.00</td>\n",
              "      <td>104.00</td>\n",
              "      <td>21.00</td>\n",
              "    </tr>\n",
              "    <tr>\n",
              "      <th>max</th>\n",
              "      <td>5.00</td>\n",
              "      <td>2641.00</td>\n",
              "      <td>1.00</td>\n",
              "      <td>991.00</td>\n",
              "      <td>207.00</td>\n",
              "    </tr>\n",
              "  </tbody>\n",
              "</table>\n",
              "</div>\n",
              "      <button class=\"colab-df-convert\" onclick=\"convertToInteractive('df-a682e611-1aa4-46b8-b14e-b81d2c3c7ba4')\"\n",
              "              title=\"Convert this dataframe to an interactive table.\"\n",
              "              style=\"display:none;\">\n",
              "        \n",
              "  <svg xmlns=\"http://www.w3.org/2000/svg\" height=\"24px\"viewBox=\"0 0 24 24\"\n",
              "       width=\"24px\">\n",
              "    <path d=\"M0 0h24v24H0V0z\" fill=\"none\"/>\n",
              "    <path d=\"M18.56 5.44l.94 2.06.94-2.06 2.06-.94-2.06-.94-.94-2.06-.94 2.06-2.06.94zm-11 1L8.5 8.5l.94-2.06 2.06-.94-2.06-.94L8.5 2.5l-.94 2.06-2.06.94zm10 10l.94 2.06.94-2.06 2.06-.94-2.06-.94-.94-2.06-.94 2.06-2.06.94z\"/><path d=\"M17.41 7.96l-1.37-1.37c-.4-.4-.92-.59-1.43-.59-.52 0-1.04.2-1.43.59L10.3 9.45l-7.72 7.72c-.78.78-.78 2.05 0 2.83L4 21.41c.39.39.9.59 1.41.59.51 0 1.02-.2 1.41-.59l7.78-7.78 2.81-2.81c.8-.78.8-2.07 0-2.86zM5.41 20L4 18.59l7.72-7.72 1.47 1.35L5.41 20z\"/>\n",
              "  </svg>\n",
              "      </button>\n",
              "      \n",
              "  <style>\n",
              "    .colab-df-container {\n",
              "      display:flex;\n",
              "      flex-wrap:wrap;\n",
              "      gap: 12px;\n",
              "    }\n",
              "\n",
              "    .colab-df-convert {\n",
              "      background-color: #E8F0FE;\n",
              "      border: none;\n",
              "      border-radius: 50%;\n",
              "      cursor: pointer;\n",
              "      display: none;\n",
              "      fill: #1967D2;\n",
              "      height: 32px;\n",
              "      padding: 0 0 0 0;\n",
              "      width: 32px;\n",
              "    }\n",
              "\n",
              "    .colab-df-convert:hover {\n",
              "      background-color: #E2EBFA;\n",
              "      box-shadow: 0px 1px 2px rgba(60, 64, 67, 0.3), 0px 1px 3px 1px rgba(60, 64, 67, 0.15);\n",
              "      fill: #174EA6;\n",
              "    }\n",
              "\n",
              "    [theme=dark] .colab-df-convert {\n",
              "      background-color: #3B4455;\n",
              "      fill: #D2E3FC;\n",
              "    }\n",
              "\n",
              "    [theme=dark] .colab-df-convert:hover {\n",
              "      background-color: #434B5C;\n",
              "      box-shadow: 0px 1px 3px 1px rgba(0, 0, 0, 0.15);\n",
              "      filter: drop-shadow(0px 1px 2px rgba(0, 0, 0, 0.3));\n",
              "      fill: #FFFFFF;\n",
              "    }\n",
              "  </style>\n",
              "\n",
              "      <script>\n",
              "        const buttonEl =\n",
              "          document.querySelector('#df-a682e611-1aa4-46b8-b14e-b81d2c3c7ba4 button.colab-df-convert');\n",
              "        buttonEl.style.display =\n",
              "          google.colab.kernel.accessAllowed ? 'block' : 'none';\n",
              "\n",
              "        async function convertToInteractive(key) {\n",
              "          const element = document.querySelector('#df-a682e611-1aa4-46b8-b14e-b81d2c3c7ba4');\n",
              "          const dataTable =\n",
              "            await google.colab.kernel.invokeFunction('convertToInteractive',\n",
              "                                                     [key], {});\n",
              "          if (!dataTable) return;\n",
              "\n",
              "          const docLinkHtml = 'Like what you see? Visit the ' +\n",
              "            '<a target=\"_blank\" href=https://colab.research.google.com/notebooks/data_table.ipynb>data table notebook</a>'\n",
              "            + ' to learn more about interactive tables.';\n",
              "          element.innerHTML = '';\n",
              "          dataTable['output_type'] = 'display_data';\n",
              "          await google.colab.output.renderOutput(dataTable, element);\n",
              "          const docLink = document.createElement('div');\n",
              "          docLink.innerHTML = docLinkHtml;\n",
              "          element.appendChild(docLink);\n",
              "        }\n",
              "      </script>\n",
              "    </div>\n",
              "  </div>\n",
              "  "
            ]
          },
          "metadata": {},
          "execution_count": 24
        }
      ],
      "source": [
        "# Apply the describe method to get statistical summary\n",
        "reviews_df.describe().round(2)"
      ]
    },
    {
      "cell_type": "markdown",
      "metadata": {
        "id": "Y0GmpAjG3GiH"
      },
      "source": [
        "# IV. Text Preprocessing"
      ]
    },
    {
      "cell_type": "code",
      "execution_count": 26,
      "metadata": {
        "id": "eo9pQOn1pLFT"
      },
      "outputs": [],
      "source": [
        "negative_stopwords = [\n",
        "    ' no', ' nor', 'not', 'only', 'dont', ' aint', 'arent', 'couldnt', 'didnt',\n",
        "    'doesnt', 'hadnt', 'hasnt', 'havent', 'isnt', 'shouldnt', 'wasnt', 'werent',\n",
        "     'wont', 'wouldnt']"
      ]
    },
    {
      "cell_type": "code",
      "execution_count": 27,
      "metadata": {
        "id": "3zTuguOc-f14"
      },
      "outputs": [],
      "source": [
        "def remove_punctuation(message):\n",
        "  punc_removed = \"\".join(\n",
        "      [char for char in message if char not in punctuation])\n",
        "  return punc_removed"
      ]
    },
    {
      "cell_type": "code",
      "execution_count": 28,
      "metadata": {
        "id": "NhCddXWRAgHN"
      },
      "outputs": [],
      "source": [
        "def combine_negative_sw(message):\n",
        "  for nsw in negative_stopwords:\n",
        "    message = message.replace(nsw + \" \", nsw + \"XncX\")\n",
        "  return message"
      ]
    },
    {
      "cell_type": "code",
      "execution_count": 29,
      "metadata": {
        "id": "L2NNykxrC_io"
      },
      "outputs": [],
      "source": [
        "def remove_stopwords_lc(word_list):\n",
        "  filtered_words = [\n",
        "      word for word in word_list \n",
        "      if word not in stopwords.words('english')]\n",
        "  return filtered_words"
      ]
    },
    {
      "cell_type": "code",
      "execution_count": 30,
      "metadata": {
        "id": "8TbaQ0oHE8i4"
      },
      "outputs": [],
      "source": [
        "def get_bigrams(word_list):\n",
        "  bigrams = [\n",
        "      \"_\".join([word_list[i], word_list[i+1]]) \n",
        "      for i in range(len(word_list) - 1)]\n",
        "  return bigrams"
      ]
    },
    {
      "cell_type": "code",
      "execution_count": 31,
      "metadata": {
        "id": "w3R1hceCGIaq"
      },
      "outputs": [],
      "source": [
        "def get_bigrams_no_double_sw(word_list):\n",
        "  sw_inds = [\n",
        "      ind for ind in range(len(word_list)) \n",
        "      if word_list[ind] in stopwords.words('english')]\n",
        "  double_sw_inds = [ind for ind in sw_inds if ind+1 in sw_inds]\n",
        "  bigrams = [\n",
        "      \"_\".join([word_list[i], word_list[i+1]]) \n",
        "      for i in range(len(word_list) - 1) if i not in double_sw_inds]\n",
        "  return bigrams"
      ]
    },
    {
      "cell_type": "code",
      "execution_count": 32,
      "metadata": {
        "id": "qrpm8RMlH13E"
      },
      "outputs": [],
      "source": [
        "def get_bigrams_no_sw(word_list):\n",
        "  non_sw_inds = [\n",
        "      ind for ind in range(len(word_list)) \n",
        "      if word_list[ind] not in stopwords.words('english')]\n",
        "  bigrams = [\n",
        "      \"_\".join([word_list[i], word_list[i+1]]) \n",
        "      for i in non_sw_inds if i+1 in non_sw_inds]\n",
        "  return bigrams"
      ]
    },
    {
      "cell_type": "code",
      "execution_count": 33,
      "metadata": {
        "id": "P19PBzz5llpr"
      },
      "outputs": [],
      "source": [
        "def get_trigrams(word_list):\n",
        "  trigrams = [\n",
        "      \"_\".join(word_list[i: i+3])  \n",
        "      for i in range(len(word_list) - 2)]\n",
        "  return trigrams"
      ]
    },
    {
      "cell_type": "code",
      "execution_count": 34,
      "metadata": {
        "id": "pFRM0oHXmdWO"
      },
      "outputs": [],
      "source": [
        "def get_trigrams_no_triple_sw(word_list):\n",
        "  sw_inds = [\n",
        "      ind for ind in range(len(word_list)) \n",
        "      if word_list[ind] in stopwords.words('english')]\n",
        "  triple_sw_inds = [ind for ind in sw_inds \n",
        "                    if (ind+1 in sw_inds) and (ind+2 in sw_inds)]\n",
        "  trigrams = [\n",
        "      \"_\".join(word_list[i: i+3]) for i in range(len(word_list) - 2) \n",
        "      if i not in triple_sw_inds]\n",
        "  return trigrams"
      ]
    },
    {
      "cell_type": "code",
      "execution_count": 35,
      "metadata": {
        "id": "hqvGO_BUAGYS"
      },
      "outputs": [],
      "source": [
        "reviews_df[\"rev_no_punc\"] = reviews_df[\"content\"].apply(\n",
        "    lambda x: x.replace(\"+\", \"plus\"))\n",
        "reviews_df[\"rev_no_punc\"] = reviews_df[\"rev_no_punc\"].str.lower().apply(\n",
        "    remove_punctuation)\n",
        "reviews_df[\"rev_neg_comb\"] = reviews_df[\"rev_no_punc\"].apply(\n",
        "    combine_negative_sw)"
      ]
    },
    {
      "cell_type": "code",
      "execution_count": 36,
      "metadata": {
        "id": "_0BFQb75AxmY"
      },
      "outputs": [],
      "source": [
        "reviews_df[\"unigrams\"] = reviews_df[\"rev_no_punc\"].str.split()\n",
        "reviews_df[\"unigrams_nosw\"] = reviews_df[\"unigrams\"].apply(\n",
        "    remove_stopwords_lc)"
      ]
    },
    {
      "cell_type": "code",
      "execution_count": 37,
      "metadata": {
        "id": "_MCARXV-BTYu"
      },
      "outputs": [],
      "source": [
        "reviews_df[\"unigrams_nc\"] = reviews_df[\"rev_neg_comb\"].str.split()\n",
        "reviews_df[\"unigrams_nosw_nc\"] = reviews_df[\"unigrams_nc\"].apply(\n",
        "    remove_stopwords_lc)"
      ]
    },
    {
      "cell_type": "code",
      "execution_count": 38,
      "metadata": {
        "id": "xCcUEdl0BvoX"
      },
      "outputs": [],
      "source": [
        "reviews_df[\"bigrams\"] = reviews_df[\"unigrams\"].apply(get_bigrams)\n",
        "reviews_df[\"bigrams_nodblsw\"] = reviews_df[\"unigrams\"].apply(\n",
        "    get_bigrams_no_double_sw)\n",
        "reviews_df[\"bigrams_nosw\"] = reviews_df[\"unigrams\"].apply(get_bigrams_no_sw)"
      ]
    },
    {
      "cell_type": "code",
      "execution_count": 39,
      "metadata": {
        "id": "0cfmf9-flUfW"
      },
      "outputs": [],
      "source": [
        "reviews_df[\"bigrams_nc\"] = reviews_df[\"unigrams_nc\"].apply(get_bigrams)\n",
        "reviews_df[\"bigrams_nodblsw_nc\"] = reviews_df[\"unigrams_nc\"].apply(\n",
        "    get_bigrams_no_double_sw)\n",
        "reviews_df[\"bigrams_nosw_nc\"] = reviews_df[\"unigrams_nc\"].apply(\n",
        "    get_bigrams_no_sw)"
      ]
    },
    {
      "cell_type": "code",
      "execution_count": 40,
      "metadata": {
        "id": "OjAuna-4l7on"
      },
      "outputs": [],
      "source": [
        "reviews_df[\"trigrams\"] = reviews_df[\"unigrams\"].apply(get_trigrams)\n",
        "reviews_df[\"trigrams_nc\"] = reviews_df[\"unigrams_nc\"].apply(get_trigrams)"
      ]
    },
    {
      "cell_type": "code",
      "execution_count": 41,
      "metadata": {
        "id": "7qgJsHLfn-KB"
      },
      "outputs": [],
      "source": [
        "reviews_df[\"trigrams_notplsw_nc\"] = reviews_df[\"unigrams_nc\"].apply(\n",
        "    get_trigrams)\n"
      ]
    },
    {
      "cell_type": "code",
      "execution_count": 42,
      "metadata": {
        "id": "NUSUKuJZikFK"
      },
      "outputs": [],
      "source": [
        "reviews_df = reviews_df[reviews_df[\"unigrams\"].apply(len) > 0].copy()"
      ]
    },
    {
      "cell_type": "code",
      "execution_count": 43,
      "metadata": {
        "id": "8GigNBjMmgWS"
      },
      "outputs": [],
      "source": [
        "gram_cols = [\n",
        "    'unigrams_nosw', 'unigrams_nc', 'unigrams_nosw_nc', 'bigrams',\n",
        "    'bigrams_nodblsw', 'bigrams_nosw', 'bigrams_nc', 'bigrams_nodblsw_nc',\n",
        "    'bigrams_nosw_nc', 'trigrams', 'trigrams_nc', 'trigrams_notplsw_nc']\n",
        "\n",
        "for c in gram_cols:\n",
        "  reviews_df[c + \"_is_zero\"] = reviews_df[c].apply(lambda x: len(x) == 0)"
      ]
    },
    {
      "cell_type": "code",
      "execution_count": 44,
      "metadata": {
        "id": "KEU8esmRglps"
      },
      "outputs": [],
      "source": [
        "gram_zero_cols = [c + \"_is_zero\" for c in gram_cols]"
      ]
    },
    {
      "cell_type": "code",
      "execution_count": 45,
      "metadata": {
        "id": "ng1PUhCagCA6"
      },
      "outputs": [],
      "source": [
        "zero_cts = reviews_df.groupby(gram_zero_cols)[\"sentiment\"].count().reset_index()"
      ]
    },
    {
      "cell_type": "code",
      "execution_count": 46,
      "metadata": {
        "id": "6WhmwxoShYpI"
      },
      "outputs": [],
      "source": [
        "zero_cts = zero_cts.rename(\n",
        "    columns={c: c.replace(\"_is_zero\", \"\").replace(\"_\", \" \") \n",
        "    for c in gram_zero_cols})"
      ]
    },
    {
      "cell_type": "code",
      "execution_count": 47,
      "metadata": {
        "colab": {
          "base_uri": "https://localhost:8080/",
          "height": 524
        },
        "id": "kKGwmhTHas0W",
        "outputId": "364fb9a7-4eee-4b01-81be-d452a607141b"
      },
      "outputs": [
        {
          "output_type": "execute_result",
          "data": {
            "text/plain": [
              "    unigrams nosw  unigrams nc  unigrams nosw nc  bigrams  bigrams nodblsw  \\\n",
              "0           False        False             False    False            False   \n",
              "1           False        False             False    False            False   \n",
              "2           False        False             False    False            False   \n",
              "3           False        False             False    False            False   \n",
              "4           False        False             False    False            False   \n",
              "5           False        False             False    False            False   \n",
              "6           False        False             False    False            False   \n",
              "7           False        False             False    False            False   \n",
              "8           False        False             False    False            False   \n",
              "9           False        False             False    False            False   \n",
              "10          False        False             False    False            False   \n",
              "11          False        False             False    False            False   \n",
              "\n",
              "    bigrams nosw  bigrams nc  bigrams nodblsw nc  bigrams nosw nc  trigrams  \\\n",
              "0          False       False               False            False     False   \n",
              "1          False       False               False            False     False   \n",
              "2          False       False               False            False      True   \n",
              "3          False       False               False             True     False   \n",
              "4          False       False               False             True     False   \n",
              "5          False        True                True             True     False   \n",
              "6          False        True                True             True      True   \n",
              "7           True       False               False            False     False   \n",
              "8           True       False               False            False     False   \n",
              "9           True       False               False             True     False   \n",
              "10          True       False               False             True     False   \n",
              "11          True       False               False             True      True   \n",
              "\n",
              "    trigrams nc  trigrams notplsw nc  sentiment  \n",
              "0         False                False       7904  \n",
              "1          True                 True         21  \n",
              "2          True                 True          4  \n",
              "3         False                False         88  \n",
              "4          True                 True         11  \n",
              "5          True                 True          1  \n",
              "6          True                 True          9  \n",
              "7         False                False         41  \n",
              "8          True                 True          3  \n",
              "9         False                False       1157  \n",
              "10         True                 True         15  \n",
              "11         True                 True          7  "
            ],
            "text/html": [
              "\n",
              "  <div id=\"df-6637b221-a049-4a87-8f73-b56b8ae88cfb\">\n",
              "    <div class=\"colab-df-container\">\n",
              "      <div>\n",
              "<style scoped>\n",
              "    .dataframe tbody tr th:only-of-type {\n",
              "        vertical-align: middle;\n",
              "    }\n",
              "\n",
              "    .dataframe tbody tr th {\n",
              "        vertical-align: top;\n",
              "    }\n",
              "\n",
              "    .dataframe thead th {\n",
              "        text-align: right;\n",
              "    }\n",
              "</style>\n",
              "<table border=\"1\" class=\"dataframe\">\n",
              "  <thead>\n",
              "    <tr style=\"text-align: right;\">\n",
              "      <th></th>\n",
              "      <th>unigrams nosw</th>\n",
              "      <th>unigrams nc</th>\n",
              "      <th>unigrams nosw nc</th>\n",
              "      <th>bigrams</th>\n",
              "      <th>bigrams nodblsw</th>\n",
              "      <th>bigrams nosw</th>\n",
              "      <th>bigrams nc</th>\n",
              "      <th>bigrams nodblsw nc</th>\n",
              "      <th>bigrams nosw nc</th>\n",
              "      <th>trigrams</th>\n",
              "      <th>trigrams nc</th>\n",
              "      <th>trigrams notplsw nc</th>\n",
              "      <th>sentiment</th>\n",
              "    </tr>\n",
              "  </thead>\n",
              "  <tbody>\n",
              "    <tr>\n",
              "      <th>0</th>\n",
              "      <td>False</td>\n",
              "      <td>False</td>\n",
              "      <td>False</td>\n",
              "      <td>False</td>\n",
              "      <td>False</td>\n",
              "      <td>False</td>\n",
              "      <td>False</td>\n",
              "      <td>False</td>\n",
              "      <td>False</td>\n",
              "      <td>False</td>\n",
              "      <td>False</td>\n",
              "      <td>False</td>\n",
              "      <td>7904</td>\n",
              "    </tr>\n",
              "    <tr>\n",
              "      <th>1</th>\n",
              "      <td>False</td>\n",
              "      <td>False</td>\n",
              "      <td>False</td>\n",
              "      <td>False</td>\n",
              "      <td>False</td>\n",
              "      <td>False</td>\n",
              "      <td>False</td>\n",
              "      <td>False</td>\n",
              "      <td>False</td>\n",
              "      <td>False</td>\n",
              "      <td>True</td>\n",
              "      <td>True</td>\n",
              "      <td>21</td>\n",
              "    </tr>\n",
              "    <tr>\n",
              "      <th>2</th>\n",
              "      <td>False</td>\n",
              "      <td>False</td>\n",
              "      <td>False</td>\n",
              "      <td>False</td>\n",
              "      <td>False</td>\n",
              "      <td>False</td>\n",
              "      <td>False</td>\n",
              "      <td>False</td>\n",
              "      <td>False</td>\n",
              "      <td>True</td>\n",
              "      <td>True</td>\n",
              "      <td>True</td>\n",
              "      <td>4</td>\n",
              "    </tr>\n",
              "    <tr>\n",
              "      <th>3</th>\n",
              "      <td>False</td>\n",
              "      <td>False</td>\n",
              "      <td>False</td>\n",
              "      <td>False</td>\n",
              "      <td>False</td>\n",
              "      <td>False</td>\n",
              "      <td>False</td>\n",
              "      <td>False</td>\n",
              "      <td>True</td>\n",
              "      <td>False</td>\n",
              "      <td>False</td>\n",
              "      <td>False</td>\n",
              "      <td>88</td>\n",
              "    </tr>\n",
              "    <tr>\n",
              "      <th>4</th>\n",
              "      <td>False</td>\n",
              "      <td>False</td>\n",
              "      <td>False</td>\n",
              "      <td>False</td>\n",
              "      <td>False</td>\n",
              "      <td>False</td>\n",
              "      <td>False</td>\n",
              "      <td>False</td>\n",
              "      <td>True</td>\n",
              "      <td>False</td>\n",
              "      <td>True</td>\n",
              "      <td>True</td>\n",
              "      <td>11</td>\n",
              "    </tr>\n",
              "    <tr>\n",
              "      <th>5</th>\n",
              "      <td>False</td>\n",
              "      <td>False</td>\n",
              "      <td>False</td>\n",
              "      <td>False</td>\n",
              "      <td>False</td>\n",
              "      <td>False</td>\n",
              "      <td>True</td>\n",
              "      <td>True</td>\n",
              "      <td>True</td>\n",
              "      <td>False</td>\n",
              "      <td>True</td>\n",
              "      <td>True</td>\n",
              "      <td>1</td>\n",
              "    </tr>\n",
              "    <tr>\n",
              "      <th>6</th>\n",
              "      <td>False</td>\n",
              "      <td>False</td>\n",
              "      <td>False</td>\n",
              "      <td>False</td>\n",
              "      <td>False</td>\n",
              "      <td>False</td>\n",
              "      <td>True</td>\n",
              "      <td>True</td>\n",
              "      <td>True</td>\n",
              "      <td>True</td>\n",
              "      <td>True</td>\n",
              "      <td>True</td>\n",
              "      <td>9</td>\n",
              "    </tr>\n",
              "    <tr>\n",
              "      <th>7</th>\n",
              "      <td>False</td>\n",
              "      <td>False</td>\n",
              "      <td>False</td>\n",
              "      <td>False</td>\n",
              "      <td>False</td>\n",
              "      <td>True</td>\n",
              "      <td>False</td>\n",
              "      <td>False</td>\n",
              "      <td>False</td>\n",
              "      <td>False</td>\n",
              "      <td>False</td>\n",
              "      <td>False</td>\n",
              "      <td>41</td>\n",
              "    </tr>\n",
              "    <tr>\n",
              "      <th>8</th>\n",
              "      <td>False</td>\n",
              "      <td>False</td>\n",
              "      <td>False</td>\n",
              "      <td>False</td>\n",
              "      <td>False</td>\n",
              "      <td>True</td>\n",
              "      <td>False</td>\n",
              "      <td>False</td>\n",
              "      <td>False</td>\n",
              "      <td>False</td>\n",
              "      <td>True</td>\n",
              "      <td>True</td>\n",
              "      <td>3</td>\n",
              "    </tr>\n",
              "    <tr>\n",
              "      <th>9</th>\n",
              "      <td>False</td>\n",
              "      <td>False</td>\n",
              "      <td>False</td>\n",
              "      <td>False</td>\n",
              "      <td>False</td>\n",
              "      <td>True</td>\n",
              "      <td>False</td>\n",
              "      <td>False</td>\n",
              "      <td>True</td>\n",
              "      <td>False</td>\n",
              "      <td>False</td>\n",
              "      <td>False</td>\n",
              "      <td>1157</td>\n",
              "    </tr>\n",
              "    <tr>\n",
              "      <th>10</th>\n",
              "      <td>False</td>\n",
              "      <td>False</td>\n",
              "      <td>False</td>\n",
              "      <td>False</td>\n",
              "      <td>False</td>\n",
              "      <td>True</td>\n",
              "      <td>False</td>\n",
              "      <td>False</td>\n",
              "      <td>True</td>\n",
              "      <td>False</td>\n",
              "      <td>True</td>\n",
              "      <td>True</td>\n",
              "      <td>15</td>\n",
              "    </tr>\n",
              "    <tr>\n",
              "      <th>11</th>\n",
              "      <td>False</td>\n",
              "      <td>False</td>\n",
              "      <td>False</td>\n",
              "      <td>False</td>\n",
              "      <td>False</td>\n",
              "      <td>True</td>\n",
              "      <td>False</td>\n",
              "      <td>False</td>\n",
              "      <td>True</td>\n",
              "      <td>True</td>\n",
              "      <td>True</td>\n",
              "      <td>True</td>\n",
              "      <td>7</td>\n",
              "    </tr>\n",
              "  </tbody>\n",
              "</table>\n",
              "</div>\n",
              "      <button class=\"colab-df-convert\" onclick=\"convertToInteractive('df-6637b221-a049-4a87-8f73-b56b8ae88cfb')\"\n",
              "              title=\"Convert this dataframe to an interactive table.\"\n",
              "              style=\"display:none;\">\n",
              "        \n",
              "  <svg xmlns=\"http://www.w3.org/2000/svg\" height=\"24px\"viewBox=\"0 0 24 24\"\n",
              "       width=\"24px\">\n",
              "    <path d=\"M0 0h24v24H0V0z\" fill=\"none\"/>\n",
              "    <path d=\"M18.56 5.44l.94 2.06.94-2.06 2.06-.94-2.06-.94-.94-2.06-.94 2.06-2.06.94zm-11 1L8.5 8.5l.94-2.06 2.06-.94-2.06-.94L8.5 2.5l-.94 2.06-2.06.94zm10 10l.94 2.06.94-2.06 2.06-.94-2.06-.94-.94-2.06-.94 2.06-2.06.94z\"/><path d=\"M17.41 7.96l-1.37-1.37c-.4-.4-.92-.59-1.43-.59-.52 0-1.04.2-1.43.59L10.3 9.45l-7.72 7.72c-.78.78-.78 2.05 0 2.83L4 21.41c.39.39.9.59 1.41.59.51 0 1.02-.2 1.41-.59l7.78-7.78 2.81-2.81c.8-.78.8-2.07 0-2.86zM5.41 20L4 18.59l7.72-7.72 1.47 1.35L5.41 20z\"/>\n",
              "  </svg>\n",
              "      </button>\n",
              "      \n",
              "  <style>\n",
              "    .colab-df-container {\n",
              "      display:flex;\n",
              "      flex-wrap:wrap;\n",
              "      gap: 12px;\n",
              "    }\n",
              "\n",
              "    .colab-df-convert {\n",
              "      background-color: #E8F0FE;\n",
              "      border: none;\n",
              "      border-radius: 50%;\n",
              "      cursor: pointer;\n",
              "      display: none;\n",
              "      fill: #1967D2;\n",
              "      height: 32px;\n",
              "      padding: 0 0 0 0;\n",
              "      width: 32px;\n",
              "    }\n",
              "\n",
              "    .colab-df-convert:hover {\n",
              "      background-color: #E2EBFA;\n",
              "      box-shadow: 0px 1px 2px rgba(60, 64, 67, 0.3), 0px 1px 3px 1px rgba(60, 64, 67, 0.15);\n",
              "      fill: #174EA6;\n",
              "    }\n",
              "\n",
              "    [theme=dark] .colab-df-convert {\n",
              "      background-color: #3B4455;\n",
              "      fill: #D2E3FC;\n",
              "    }\n",
              "\n",
              "    [theme=dark] .colab-df-convert:hover {\n",
              "      background-color: #434B5C;\n",
              "      box-shadow: 0px 1px 3px 1px rgba(0, 0, 0, 0.15);\n",
              "      filter: drop-shadow(0px 1px 2px rgba(0, 0, 0, 0.3));\n",
              "      fill: #FFFFFF;\n",
              "    }\n",
              "  </style>\n",
              "\n",
              "      <script>\n",
              "        const buttonEl =\n",
              "          document.querySelector('#df-6637b221-a049-4a87-8f73-b56b8ae88cfb button.colab-df-convert');\n",
              "        buttonEl.style.display =\n",
              "          google.colab.kernel.accessAllowed ? 'block' : 'none';\n",
              "\n",
              "        async function convertToInteractive(key) {\n",
              "          const element = document.querySelector('#df-6637b221-a049-4a87-8f73-b56b8ae88cfb');\n",
              "          const dataTable =\n",
              "            await google.colab.kernel.invokeFunction('convertToInteractive',\n",
              "                                                     [key], {});\n",
              "          if (!dataTable) return;\n",
              "\n",
              "          const docLinkHtml = 'Like what you see? Visit the ' +\n",
              "            '<a target=\"_blank\" href=https://colab.research.google.com/notebooks/data_table.ipynb>data table notebook</a>'\n",
              "            + ' to learn more about interactive tables.';\n",
              "          element.innerHTML = '';\n",
              "          dataTable['output_type'] = 'display_data';\n",
              "          await google.colab.output.renderOutput(dataTable, element);\n",
              "          const docLink = document.createElement('div');\n",
              "          docLink.innerHTML = docLinkHtml;\n",
              "          element.appendChild(docLink);\n",
              "        }\n",
              "      </script>\n",
              "    </div>\n",
              "  </div>\n",
              "  "
            ]
          },
          "metadata": {},
          "execution_count": 47
        }
      ],
      "source": [
        "zero_cts"
      ]
    },
    {
      "cell_type": "code",
      "execution_count": 48,
      "metadata": {
        "colab": {
          "base_uri": "https://localhost:8080/",
          "height": 486
        },
        "id": "_LEd8w-SaKjo",
        "outputId": "341c996b-b4ad-4578-9ed5-3bcc768aebf7"
      },
      "outputs": [
        {
          "output_type": "execute_result",
          "data": {
            "text/plain": [
              "    bigrams nosw  bigrams nc  bigrams nodblsw nc  bigrams nosw nc  trigrams  \\\n",
              "0          False       False               False            False     False   \n",
              "1          False       False               False            False     False   \n",
              "2          False       False               False            False      True   \n",
              "3          False       False               False             True     False   \n",
              "4          False       False               False             True     False   \n",
              "5          False        True                True             True     False   \n",
              "6          False        True                True             True      True   \n",
              "7           True       False               False            False     False   \n",
              "8           True       False               False            False     False   \n",
              "9           True       False               False             True     False   \n",
              "10          True       False               False             True     False   \n",
              "11          True       False               False             True      True   \n",
              "\n",
              "    trigrams nc  trigrams notplsw nc  sentiment  \n",
              "0         False                False       7904  \n",
              "1          True                 True         21  \n",
              "2          True                 True          4  \n",
              "3         False                False         88  \n",
              "4          True                 True         11  \n",
              "5          True                 True          1  \n",
              "6          True                 True          9  \n",
              "7         False                False         41  \n",
              "8          True                 True          3  \n",
              "9         False                False       1157  \n",
              "10         True                 True         15  \n",
              "11         True                 True          7  "
            ],
            "text/html": [
              "\n",
              "  <div id=\"df-e5cc14a7-18ab-429e-9d5c-0db7e956972e\">\n",
              "    <div class=\"colab-df-container\">\n",
              "      <div>\n",
              "<style scoped>\n",
              "    .dataframe tbody tr th:only-of-type {\n",
              "        vertical-align: middle;\n",
              "    }\n",
              "\n",
              "    .dataframe tbody tr th {\n",
              "        vertical-align: top;\n",
              "    }\n",
              "\n",
              "    .dataframe thead th {\n",
              "        text-align: right;\n",
              "    }\n",
              "</style>\n",
              "<table border=\"1\" class=\"dataframe\">\n",
              "  <thead>\n",
              "    <tr style=\"text-align: right;\">\n",
              "      <th></th>\n",
              "      <th>bigrams nosw</th>\n",
              "      <th>bigrams nc</th>\n",
              "      <th>bigrams nodblsw nc</th>\n",
              "      <th>bigrams nosw nc</th>\n",
              "      <th>trigrams</th>\n",
              "      <th>trigrams nc</th>\n",
              "      <th>trigrams notplsw nc</th>\n",
              "      <th>sentiment</th>\n",
              "    </tr>\n",
              "  </thead>\n",
              "  <tbody>\n",
              "    <tr>\n",
              "      <th>0</th>\n",
              "      <td>False</td>\n",
              "      <td>False</td>\n",
              "      <td>False</td>\n",
              "      <td>False</td>\n",
              "      <td>False</td>\n",
              "      <td>False</td>\n",
              "      <td>False</td>\n",
              "      <td>7904</td>\n",
              "    </tr>\n",
              "    <tr>\n",
              "      <th>1</th>\n",
              "      <td>False</td>\n",
              "      <td>False</td>\n",
              "      <td>False</td>\n",
              "      <td>False</td>\n",
              "      <td>False</td>\n",
              "      <td>True</td>\n",
              "      <td>True</td>\n",
              "      <td>21</td>\n",
              "    </tr>\n",
              "    <tr>\n",
              "      <th>2</th>\n",
              "      <td>False</td>\n",
              "      <td>False</td>\n",
              "      <td>False</td>\n",
              "      <td>False</td>\n",
              "      <td>True</td>\n",
              "      <td>True</td>\n",
              "      <td>True</td>\n",
              "      <td>4</td>\n",
              "    </tr>\n",
              "    <tr>\n",
              "      <th>3</th>\n",
              "      <td>False</td>\n",
              "      <td>False</td>\n",
              "      <td>False</td>\n",
              "      <td>True</td>\n",
              "      <td>False</td>\n",
              "      <td>False</td>\n",
              "      <td>False</td>\n",
              "      <td>88</td>\n",
              "    </tr>\n",
              "    <tr>\n",
              "      <th>4</th>\n",
              "      <td>False</td>\n",
              "      <td>False</td>\n",
              "      <td>False</td>\n",
              "      <td>True</td>\n",
              "      <td>False</td>\n",
              "      <td>True</td>\n",
              "      <td>True</td>\n",
              "      <td>11</td>\n",
              "    </tr>\n",
              "    <tr>\n",
              "      <th>5</th>\n",
              "      <td>False</td>\n",
              "      <td>True</td>\n",
              "      <td>True</td>\n",
              "      <td>True</td>\n",
              "      <td>False</td>\n",
              "      <td>True</td>\n",
              "      <td>True</td>\n",
              "      <td>1</td>\n",
              "    </tr>\n",
              "    <tr>\n",
              "      <th>6</th>\n",
              "      <td>False</td>\n",
              "      <td>True</td>\n",
              "      <td>True</td>\n",
              "      <td>True</td>\n",
              "      <td>True</td>\n",
              "      <td>True</td>\n",
              "      <td>True</td>\n",
              "      <td>9</td>\n",
              "    </tr>\n",
              "    <tr>\n",
              "      <th>7</th>\n",
              "      <td>True</td>\n",
              "      <td>False</td>\n",
              "      <td>False</td>\n",
              "      <td>False</td>\n",
              "      <td>False</td>\n",
              "      <td>False</td>\n",
              "      <td>False</td>\n",
              "      <td>41</td>\n",
              "    </tr>\n",
              "    <tr>\n",
              "      <th>8</th>\n",
              "      <td>True</td>\n",
              "      <td>False</td>\n",
              "      <td>False</td>\n",
              "      <td>False</td>\n",
              "      <td>False</td>\n",
              "      <td>True</td>\n",
              "      <td>True</td>\n",
              "      <td>3</td>\n",
              "    </tr>\n",
              "    <tr>\n",
              "      <th>9</th>\n",
              "      <td>True</td>\n",
              "      <td>False</td>\n",
              "      <td>False</td>\n",
              "      <td>True</td>\n",
              "      <td>False</td>\n",
              "      <td>False</td>\n",
              "      <td>False</td>\n",
              "      <td>1157</td>\n",
              "    </tr>\n",
              "    <tr>\n",
              "      <th>10</th>\n",
              "      <td>True</td>\n",
              "      <td>False</td>\n",
              "      <td>False</td>\n",
              "      <td>True</td>\n",
              "      <td>False</td>\n",
              "      <td>True</td>\n",
              "      <td>True</td>\n",
              "      <td>15</td>\n",
              "    </tr>\n",
              "    <tr>\n",
              "      <th>11</th>\n",
              "      <td>True</td>\n",
              "      <td>False</td>\n",
              "      <td>False</td>\n",
              "      <td>True</td>\n",
              "      <td>True</td>\n",
              "      <td>True</td>\n",
              "      <td>True</td>\n",
              "      <td>7</td>\n",
              "    </tr>\n",
              "  </tbody>\n",
              "</table>\n",
              "</div>\n",
              "      <button class=\"colab-df-convert\" onclick=\"convertToInteractive('df-e5cc14a7-18ab-429e-9d5c-0db7e956972e')\"\n",
              "              title=\"Convert this dataframe to an interactive table.\"\n",
              "              style=\"display:none;\">\n",
              "        \n",
              "  <svg xmlns=\"http://www.w3.org/2000/svg\" height=\"24px\"viewBox=\"0 0 24 24\"\n",
              "       width=\"24px\">\n",
              "    <path d=\"M0 0h24v24H0V0z\" fill=\"none\"/>\n",
              "    <path d=\"M18.56 5.44l.94 2.06.94-2.06 2.06-.94-2.06-.94-.94-2.06-.94 2.06-2.06.94zm-11 1L8.5 8.5l.94-2.06 2.06-.94-2.06-.94L8.5 2.5l-.94 2.06-2.06.94zm10 10l.94 2.06.94-2.06 2.06-.94-2.06-.94-.94-2.06-.94 2.06-2.06.94z\"/><path d=\"M17.41 7.96l-1.37-1.37c-.4-.4-.92-.59-1.43-.59-.52 0-1.04.2-1.43.59L10.3 9.45l-7.72 7.72c-.78.78-.78 2.05 0 2.83L4 21.41c.39.39.9.59 1.41.59.51 0 1.02-.2 1.41-.59l7.78-7.78 2.81-2.81c.8-.78.8-2.07 0-2.86zM5.41 20L4 18.59l7.72-7.72 1.47 1.35L5.41 20z\"/>\n",
              "  </svg>\n",
              "      </button>\n",
              "      \n",
              "  <style>\n",
              "    .colab-df-container {\n",
              "      display:flex;\n",
              "      flex-wrap:wrap;\n",
              "      gap: 12px;\n",
              "    }\n",
              "\n",
              "    .colab-df-convert {\n",
              "      background-color: #E8F0FE;\n",
              "      border: none;\n",
              "      border-radius: 50%;\n",
              "      cursor: pointer;\n",
              "      display: none;\n",
              "      fill: #1967D2;\n",
              "      height: 32px;\n",
              "      padding: 0 0 0 0;\n",
              "      width: 32px;\n",
              "    }\n",
              "\n",
              "    .colab-df-convert:hover {\n",
              "      background-color: #E2EBFA;\n",
              "      box-shadow: 0px 1px 2px rgba(60, 64, 67, 0.3), 0px 1px 3px 1px rgba(60, 64, 67, 0.15);\n",
              "      fill: #174EA6;\n",
              "    }\n",
              "\n",
              "    [theme=dark] .colab-df-convert {\n",
              "      background-color: #3B4455;\n",
              "      fill: #D2E3FC;\n",
              "    }\n",
              "\n",
              "    [theme=dark] .colab-df-convert:hover {\n",
              "      background-color: #434B5C;\n",
              "      box-shadow: 0px 1px 3px 1px rgba(0, 0, 0, 0.15);\n",
              "      filter: drop-shadow(0px 1px 2px rgba(0, 0, 0, 0.3));\n",
              "      fill: #FFFFFF;\n",
              "    }\n",
              "  </style>\n",
              "\n",
              "      <script>\n",
              "        const buttonEl =\n",
              "          document.querySelector('#df-e5cc14a7-18ab-429e-9d5c-0db7e956972e button.colab-df-convert');\n",
              "        buttonEl.style.display =\n",
              "          google.colab.kernel.accessAllowed ? 'block' : 'none';\n",
              "\n",
              "        async function convertToInteractive(key) {\n",
              "          const element = document.querySelector('#df-e5cc14a7-18ab-429e-9d5c-0db7e956972e');\n",
              "          const dataTable =\n",
              "            await google.colab.kernel.invokeFunction('convertToInteractive',\n",
              "                                                     [key], {});\n",
              "          if (!dataTable) return;\n",
              "\n",
              "          const docLinkHtml = 'Like what you see? Visit the ' +\n",
              "            '<a target=\"_blank\" href=https://colab.research.google.com/notebooks/data_table.ipynb>data table notebook</a>'\n",
              "            + ' to learn more about interactive tables.';\n",
              "          element.innerHTML = '';\n",
              "          dataTable['output_type'] = 'display_data';\n",
              "          await google.colab.output.renderOutput(dataTable, element);\n",
              "          const docLink = document.createElement('div');\n",
              "          docLink.innerHTML = docLinkHtml;\n",
              "          element.appendChild(docLink);\n",
              "        }\n",
              "      </script>\n",
              "    </div>\n",
              "  </div>\n",
              "  "
            ]
          },
          "metadata": {},
          "execution_count": 48
        }
      ],
      "source": [
        "zero_cts[list(zero_cts)[5:]]"
      ]
    },
    {
      "cell_type": "code",
      "execution_count": 49,
      "metadata": {
        "id": "f7ZKJB6FpSu_"
      },
      "outputs": [],
      "source": [
        "temp_cols = [\n",
        " 'bigrams',\n",
        "  'bigrams nc',\n",
        "  'bigrams nosw nc',\n",
        " 'bigrams nosw',\n",
        " 'trigrams',\n",
        " 'trigrams nc',\n",
        " 'rating']"
      ]
    },
    {
      "cell_type": "code",
      "execution_count": 50,
      "metadata": {
        "id": "U_jS-myPdMdU"
      },
      "outputs": [],
      "source": [
        "for c in [\"bigrams_nc\", \"bigrams_nodblsw_nc\", \"bigrams_nosw_nc\"]:\n",
        "  reviews_df[c] = reviews_df[[\"bigrams\", c, c + \"_is_zero\"]].apply(\n",
        "      lambda row: row[c] if not row[c + \"_is_zero\"] else row[\"bigrams\"], axis=1)"
      ]
    },
    {
      "cell_type": "code",
      "execution_count": 51,
      "metadata": {
        "colab": {
          "base_uri": "https://localhost:8080/"
        },
        "id": "JhU3uAhXdxMF",
        "outputId": "86a24c97-9a4c-4af5-94bc-f0e0df796294"
      },
      "outputs": [
        {
          "output_type": "execute_result",
          "data": {
            "text/plain": [
              "0       [the_app, app_used, used_to, to_work, work_ver...\n",
              "1       [sends_full, full_resolution, resolution_vids,...\n",
              "2       [they_took, took_my, my_💰, 💰_money, money_4, 4...\n",
              "4       [please_dontXncXdo, dontXncXdo_anymore, anymor...\n",
              "5       [call_quality, quality_just, just_fine, fine_n...\n",
              "                              ...                        \n",
              "9994           [i_really, really_like, like_the, the_app]\n",
              "9995    [its_notXncXletting, notXncXletting_me, me_sig...\n",
              "9996    [i_am, am_looking, looking_for, for_women, wom...\n",
              "9997          [i_cant, cant_venify, venify_my, my_number]\n",
              "9998    [i_cannotXncXchange, cannotXncXchange_the, the...\n",
              "Length: 9261, dtype: object"
            ]
          },
          "metadata": {},
          "execution_count": 51
        }
      ],
      "source": [
        "reviews_df[[\"bigrams\", \"bigrams_nc\", \"bigrams_nc\" + \"_is_zero\"]].apply(\n",
        "    lambda row: row[\"bigrams_nc\"] if not row[\"bigrams_nc\" + \"_is_zero\"] else row[\"bigrams\"], axis=1)"
      ]
    },
    {
      "cell_type": "code",
      "execution_count": 52,
      "metadata": {
        "colab": {
          "base_uri": "https://localhost:8080/",
          "height": 362
        },
        "id": "1bryvXpacc6r",
        "outputId": "ec951b1f-f63e-46cf-887a-ba77d252b065"
      },
      "outputs": [
        {
          "output_type": "execute_result",
          "data": {
            "text/plain": [
              "              rev_no_punc                            bigrams  \\\n",
              "8156          doesnt work                      [doesnt_work]   \n",
              "8427          doesnt work                      [doesnt_work]   \n",
              "8428          doesnt work                      [doesnt_work]   \n",
              "8429          doesnt work                      [doesnt_work]   \n",
              "8430          doesnt work                      [doesnt_work]   \n",
              "8500          doesnt work                      [doesnt_work]   \n",
              "8501          doesnt work                      [doesnt_work]   \n",
              "9054           didnt work                       [didnt_work]   \n",
              "9557            wont work                        [wont_work]   \n",
              "9652  not workingnot goid  [not_workingnot, workingnot_goid]   \n",
              "\n",
              "                             bigrams_nc  \n",
              "8156                      [doesnt_work]  \n",
              "8427                      [doesnt_work]  \n",
              "8428                      [doesnt_work]  \n",
              "8429                      [doesnt_work]  \n",
              "8430                      [doesnt_work]  \n",
              "8500                      [doesnt_work]  \n",
              "8501                      [doesnt_work]  \n",
              "9054                       [didnt_work]  \n",
              "9557                        [wont_work]  \n",
              "9652  [not_workingnot, workingnot_goid]  "
            ],
            "text/html": [
              "\n",
              "  <div id=\"df-62510d25-b024-4ad9-87ba-b1ecb0262097\">\n",
              "    <div class=\"colab-df-container\">\n",
              "      <div>\n",
              "<style scoped>\n",
              "    .dataframe tbody tr th:only-of-type {\n",
              "        vertical-align: middle;\n",
              "    }\n",
              "\n",
              "    .dataframe tbody tr th {\n",
              "        vertical-align: top;\n",
              "    }\n",
              "\n",
              "    .dataframe thead th {\n",
              "        text-align: right;\n",
              "    }\n",
              "</style>\n",
              "<table border=\"1\" class=\"dataframe\">\n",
              "  <thead>\n",
              "    <tr style=\"text-align: right;\">\n",
              "      <th></th>\n",
              "      <th>rev_no_punc</th>\n",
              "      <th>bigrams</th>\n",
              "      <th>bigrams_nc</th>\n",
              "    </tr>\n",
              "  </thead>\n",
              "  <tbody>\n",
              "    <tr>\n",
              "      <th>8156</th>\n",
              "      <td>doesnt work</td>\n",
              "      <td>[doesnt_work]</td>\n",
              "      <td>[doesnt_work]</td>\n",
              "    </tr>\n",
              "    <tr>\n",
              "      <th>8427</th>\n",
              "      <td>doesnt work</td>\n",
              "      <td>[doesnt_work]</td>\n",
              "      <td>[doesnt_work]</td>\n",
              "    </tr>\n",
              "    <tr>\n",
              "      <th>8428</th>\n",
              "      <td>doesnt work</td>\n",
              "      <td>[doesnt_work]</td>\n",
              "      <td>[doesnt_work]</td>\n",
              "    </tr>\n",
              "    <tr>\n",
              "      <th>8429</th>\n",
              "      <td>doesnt work</td>\n",
              "      <td>[doesnt_work]</td>\n",
              "      <td>[doesnt_work]</td>\n",
              "    </tr>\n",
              "    <tr>\n",
              "      <th>8430</th>\n",
              "      <td>doesnt work</td>\n",
              "      <td>[doesnt_work]</td>\n",
              "      <td>[doesnt_work]</td>\n",
              "    </tr>\n",
              "    <tr>\n",
              "      <th>8500</th>\n",
              "      <td>doesnt work</td>\n",
              "      <td>[doesnt_work]</td>\n",
              "      <td>[doesnt_work]</td>\n",
              "    </tr>\n",
              "    <tr>\n",
              "      <th>8501</th>\n",
              "      <td>doesnt work</td>\n",
              "      <td>[doesnt_work]</td>\n",
              "      <td>[doesnt_work]</td>\n",
              "    </tr>\n",
              "    <tr>\n",
              "      <th>9054</th>\n",
              "      <td>didnt work</td>\n",
              "      <td>[didnt_work]</td>\n",
              "      <td>[didnt_work]</td>\n",
              "    </tr>\n",
              "    <tr>\n",
              "      <th>9557</th>\n",
              "      <td>wont work</td>\n",
              "      <td>[wont_work]</td>\n",
              "      <td>[wont_work]</td>\n",
              "    </tr>\n",
              "    <tr>\n",
              "      <th>9652</th>\n",
              "      <td>not workingnot goid</td>\n",
              "      <td>[not_workingnot, workingnot_goid]</td>\n",
              "      <td>[not_workingnot, workingnot_goid]</td>\n",
              "    </tr>\n",
              "  </tbody>\n",
              "</table>\n",
              "</div>\n",
              "      <button class=\"colab-df-convert\" onclick=\"convertToInteractive('df-62510d25-b024-4ad9-87ba-b1ecb0262097')\"\n",
              "              title=\"Convert this dataframe to an interactive table.\"\n",
              "              style=\"display:none;\">\n",
              "        \n",
              "  <svg xmlns=\"http://www.w3.org/2000/svg\" height=\"24px\"viewBox=\"0 0 24 24\"\n",
              "       width=\"24px\">\n",
              "    <path d=\"M0 0h24v24H0V0z\" fill=\"none\"/>\n",
              "    <path d=\"M18.56 5.44l.94 2.06.94-2.06 2.06-.94-2.06-.94-.94-2.06-.94 2.06-2.06.94zm-11 1L8.5 8.5l.94-2.06 2.06-.94-2.06-.94L8.5 2.5l-.94 2.06-2.06.94zm10 10l.94 2.06.94-2.06 2.06-.94-2.06-.94-.94-2.06-.94 2.06-2.06.94z\"/><path d=\"M17.41 7.96l-1.37-1.37c-.4-.4-.92-.59-1.43-.59-.52 0-1.04.2-1.43.59L10.3 9.45l-7.72 7.72c-.78.78-.78 2.05 0 2.83L4 21.41c.39.39.9.59 1.41.59.51 0 1.02-.2 1.41-.59l7.78-7.78 2.81-2.81c.8-.78.8-2.07 0-2.86zM5.41 20L4 18.59l7.72-7.72 1.47 1.35L5.41 20z\"/>\n",
              "  </svg>\n",
              "      </button>\n",
              "      \n",
              "  <style>\n",
              "    .colab-df-container {\n",
              "      display:flex;\n",
              "      flex-wrap:wrap;\n",
              "      gap: 12px;\n",
              "    }\n",
              "\n",
              "    .colab-df-convert {\n",
              "      background-color: #E8F0FE;\n",
              "      border: none;\n",
              "      border-radius: 50%;\n",
              "      cursor: pointer;\n",
              "      display: none;\n",
              "      fill: #1967D2;\n",
              "      height: 32px;\n",
              "      padding: 0 0 0 0;\n",
              "      width: 32px;\n",
              "    }\n",
              "\n",
              "    .colab-df-convert:hover {\n",
              "      background-color: #E2EBFA;\n",
              "      box-shadow: 0px 1px 2px rgba(60, 64, 67, 0.3), 0px 1px 3px 1px rgba(60, 64, 67, 0.15);\n",
              "      fill: #174EA6;\n",
              "    }\n",
              "\n",
              "    [theme=dark] .colab-df-convert {\n",
              "      background-color: #3B4455;\n",
              "      fill: #D2E3FC;\n",
              "    }\n",
              "\n",
              "    [theme=dark] .colab-df-convert:hover {\n",
              "      background-color: #434B5C;\n",
              "      box-shadow: 0px 1px 3px 1px rgba(0, 0, 0, 0.15);\n",
              "      filter: drop-shadow(0px 1px 2px rgba(0, 0, 0, 0.3));\n",
              "      fill: #FFFFFF;\n",
              "    }\n",
              "  </style>\n",
              "\n",
              "      <script>\n",
              "        const buttonEl =\n",
              "          document.querySelector('#df-62510d25-b024-4ad9-87ba-b1ecb0262097 button.colab-df-convert');\n",
              "        buttonEl.style.display =\n",
              "          google.colab.kernel.accessAllowed ? 'block' : 'none';\n",
              "\n",
              "        async function convertToInteractive(key) {\n",
              "          const element = document.querySelector('#df-62510d25-b024-4ad9-87ba-b1ecb0262097');\n",
              "          const dataTable =\n",
              "            await google.colab.kernel.invokeFunction('convertToInteractive',\n",
              "                                                     [key], {});\n",
              "          if (!dataTable) return;\n",
              "\n",
              "          const docLinkHtml = 'Like what you see? Visit the ' +\n",
              "            '<a target=\"_blank\" href=https://colab.research.google.com/notebooks/data_table.ipynb>data table notebook</a>'\n",
              "            + ' to learn more about interactive tables.';\n",
              "          element.innerHTML = '';\n",
              "          dataTable['output_type'] = 'display_data';\n",
              "          await google.colab.output.renderOutput(dataTable, element);\n",
              "          const docLink = document.createElement('div');\n",
              "          docLink.innerHTML = docLinkHtml;\n",
              "          element.appendChild(docLink);\n",
              "        }\n",
              "      </script>\n",
              "    </div>\n",
              "  </div>\n",
              "  "
            ]
          },
          "metadata": {},
          "execution_count": 52
        }
      ],
      "source": [
        "reviews_df[reviews_df[\"bigrams_nc_is_zero\"]][\n",
        "    [\"rev_no_punc\", \"bigrams\", \"bigrams_nc\"]]"
      ]
    },
    {
      "cell_type": "code",
      "execution_count": 53,
      "metadata": {
        "id": "_l0Vq4O4u449"
      },
      "outputs": [],
      "source": [
        "# remove \"of\" from raw sentence?"
      ]
    },
    {
      "cell_type": "code",
      "execution_count": 54,
      "metadata": {
        "colab": {
          "base_uri": "https://localhost:8080/",
          "height": 623
        },
        "id": "QUd-NI6_uMH_",
        "outputId": "31926018-d686-4b89-f0a6-0a16c350bd21"
      },
      "outputs": [
        {
          "output_type": "execute_result",
          "data": {
            "text/plain": [
              "      sentiment                                        rev_no_punc  \\\n",
              "672           1  i think this apps is greatfunand it allows you...   \n",
              "1365          1  i like the app very much i get to talk and see...   \n",
              "1546          1  this app is good but sometimes it says your bu...   \n",
              "1562          0  it was fine at first then i had to reset my ph...   \n",
              "1669          0                     unable to register only for us   \n",
              "...         ...                                                ...   \n",
              "9958          1                     i think this app is a blessing   \n",
              "9960          1                   this is the most ive been on imo   \n",
              "9969          1                                   very good to use   \n",
              "9970          1                                   very good to use   \n",
              "9972          1                                   the app is great   \n",
              "\n",
              "                                                bigrams  \\\n",
              "672   [i_think, think_this, this_apps, apps_is, is_g...   \n",
              "1365  [i_like, like_the, the_app, app_very, very_muc...   \n",
              "1546  [this_app, app_is, is_good, good_but, but_some...   \n",
              "1562  [it_was, was_fine, fine_at, at_first, first_th...   \n",
              "1669  [unable_to, to_register, register_only, only_f...   \n",
              "...                                                 ...   \n",
              "9958  [i_think, think_this, this_app, app_is, is_a, ...   \n",
              "9960  [this_is, is_the, the_most, most_ive, ive_been...   \n",
              "9969                       [very_good, good_to, to_use]   \n",
              "9970                       [very_good, good_to, to_use]   \n",
              "9972                        [the_app, app_is, is_great]   \n",
              "\n",
              "                                               trigrams  \\\n",
              "672   [i_think_this, think_this_apps, this_apps_is, ...   \n",
              "1365  [i_like_the, like_the_app, the_app_very, app_v...   \n",
              "1546  [this_app_is, app_is_good, is_good_but, good_b...   \n",
              "1562  [it_was_fine, was_fine_at, fine_at_first, at_f...   \n",
              "1669  [unable_to_register, to_register_only, registe...   \n",
              "...                                                 ...   \n",
              "9958  [i_think_this, think_this_app, this_app_is, ap...   \n",
              "9960  [this_is_the, is_the_most, the_most_ive, most_...   \n",
              "9969                        [very_good_to, good_to_use]   \n",
              "9970                        [very_good_to, good_to_use]   \n",
              "9972                         [the_app_is, app_is_great]   \n",
              "\n",
              "                                        bigrams_nosw_nc  \n",
              "672   [i_think, think_this, this_apps, apps_is, is_g...  \n",
              "1365  [i_like, like_the, the_app, app_very, very_muc...  \n",
              "1546  [this_app, app_is, is_good, good_but, but_some...  \n",
              "1562                                 [would_notXncXlet]  \n",
              "1669             [register_onlyXncXfor, onlyXncXfor_us]  \n",
              "...                                                 ...  \n",
              "9958  [i_think, think_this, this_app, app_is, is_a, ...  \n",
              "9960  [this_is, is_the, the_most, most_ive, ive_been...  \n",
              "9969                       [very_good, good_to, to_use]  \n",
              "9970                       [very_good, good_to, to_use]  \n",
              "9972                        [the_app, app_is, is_great]  \n",
              "\n",
              "[1223 rows x 5 columns]"
            ],
            "text/html": [
              "\n",
              "  <div id=\"df-8547b791-ebc4-4c57-abf2-933fada07c0f\">\n",
              "    <div class=\"colab-df-container\">\n",
              "      <div>\n",
              "<style scoped>\n",
              "    .dataframe tbody tr th:only-of-type {\n",
              "        vertical-align: middle;\n",
              "    }\n",
              "\n",
              "    .dataframe tbody tr th {\n",
              "        vertical-align: top;\n",
              "    }\n",
              "\n",
              "    .dataframe thead th {\n",
              "        text-align: right;\n",
              "    }\n",
              "</style>\n",
              "<table border=\"1\" class=\"dataframe\">\n",
              "  <thead>\n",
              "    <tr style=\"text-align: right;\">\n",
              "      <th></th>\n",
              "      <th>sentiment</th>\n",
              "      <th>rev_no_punc</th>\n",
              "      <th>bigrams</th>\n",
              "      <th>trigrams</th>\n",
              "      <th>bigrams_nosw_nc</th>\n",
              "    </tr>\n",
              "  </thead>\n",
              "  <tbody>\n",
              "    <tr>\n",
              "      <th>672</th>\n",
              "      <td>1</td>\n",
              "      <td>i think this apps is greatfunand it allows you...</td>\n",
              "      <td>[i_think, think_this, this_apps, apps_is, is_g...</td>\n",
              "      <td>[i_think_this, think_this_apps, this_apps_is, ...</td>\n",
              "      <td>[i_think, think_this, this_apps, apps_is, is_g...</td>\n",
              "    </tr>\n",
              "    <tr>\n",
              "      <th>1365</th>\n",
              "      <td>1</td>\n",
              "      <td>i like the app very much i get to talk and see...</td>\n",
              "      <td>[i_like, like_the, the_app, app_very, very_muc...</td>\n",
              "      <td>[i_like_the, like_the_app, the_app_very, app_v...</td>\n",
              "      <td>[i_like, like_the, the_app, app_very, very_muc...</td>\n",
              "    </tr>\n",
              "    <tr>\n",
              "      <th>1546</th>\n",
              "      <td>1</td>\n",
              "      <td>this app is good but sometimes it says your bu...</td>\n",
              "      <td>[this_app, app_is, is_good, good_but, but_some...</td>\n",
              "      <td>[this_app_is, app_is_good, is_good_but, good_b...</td>\n",
              "      <td>[this_app, app_is, is_good, good_but, but_some...</td>\n",
              "    </tr>\n",
              "    <tr>\n",
              "      <th>1562</th>\n",
              "      <td>0</td>\n",
              "      <td>it was fine at first then i had to reset my ph...</td>\n",
              "      <td>[it_was, was_fine, fine_at, at_first, first_th...</td>\n",
              "      <td>[it_was_fine, was_fine_at, fine_at_first, at_f...</td>\n",
              "      <td>[would_notXncXlet]</td>\n",
              "    </tr>\n",
              "    <tr>\n",
              "      <th>1669</th>\n",
              "      <td>0</td>\n",
              "      <td>unable to register only for us</td>\n",
              "      <td>[unable_to, to_register, register_only, only_f...</td>\n",
              "      <td>[unable_to_register, to_register_only, registe...</td>\n",
              "      <td>[register_onlyXncXfor, onlyXncXfor_us]</td>\n",
              "    </tr>\n",
              "    <tr>\n",
              "      <th>...</th>\n",
              "      <td>...</td>\n",
              "      <td>...</td>\n",
              "      <td>...</td>\n",
              "      <td>...</td>\n",
              "      <td>...</td>\n",
              "    </tr>\n",
              "    <tr>\n",
              "      <th>9958</th>\n",
              "      <td>1</td>\n",
              "      <td>i think this app is a blessing</td>\n",
              "      <td>[i_think, think_this, this_app, app_is, is_a, ...</td>\n",
              "      <td>[i_think_this, think_this_app, this_app_is, ap...</td>\n",
              "      <td>[i_think, think_this, this_app, app_is, is_a, ...</td>\n",
              "    </tr>\n",
              "    <tr>\n",
              "      <th>9960</th>\n",
              "      <td>1</td>\n",
              "      <td>this is the most ive been on imo</td>\n",
              "      <td>[this_is, is_the, the_most, most_ive, ive_been...</td>\n",
              "      <td>[this_is_the, is_the_most, the_most_ive, most_...</td>\n",
              "      <td>[this_is, is_the, the_most, most_ive, ive_been...</td>\n",
              "    </tr>\n",
              "    <tr>\n",
              "      <th>9969</th>\n",
              "      <td>1</td>\n",
              "      <td>very good to use</td>\n",
              "      <td>[very_good, good_to, to_use]</td>\n",
              "      <td>[very_good_to, good_to_use]</td>\n",
              "      <td>[very_good, good_to, to_use]</td>\n",
              "    </tr>\n",
              "    <tr>\n",
              "      <th>9970</th>\n",
              "      <td>1</td>\n",
              "      <td>very good to use</td>\n",
              "      <td>[very_good, good_to, to_use]</td>\n",
              "      <td>[very_good_to, good_to_use]</td>\n",
              "      <td>[very_good, good_to, to_use]</td>\n",
              "    </tr>\n",
              "    <tr>\n",
              "      <th>9972</th>\n",
              "      <td>1</td>\n",
              "      <td>the app is great</td>\n",
              "      <td>[the_app, app_is, is_great]</td>\n",
              "      <td>[the_app_is, app_is_great]</td>\n",
              "      <td>[the_app, app_is, is_great]</td>\n",
              "    </tr>\n",
              "  </tbody>\n",
              "</table>\n",
              "<p>1223 rows × 5 columns</p>\n",
              "</div>\n",
              "      <button class=\"colab-df-convert\" onclick=\"convertToInteractive('df-8547b791-ebc4-4c57-abf2-933fada07c0f')\"\n",
              "              title=\"Convert this dataframe to an interactive table.\"\n",
              "              style=\"display:none;\">\n",
              "        \n",
              "  <svg xmlns=\"http://www.w3.org/2000/svg\" height=\"24px\"viewBox=\"0 0 24 24\"\n",
              "       width=\"24px\">\n",
              "    <path d=\"M0 0h24v24H0V0z\" fill=\"none\"/>\n",
              "    <path d=\"M18.56 5.44l.94 2.06.94-2.06 2.06-.94-2.06-.94-.94-2.06-.94 2.06-2.06.94zm-11 1L8.5 8.5l.94-2.06 2.06-.94-2.06-.94L8.5 2.5l-.94 2.06-2.06.94zm10 10l.94 2.06.94-2.06 2.06-.94-2.06-.94-.94-2.06-.94 2.06-2.06.94z\"/><path d=\"M17.41 7.96l-1.37-1.37c-.4-.4-.92-.59-1.43-.59-.52 0-1.04.2-1.43.59L10.3 9.45l-7.72 7.72c-.78.78-.78 2.05 0 2.83L4 21.41c.39.39.9.59 1.41.59.51 0 1.02-.2 1.41-.59l7.78-7.78 2.81-2.81c.8-.78.8-2.07 0-2.86zM5.41 20L4 18.59l7.72-7.72 1.47 1.35L5.41 20z\"/>\n",
              "  </svg>\n",
              "      </button>\n",
              "      \n",
              "  <style>\n",
              "    .colab-df-container {\n",
              "      display:flex;\n",
              "      flex-wrap:wrap;\n",
              "      gap: 12px;\n",
              "    }\n",
              "\n",
              "    .colab-df-convert {\n",
              "      background-color: #E8F0FE;\n",
              "      border: none;\n",
              "      border-radius: 50%;\n",
              "      cursor: pointer;\n",
              "      display: none;\n",
              "      fill: #1967D2;\n",
              "      height: 32px;\n",
              "      padding: 0 0 0 0;\n",
              "      width: 32px;\n",
              "    }\n",
              "\n",
              "    .colab-df-convert:hover {\n",
              "      background-color: #E2EBFA;\n",
              "      box-shadow: 0px 1px 2px rgba(60, 64, 67, 0.3), 0px 1px 3px 1px rgba(60, 64, 67, 0.15);\n",
              "      fill: #174EA6;\n",
              "    }\n",
              "\n",
              "    [theme=dark] .colab-df-convert {\n",
              "      background-color: #3B4455;\n",
              "      fill: #D2E3FC;\n",
              "    }\n",
              "\n",
              "    [theme=dark] .colab-df-convert:hover {\n",
              "      background-color: #434B5C;\n",
              "      box-shadow: 0px 1px 3px 1px rgba(0, 0, 0, 0.15);\n",
              "      filter: drop-shadow(0px 1px 2px rgba(0, 0, 0, 0.3));\n",
              "      fill: #FFFFFF;\n",
              "    }\n",
              "  </style>\n",
              "\n",
              "      <script>\n",
              "        const buttonEl =\n",
              "          document.querySelector('#df-8547b791-ebc4-4c57-abf2-933fada07c0f button.colab-df-convert');\n",
              "        buttonEl.style.display =\n",
              "          google.colab.kernel.accessAllowed ? 'block' : 'none';\n",
              "\n",
              "        async function convertToInteractive(key) {\n",
              "          const element = document.querySelector('#df-8547b791-ebc4-4c57-abf2-933fada07c0f');\n",
              "          const dataTable =\n",
              "            await google.colab.kernel.invokeFunction('convertToInteractive',\n",
              "                                                     [key], {});\n",
              "          if (!dataTable) return;\n",
              "\n",
              "          const docLinkHtml = 'Like what you see? Visit the ' +\n",
              "            '<a target=\"_blank\" href=https://colab.research.google.com/notebooks/data_table.ipynb>data table notebook</a>'\n",
              "            + ' to learn more about interactive tables.';\n",
              "          element.innerHTML = '';\n",
              "          dataTable['output_type'] = 'display_data';\n",
              "          await google.colab.output.renderOutput(dataTable, element);\n",
              "          const docLink = document.createElement('div');\n",
              "          docLink.innerHTML = docLinkHtml;\n",
              "          element.appendChild(docLink);\n",
              "        }\n",
              "      </script>\n",
              "    </div>\n",
              "  </div>\n",
              "  "
            ]
          },
          "metadata": {},
          "execution_count": 54
        }
      ],
      "source": [
        "reviews_df[reviews_df[\"bigrams_nosw_is_zero\"]][\n",
        "    [\"sentiment\", \"rev_no_punc\", \"bigrams\", \"trigrams\", \"bigrams_nosw_nc\"]]"
      ]
    },
    {
      "cell_type": "code",
      "execution_count": 55,
      "metadata": {
        "id": "lsidHYQ4BuFV"
      },
      "outputs": [],
      "source": [
        "for c in gram_cols:\n",
        "  #reviews_df[c + \"_len\"] = reviews_df[c].apply(len)\n",
        "  reviews_df[c] = reviews_df[c].map(\" \".join)"
      ]
    },
    {
      "cell_type": "code",
      "execution_count": 56,
      "metadata": {
        "id": "fgfmrU_WlaT1"
      },
      "outputs": [],
      "source": [
        "train_df, test_df = train_test_split(reviews_df, test_size=0.2, random_state=0)"
      ]
    },
    {
      "cell_type": "markdown",
      "metadata": {
        "id": "7Kxb4M0pRBkU"
      },
      "source": [
        "# V. Machine Learning Models"
      ]
    },
    {
      "cell_type": "markdown",
      "metadata": {
        "id": "rwPGg8rbDr8d"
      },
      "source": [
        "These algorithms consist of two parts:\n",
        "\n",
        "*   A **Count Vectorizer** that transforms a  bag-of-words into a count vector\n",
        "*   A **Classifier** that predicts the sentiment of the review.\n",
        "\n"
      ]
    },
    {
      "cell_type": "markdown",
      "metadata": {
        "id": "r1W6iJB3YSEo"
      },
      "source": [
        "## V.A. partition data to exclude null values."
      ]
    },
    {
      "cell_type": "markdown",
      "metadata": {
        "id": "XheU5yZMXrvN"
      },
      "source": [
        "Not all observations in the dataset contain bigrams and trigrams. Therefore, when evaluating which hyperparamter is best, we can only compare performance on observations that have these features. If bigrams or trigrams prove to be the best hyperparameter, we can use an alternative method to fit the observations for which this data is not available."
      ]
    },
    {
      "cell_type": "code",
      "execution_count": 57,
      "metadata": {
        "id": "j2cw24pkt7bY"
      },
      "outputs": [],
      "source": [
        "unigram_cols = ['unigrams_nosw','unigrams_nc', 'unigrams_nosw_nc']\n",
        "bigrams_plus_cols = unigram_cols + [\n",
        "    'bigrams', 'bigrams_nodblsw', 'bigrams_nc', \"bigrams_nodblsw_nc\"]\n",
        "bigrams2_plus_cols = bigrams_plus_cols + [\"bigrams_nosw\", \"bigrams_nosw_nc\"]\n",
        "trigrams_plus_cols = [\n",
        "    'unigrams_nosw','unigrams_nc', 'unigrams_nosw_nc', \n",
        "    'trigrams', 'trigrams_nc', 'trigrams_notplsw_nc']\n",
        "\n",
        "train_bg_df = train_df[~train_df[\"bigrams_nodblsw_nc_is_zero\"]].copy()\n",
        "train_bg2_df = train_bg_df[~train_bg_df[\"bigrams_nosw_nc_is_zero\"]].copy()\n",
        "train_tg_df = train_df[~train_df[\"trigrams_notplsw_nc_is_zero\"]].copy()\n",
        "\n",
        "gram_dict = {\n",
        "    \"uni\": {\"hp\": {\"fs__text_col\": unigram_cols,\n",
        "                   \"ctvec__min_df\": [1, 2, 3, 5]}, \n",
        "            \"df\": train_df}, \n",
        "    \"bi\": {\"hp\": {\"fs__text_col\": bigrams_plus_cols,\n",
        "                   \"ctvec__min_df\": [1, 2, 3, 5]}, \n",
        "            \"df\": train_bg_df},\n",
        "    \"bi2\": {\"hp\": {\"fs__text_col\": bigrams2_plus_cols,\n",
        "                   \"ctvec__min_df\": [1, 2, 3, 5]}, \n",
        "            \"df\": train_bg2_df},\n",
        "    \"tri\": {\"hp\": {\"fs__text_col\": trigrams_plus_cols,\n",
        "                   \"ctvec__min_df\": [1, 2, 3, 5]}, \n",
        "            \"df\": train_tg_df},\n",
        "             }\n"
      ]
    },
    {
      "cell_type": "markdown",
      "metadata": {
        "id": "PZSM4wkmZSOP"
      },
      "source": [
        "## V.B. build pipelines"
      ]
    },
    {
      "cell_type": "code",
      "execution_count": 58,
      "metadata": {
        "id": "egxHdbKgeYSo"
      },
      "outputs": [],
      "source": [
        "class FeatureSelector(BaseEstimator, TransformerMixin):\n",
        "    def __init__(self, text_col=\"\"):\n",
        "        self.text_col = text_col\n",
        "\n",
        "    def fit(self, X, y=None):\n",
        "        return self\n",
        "\n",
        "    def transform(self, X, y=None):\n",
        "        return X[self.text_col]"
      ]
    },
    {
      "cell_type": "code",
      "execution_count": 59,
      "metadata": {
        "id": "mjVKIjBkQ5cH"
      },
      "outputs": [],
      "source": [
        "ctvec = CountVectorizer(analyzer = \"word\")\n",
        "mnb = MultinomialNB()\n",
        "cnb = ComplementNB()\n",
        "dt = DecisionTreeClassifier(min_samples_split=10)\n",
        "svc = SVC(kernel=\"linear\")"
      ]
    },
    {
      "cell_type": "code",
      "execution_count": 60,
      "metadata": {
        "id": "zyfhiGGw_2xe"
      },
      "outputs": [],
      "source": [
        "pipe_fs_cnb = Pipeline([\n",
        "    (\"fs\", FeatureSelector()), (\"ctvec\", ctvec), (\"cnb\", cnb)])"
      ]
    },
    {
      "cell_type": "code",
      "execution_count": 61,
      "metadata": {
        "id": "_g8fvTnpcHuW"
      },
      "outputs": [],
      "source": [
        "pipe_fs_mnb = Pipeline([\n",
        "    (\"fs\", FeatureSelector()), (\"ctvec\", ctvec), (\"mnb\", mnb)])"
      ]
    },
    {
      "cell_type": "code",
      "execution_count": 62,
      "metadata": {
        "id": "WBOiE_dGhEC2"
      },
      "outputs": [],
      "source": [
        "pipe_fs_dt = Pipeline([\n",
        "    (\"fs\", FeatureSelector()), (\"ctvec\", ctvec), (\"dt\", dt)])"
      ]
    },
    {
      "cell_type": "code",
      "execution_count": 63,
      "metadata": {
        "id": "YUopRP5qWGRM"
      },
      "outputs": [],
      "source": [
        "pipe_fs_svc = Pipeline([\n",
        "    (\"fs\", FeatureSelector()), (\"ctvec\", ctvec), (\"svc\", svc)])\n"
      ]
    },
    {
      "cell_type": "markdown",
      "metadata": {
        "id": "5dlwiXADZuq6"
      },
      "source": [
        "### V.C. Fit pipelines"
      ]
    },
    {
      "cell_type": "code",
      "execution_count": 9,
      "metadata": {
        "id": "RPYCGw2eQ03F"
      },
      "outputs": [],
      "source": [
        "def summarize_gs(gs):\n",
        "    \"\"\"Prints best test (validation) score of a fitted GridSearchCV object\n",
        "    Parameters\n",
        "    ------------\n",
        "    gs : fitted GridSearchCV object\n",
        "    \n",
        "    Returns\n",
        "    -------\n",
        "    None\n",
        "    \"\"\"\n",
        "    print(\"Best Parameters:\", gs.best_params_)\n",
        "    gs_std_test_score = gs.cv_results_[\"std_test_score\"][gs.best_index_]\n",
        "    print(\"Best Score: %.3f +/- %.3f\" % (gs.best_score_, gs_std_test_score))\n"
      ]
    },
    {
      "cell_type": "code",
      "execution_count": null,
      "metadata": {
        "colab": {
          "base_uri": "https://localhost:8080/"
        },
        "id": "Ak-ojajmfLBI",
        "outputId": "bb794436-8208-4e64-a53f-4be190244995"
      },
      "outputs": [
        {
          "name": "stdout",
          "output_type": "stream",
          "text": [
            "Best Parameters: {'ctvec__min_df': 1, 'fs__text_col': 'unigrams_nosw_nc'}\n",
            "Best Score: 0.893 +/- 0.012\n"
          ]
        }
      ],
      "source": [
        "gram_method = \"bi\"\n",
        "\n",
        "gs_bigram_cnb = GridSearchCV(\n",
        "    estimator=pipe_fs_cnb, param_grid=gram_dict[gram_method][\"hp\"], \n",
        "    scoring=\"accuracy\", return_train_score=True, cv=5, n_jobs=-1)\n",
        "\n",
        "gs_bigram_cnb = gs_bigram_cnb.fit(\n",
        "      gram_dict[gram_method][\"df\"], \n",
        "      gram_dict[gram_method][\"df\"][\"sentiment\"])\n",
        "\n",
        "summarize_gs(gs_bigram_cnb)"
      ]
    },
    {
      "cell_type": "code",
      "execution_count": null,
      "metadata": {
        "colab": {
          "base_uri": "https://localhost:8080/"
        },
        "id": "uJvJkzTVW7kA",
        "outputId": "6a9d199f-a4c8-4ffe-e280-3ba01fcc9fad"
      },
      "outputs": [
        {
          "name": "stdout",
          "output_type": "stream",
          "text": [
            "Best Parameters: {'ctvec__min_df': 1, 'fs__text_col': 'unigrams_nosw_nc'}\n",
            "Best Score: 0.891 +/- 0.010\n"
          ]
        }
      ],
      "source": [
        "gram_method = \"bi2\"\n",
        "\n",
        "gs_bigram2_cnb = GridSearchCV(\n",
        "    estimator=pipe_fs_cnb, param_grid=gram_dict[gram_method][\"hp\"], \n",
        "    scoring=\"accuracy\", return_train_score=True, cv=5, n_jobs=-1)\n",
        "\n",
        "gs_bigram2_cnb = gs_bigram2_cnb.fit(\n",
        "      gram_dict[gram_method][\"df\"], \n",
        "      gram_dict[gram_method][\"df\"][\"sentiment\"])\n",
        "\n",
        "summarize_gs(gs_bigram2_cnb)"
      ]
    },
    {
      "cell_type": "code",
      "execution_count": null,
      "metadata": {
        "colab": {
          "base_uri": "https://localhost:8080/"
        },
        "id": "xHS52hJPCiHl",
        "outputId": "4e779044-29d0-46ef-f1ad-b0dcc0f9e380"
      },
      "outputs": [
        {
          "name": "stdout",
          "output_type": "stream",
          "text": [
            "Best Parameters: {'ctvec__min_df': 1, 'fs__text_col': 'unigrams_nosw_nc'}\n",
            "Best Score: 0.894 +/- 0.010\n"
          ]
        }
      ],
      "source": [
        "gram_method = \"tri\"\n",
        "\n",
        "gs_trigram_cnb = GridSearchCV(\n",
        "    estimator=pipe_fs_cnb, param_grid=gram_dict[gram_method][\"hp\"], \n",
        "    scoring=\"accuracy\", return_train_score=True, cv=5, n_jobs=-1)\n",
        "\n",
        "gs_trigram_cnb = gs_trigram_cnb.fit(\n",
        "      gram_dict[gram_method][\"df\"], \n",
        "      gram_dict[gram_method][\"df\"][\"sentiment\"])\n",
        "\n",
        "summarize_gs(gs_trigram_cnb)"
      ]
    },
    {
      "cell_type": "code",
      "execution_count": null,
      "metadata": {
        "colab": {
          "base_uri": "https://localhost:8080/"
        },
        "id": "6dxeUbhBGWci",
        "outputId": "590a19db-63fe-4e5f-a74a-913d7dd9c0c3"
      },
      "outputs": [
        {
          "name": "stdout",
          "output_type": "stream",
          "text": [
            "Best Parameters: {'ctvec__min_df': 1, 'fs__text_col': 'unigrams_nosw_nc'}\n",
            "Best Score: 0.894 +/- 0.012\n"
          ]
        }
      ],
      "source": [
        "gram_method = \"bi\"\n",
        "\n",
        "gs_bigram_mnb = GridSearchCV(\n",
        "    estimator=pipe_fs_mnb, param_grid=gram_dict[gram_method][\"hp\"], \n",
        "    scoring=\"accuracy\", return_train_score=True, cv=5, n_jobs=-1)\n",
        "\n",
        "gs_bigram_mnb = gs_bigram_mnb.fit(\n",
        "      gram_dict[gram_method][\"df\"], \n",
        "      gram_dict[gram_method][\"df\"][\"sentiment\"])\n",
        "\n",
        "summarize_gs(gs_bigram_mnb)"
      ]
    },
    {
      "cell_type": "code",
      "execution_count": null,
      "metadata": {
        "colab": {
          "base_uri": "https://localhost:8080/"
        },
        "id": "QEA2f1B8XcEH",
        "outputId": "2eb59fe7-d489-4605-8754-a12cc340c317"
      },
      "outputs": [
        {
          "name": "stdout",
          "output_type": "stream",
          "text": [
            "Best Parameters: {'ctvec__min_df': 1, 'fs__text_col': 'unigrams_nosw_nc'}\n",
            "Best Score: 0.893 +/- 0.009\n"
          ]
        }
      ],
      "source": [
        "gram_method = \"bi2\"\n",
        "\n",
        "gs_bigram2_mnb = GridSearchCV(\n",
        "    estimator=pipe_fs_mnb, param_grid=gram_dict[gram_method][\"hp\"], \n",
        "    scoring=\"accuracy\", return_train_score=True, cv=5, n_jobs=-1)\n",
        "\n",
        "gs_bigram2_mnb = gs_bigram2_mnb.fit(\n",
        "      gram_dict[gram_method][\"df\"], \n",
        "      gram_dict[gram_method][\"df\"][\"sentiment\"])\n",
        "\n",
        "summarize_gs(gs_bigram2_mnb)\n"
      ]
    },
    {
      "cell_type": "code",
      "execution_count": null,
      "metadata": {
        "colab": {
          "base_uri": "https://localhost:8080/"
        },
        "id": "zrg-A9i4G1fx",
        "outputId": "334b6b47-4579-4507-ac54-466759eca31b"
      },
      "outputs": [
        {
          "name": "stdout",
          "output_type": "stream",
          "text": [
            "Best Parameters: {'ctvec__min_df': 1, 'fs__text_col': 'unigrams_nosw_nc'}\n",
            "Best Score: 0.894 +/- 0.012\n"
          ]
        }
      ],
      "source": [
        "gram_method = \"tri\"\n",
        "\n",
        "gs_trigram_mnb = GridSearchCV(\n",
        "    estimator=pipe_fs_mnb, param_grid=gram_dict[gram_method][\"hp\"], \n",
        "    scoring=\"accuracy\", return_train_score=True, cv=5, n_jobs=-1)\n",
        "\n",
        "gs_trigram_mnb = gs_trigram_mnb.fit(\n",
        "      gram_dict[gram_method][\"df\"], \n",
        "      gram_dict[gram_method][\"df\"][\"sentiment\"])\n",
        "\n",
        "summarize_gs(gs_trigram_mnb)"
      ]
    },
    {
      "cell_type": "code",
      "execution_count": null,
      "metadata": {
        "colab": {
          "base_uri": "https://localhost:8080/"
        },
        "id": "vIxfW3p9hJVS",
        "outputId": "8eca7ed1-936a-47c9-cdfd-d558d56821e5"
      },
      "outputs": [
        {
          "name": "stdout",
          "output_type": "stream",
          "text": [
            "Best Parameters: {'ctvec__min_df': 3, 'fs__text_col': 'unigrams_nosw_nc'}\n",
            "Best Score: 0.843 +/- 0.006\n"
          ]
        }
      ],
      "source": [
        "gram_method = \"bi\"\n",
        "\n",
        "gs_bigram_dt = GridSearchCV(\n",
        "    estimator=pipe_fs_dt, param_grid=gram_dict[gram_method][\"hp\"], \n",
        "    scoring=\"accuracy\", return_train_score=True, cv=5, n_jobs=-1)\n",
        "\n",
        "gs_bigram_dt = gs_bigram_dt.fit(\n",
        "      gram_dict[gram_method][\"df\"], \n",
        "      gram_dict[gram_method][\"df\"][\"sentiment\"])\n",
        "\n",
        "summarize_gs(gs_bigram_dt)"
      ]
    },
    {
      "cell_type": "code",
      "execution_count": null,
      "metadata": {
        "colab": {
          "base_uri": "https://localhost:8080/"
        },
        "id": "Nq09gbKdcz9q",
        "outputId": "cbb35a0e-d82d-4b7e-bc2a-9d9f4700186d"
      },
      "outputs": [
        {
          "name": "stdout",
          "output_type": "stream",
          "text": [
            "Best Parameters: {'ctvec__min_df': 3, 'fs__text_col': 'unigrams_nosw_nc'}\n",
            "Best Score: 0.837 +/- 0.006\n"
          ]
        }
      ],
      "source": [
        "gram_method = \"bi2\"\n",
        "\n",
        "gs_bigram2_dt = GridSearchCV(\n",
        "    estimator=pipe_fs_dt, param_grid=gram_dict[gram_method][\"hp\"], \n",
        "    scoring=\"accuracy\", return_train_score=True, cv=5, n_jobs=-1)\n",
        "\n",
        "gs_bigram2_dt = gs_bigram2_dt.fit(\n",
        "      gram_dict[gram_method][\"df\"], \n",
        "      gram_dict[gram_method][\"df\"][\"sentiment\"])\n",
        "\n",
        "summarize_gs(gs_bigram2_dt)"
      ]
    },
    {
      "cell_type": "code",
      "execution_count": null,
      "metadata": {
        "colab": {
          "base_uri": "https://localhost:8080/"
        },
        "id": "LZoui8UXHOAB",
        "outputId": "f1893b9c-97dd-435c-93d6-dc351c9b6bfc"
      },
      "outputs": [
        {
          "name": "stdout",
          "output_type": "stream",
          "text": [
            "Best Parameters: {'ctvec__min_df': 1, 'fs__text_col': 'unigrams_nosw_nc'}\n",
            "Best Score: 0.842 +/- 0.006\n"
          ]
        }
      ],
      "source": [
        "gram_method = \"tri\"\n",
        "\n",
        "gs_trigram_dt = GridSearchCV(\n",
        "    estimator=pipe_fs_dt, param_grid=gram_dict[gram_method][\"hp\"], \n",
        "    scoring=\"accuracy\", return_train_score=True, cv=5, n_jobs=-1)\n",
        "\n",
        "gs_trigram_dt = gs_trigram_dt.fit(\n",
        "      gram_dict[gram_method][\"df\"], \n",
        "      gram_dict[gram_method][\"df\"][\"sentiment\"])\n",
        "\n",
        "summarize_gs(gs_trigram_dt)"
      ]
    },
    {
      "cell_type": "code",
      "execution_count": null,
      "metadata": {
        "colab": {
          "base_uri": "https://localhost:8080/"
        },
        "id": "keI6pUSjfb7M",
        "outputId": "e91f441c-9b94-463f-ee6f-7f477bd94038"
      },
      "outputs": [
        {
          "name": "stdout",
          "output_type": "stream",
          "text": [
            "Best Parameters: {'ctvec__min_df': 2, 'fs__text_col': 'unigrams_nc'}\n",
            "Best Score: 0.885 +/- 0.003\n"
          ]
        }
      ],
      "source": [
        "gram_method = \"bi\"\n",
        "\n",
        "gs_bigram_svc = GridSearchCV(\n",
        "    estimator=pipe_fs_svc, param_grid=gram_dict[gram_method][\"hp\"], \n",
        "    scoring=\"accuracy\", return_train_score=True, cv=5, n_jobs=-1)\n",
        "\n",
        "gs_bigram_svc = gs_bigram_svc.fit(\n",
        "      gram_dict[gram_method][\"df\"], \n",
        "      gram_dict[gram_method][\"df\"][\"sentiment\"])\n",
        "\n",
        "summarize_gs(gs_bigram_svc)"
      ]
    },
    {
      "cell_type": "code",
      "execution_count": null,
      "metadata": {
        "colab": {
          "background_save": true
        },
        "id": "RKqhrcWniNGu",
        "outputId": "133d6f4e-41a4-4502-c2db-a0795abff76e"
      },
      "outputs": [
        {
          "name": "stdout",
          "output_type": "stream",
          "text": [
            "Best Parameters: {'ctvec__min_df': 2, 'fs__text_col': 'unigrams_nc'}\n",
            "Best Score: 0.877 +/- 0.005\n"
          ]
        }
      ],
      "source": [
        "gram_method = \"bi2\"\n",
        "\n",
        "gs_bigram2_svc = GridSearchCV(\n",
        "    estimator=pipe_fs_svc, param_grid=gram_dict[gram_method][\"hp\"], \n",
        "    scoring=\"accuracy\", return_train_score=True, cv=5, n_jobs=-1)\n",
        "\n",
        "gs_bigram2_svc = gs_bigram2_svc.fit(\n",
        "      gram_dict[gram_method][\"df\"], \n",
        "      gram_dict[gram_method][\"df\"][\"sentiment\"])\n",
        "\n",
        "summarize_gs(gs_bigram2_svc)"
      ]
    },
    {
      "cell_type": "code",
      "execution_count": 64,
      "metadata": {
        "id": "KwTM1lGMiRKD",
        "colab": {
          "base_uri": "https://localhost:8080/"
        },
        "outputId": "63d3aaf7-db42-40bf-85fe-a8632b61c2e2"
      },
      "outputs": [
        {
          "output_type": "stream",
          "name": "stdout",
          "text": [
            "Best Parameters: {'ctvec__min_df': 2, 'fs__text_col': 'unigrams_nc'}\n",
            "Best Score: 0.885 +/- 0.003\n"
          ]
        }
      ],
      "source": [
        "gram_method = \"tri\"\n",
        "\n",
        "gs_trigram_svc = GridSearchCV(\n",
        "    estimator=pipe_fs_svc, param_grid=gram_dict[gram_method][\"hp\"], \n",
        "    scoring=\"accuracy\", return_train_score=True, cv=5, n_jobs=-1)\n",
        "\n",
        "gs_trigram_svc = gs_trigram_svc.fit(\n",
        "      gram_dict[gram_method][\"df\"], \n",
        "      gram_dict[gram_method][\"df\"][\"sentiment\"])\n",
        "\n",
        "summarize_gs(gs_trigram_svc)"
      ]
    },
    {
      "cell_type": "markdown",
      "source": [
        "# VI. Conclusion"
      ],
      "metadata": {
        "id": "HnNjQgGJYWZi"
      }
    },
    {
      "cell_type": "markdown",
      "source": [
        "Best Model: Complement Naive Bayes<br>\n",
        "Best Parameters: \n",
        "*   ctvec__min_df: 1\n",
        "*   fs__text_col: unigrams_nosw_nc<br>\n",
        "\n",
        "Best Score: 0.894 +/- 0.010\n",
        "\n",
        "\n",
        "Now let's test this model on unseen data:"
      ],
      "metadata": {
        "id": "Rv9Hd-MfYad9"
      }
    },
    {
      "cell_type": "code",
      "execution_count": 69,
      "metadata": {
        "id": "zPSTxSB4C9g-"
      },
      "outputs": [],
      "source": [
        "pipe_fs_cnb.set_params(\n",
        "    **{\"ctvec__min_df\": 1, \n",
        "       \"fs__text_col\": \"unigrams_nosw_nc\"})\n",
        "pipe_fs_cnb.fit(train_df, train_df[\"sentiment\"])\n",
        "\n",
        "y_pred_train_cnb = pipe_fs_cnb.predict(train_df)\n",
        "y_pred_test_cnb = pipe_fs_cnb.predict(test_df)"
      ]
    },
    {
      "cell_type": "code",
      "source": [
        "print(classification_report(train_df[\"sentiment\"], y_pred_train_cnb))"
      ],
      "metadata": {
        "colab": {
          "base_uri": "https://localhost:8080/"
        },
        "id": "bnJ_PhqCZ4Yq",
        "outputId": "eefdcff1-aa29-432f-d029-9b74bb2b55f3"
      },
      "execution_count": 71,
      "outputs": [
        {
          "output_type": "stream",
          "name": "stdout",
          "text": [
            "              precision    recall  f1-score   support\n",
            "\n",
            "           0       0.91      0.93      0.92      3851\n",
            "           1       0.93      0.90      0.91      3557\n",
            "\n",
            "    accuracy                           0.92      7408\n",
            "   macro avg       0.92      0.92      0.92      7408\n",
            "weighted avg       0.92      0.92      0.92      7408\n",
            "\n"
          ]
        }
      ]
    },
    {
      "cell_type": "code",
      "source": [
        "cm = confusion_matrix(train_df[\"sentiment\"].values, y_pred_train_cnb)\n",
        "fig, ax = plt.subplots(figsize=(2, 2))\n",
        "ax = sns.heatmap(cm, cmap=\"Blues\", annot=True, fmt=\"g\", annot_kws={\"size\": 14})\n",
        "ax.set_xlabel(\"Predicted\")\n",
        "ax.set_ylabel(\"Truth\")\n",
        "plt.show()"
      ],
      "metadata": {
        "colab": {
          "base_uri": "https://localhost:8080/",
          "height": 171
        },
        "id": "--oOoXjcaWk8",
        "outputId": "a51f3f49-c738-4a5b-a647-b654fca342e2"
      },
      "execution_count": 73,
      "outputs": [
        {
          "output_type": "display_data",
          "data": {
            "text/plain": [
              "<Figure size 144x144 with 2 Axes>"
            ],
            "image/png": "[encoded data removed]"
          },
          "metadata": {
            "needs_background": "light"
          }
        }
      ]
    },
    {
      "cell_type": "code",
      "source": [
        "print(classification_report(test_df[\"sentiment\"], y_pred_test_cnb))"
      ],
      "metadata": {
        "colab": {
          "base_uri": "https://localhost:8080/"
        },
        "id": "s1cox8MKZnIw",
        "outputId": "63083226-7c02-4eb9-d31e-cb2371e954de"
      },
      "execution_count": 70,
      "outputs": [
        {
          "output_type": "stream",
          "name": "stdout",
          "text": [
            "              precision    recall  f1-score   support\n",
            "\n",
            "           0       0.87      0.92      0.89       950\n",
            "           1       0.91      0.86      0.88       903\n",
            "\n",
            "    accuracy                           0.89      1853\n",
            "   macro avg       0.89      0.89      0.89      1853\n",
            "weighted avg       0.89      0.89      0.89      1853\n",
            "\n"
          ]
        }
      ]
    },
    {
      "cell_type": "code",
      "source": [
        "cm = confusion_matrix(test_df[\"sentiment\"].values, y_pred_test_cnb)\n",
        "fig, ax = plt.subplots(figsize=(2, 2))\n",
        "ax = sns.heatmap(cm, cmap=\"Blues\", annot=True, fmt=\"g\", annot_kws={\"size\": 14})\n",
        "ax.set_xlabel(\"Predicted\")\n",
        "ax.set_ylabel(\"Truth\")\n",
        "plt.show()"
      ],
      "metadata": {
        "colab": {
          "base_uri": "https://localhost:8080/",
          "height": 171
        },
        "id": "WX3zIeUZaIlY",
        "outputId": "ab472d99-f427-4cba-f4a2-909e6adec809"
      },
      "execution_count": 72,
      "outputs": [
        {
          "output_type": "display_data",
          "data": {
            "text/plain": [
              "<Figure size 144x144 with 2 Axes>"
            ],
            "image/png": "[encoded data removed]"
          },
          "metadata": {
            "needs_background": "light"
          }
        }
      ]
    },
    {
      "cell_type": "code",
      "source": [
        "pd.set_option('max_colwidth', -1)\n"
      ],
      "metadata": {
        "colab": {
          "base_uri": "https://localhost:8080/"
        },
        "id": "ZTXI7pq3bXHN",
        "outputId": "9e10fcbe-8a94-4e2e-a623-c1bd83fb0a44"
      },
      "execution_count": 81,
      "outputs": [
        {
          "output_type": "stream",
          "name": "stderr",
          "text": [
            "<ipython-input-81-7020dba1819a>:1: FutureWarning: Passing a negative integer is deprecated in version 1.0 and will not be supported in future version. Instead, use None to not limit the column width.\n",
            "  pd.set_option('max_colwidth', -1)\n"
          ]
        }
      ]
    },
    {
      "cell_type": "markdown",
      "source": [
        "It appears that many of the reviews that the model misclassified may have actually reflected a user error. The majority of these scenarios occurred when a user wrote a negative review but gave a 4 or 5 star rating."
      ],
      "metadata": {
        "id": "nJZgYCh6b1r9"
      }
    },
    {
      "cell_type": "code",
      "source": [
        "# In my opinion, 7 of the 10 errors shown below actually reflect user errors.\n",
        "train_df[(train_df[\"sentiment\"]!=y_pred_train_cnb )\n",
        "         & (train_df[\"sentiment\"]==1)][\n",
        "    [\"content\", \"score\", \"sentiment\"]].iloc[:10]"
      ],
      "metadata": {
        "colab": {
          "base_uri": "https://localhost:8080/",
          "height": 362
        },
        "id": "WmXqbRALadRY",
        "outputId": "fa7a8931-c2ff-47f7-c0ec-c3b554c49cdc"
      },
      "execution_count": 83,
      "outputs": [
        {
          "output_type": "execute_result",
          "data": {
            "text/plain": [
              "                                                                content  \\\n",
              "6641  What is this pop up update the every time I open the app            \n",
              "8758  I cant log it in laptop                                             \n",
              "9256  This app is very nice but how can i change the country code phone   \n",
              "9197  I know it's not working                                             \n",
              "7862  I have two of them on my phone how do I take the other one off      \n",
              "6285  Sometimes app doesn't work                                          \n",
              "8583  I had this on my old old phon                                       \n",
              "5637  It is showing me United states code.and I live in uganda.           \n",
              "5798  When. I type in my. Mollie number it don't work plz fix             \n",
              "4719  I cant not log in or get my self in to start imo                    \n",
              "\n",
              "      score  sentiment  \n",
              "6641  5      1          \n",
              "8758  5      1          \n",
              "9256  5      1          \n",
              "9197  5      1          \n",
              "7862  5      1          \n",
              "6285  4      1          \n",
              "8583  5      1          \n",
              "5637  5      1          \n",
              "5798  5      1          \n",
              "4719  5      1          "
            ],
            "text/html": [
              "\n",
              "  <div id=\"df-2bd28e06-9c97-49a3-9bde-a6d19e4146f1\">\n",
              "    <div class=\"colab-df-container\">\n",
              "      <div>\n",
              "<style scoped>\n",
              "    .dataframe tbody tr th:only-of-type {\n",
              "        vertical-align: middle;\n",
              "    }\n",
              "\n",
              "    .dataframe tbody tr th {\n",
              "        vertical-align: top;\n",
              "    }\n",
              "\n",
              "    .dataframe thead th {\n",
              "        text-align: right;\n",
              "    }\n",
              "</style>\n",
              "<table border=\"1\" class=\"dataframe\">\n",
              "  <thead>\n",
              "    <tr style=\"text-align: right;\">\n",
              "      <th></th>\n",
              "      <th>content</th>\n",
              "      <th>score</th>\n",
              "      <th>sentiment</th>\n",
              "    </tr>\n",
              "  </thead>\n",
              "  <tbody>\n",
              "    <tr>\n",
              "      <th>6641</th>\n",
              "      <td>What is this pop up update the every time I open the app</td>\n",
              "      <td>5</td>\n",
              "      <td>1</td>\n",
              "    </tr>\n",
              "    <tr>\n",
              "      <th>8758</th>\n",
              "      <td>I cant log it in laptop</td>\n",
              "      <td>5</td>\n",
              "      <td>1</td>\n",
              "    </tr>\n",
              "    <tr>\n",
              "      <th>9256</th>\n",
              "      <td>This app is very nice but how can i change the country code phone</td>\n",
              "      <td>5</td>\n",
              "      <td>1</td>\n",
              "    </tr>\n",
              "    <tr>\n",
              "      <th>9197</th>\n",
              "      <td>I know it's not working</td>\n",
              "      <td>5</td>\n",
              "      <td>1</td>\n",
              "    </tr>\n",
              "    <tr>\n",
              "      <th>7862</th>\n",
              "      <td>I have two of them on my phone how do I take the other one off</td>\n",
              "      <td>5</td>\n",
              "      <td>1</td>\n",
              "    </tr>\n",
              "    <tr>\n",
              "      <th>6285</th>\n",
              "      <td>Sometimes app doesn't work</td>\n",
              "      <td>4</td>\n",
              "      <td>1</td>\n",
              "    </tr>\n",
              "    <tr>\n",
              "      <th>8583</th>\n",
              "      <td>I had this on my old old phon</td>\n",
              "      <td>5</td>\n",
              "      <td>1</td>\n",
              "    </tr>\n",
              "    <tr>\n",
              "      <th>5637</th>\n",
              "      <td>It is showing me United states code.and I live in uganda.</td>\n",
              "      <td>5</td>\n",
              "      <td>1</td>\n",
              "    </tr>\n",
              "    <tr>\n",
              "      <th>5798</th>\n",
              "      <td>When. I type in my. Mollie number it don't work plz fix</td>\n",
              "      <td>5</td>\n",
              "      <td>1</td>\n",
              "    </tr>\n",
              "    <tr>\n",
              "      <th>4719</th>\n",
              "      <td>I cant not log in or get my self in to start imo</td>\n",
              "      <td>5</td>\n",
              "      <td>1</td>\n",
              "    </tr>\n",
              "  </tbody>\n",
              "</table>\n",
              "</div>\n",
              "      <button class=\"colab-df-convert\" onclick=\"convertToInteractive('df-2bd28e06-9c97-49a3-9bde-a6d19e4146f1')\"\n",
              "              title=\"Convert this dataframe to an interactive table.\"\n",
              "              style=\"display:none;\">\n",
              "        \n",
              "  <svg xmlns=\"http://www.w3.org/2000/svg\" height=\"24px\"viewBox=\"0 0 24 24\"\n",
              "       width=\"24px\">\n",
              "    <path d=\"M0 0h24v24H0V0z\" fill=\"none\"/>\n",
              "    <path d=\"M18.56 5.44l.94 2.06.94-2.06 2.06-.94-2.06-.94-.94-2.06-.94 2.06-2.06.94zm-11 1L8.5 8.5l.94-2.06 2.06-.94-2.06-.94L8.5 2.5l-.94 2.06-2.06.94zm10 10l.94 2.06.94-2.06 2.06-.94-2.06-.94-.94-2.06-.94 2.06-2.06.94z\"/><path d=\"M17.41 7.96l-1.37-1.37c-.4-.4-.92-.59-1.43-.59-.52 0-1.04.2-1.43.59L10.3 9.45l-7.72 7.72c-.78.78-.78 2.05 0 2.83L4 21.41c.39.39.9.59 1.41.59.51 0 1.02-.2 1.41-.59l7.78-7.78 2.81-2.81c.8-.78.8-2.07 0-2.86zM5.41 20L4 18.59l7.72-7.72 1.47 1.35L5.41 20z\"/>\n",
              "  </svg>\n",
              "      </button>\n",
              "      \n",
              "  <style>\n",
              "    .colab-df-container {\n",
              "      display:flex;\n",
              "      flex-wrap:wrap;\n",
              "      gap: 12px;\n",
              "    }\n",
              "\n",
              "    .colab-df-convert {\n",
              "      background-color: #E8F0FE;\n",
              "      border: none;\n",
              "      border-radius: 50%;\n",
              "      cursor: pointer;\n",
              "      display: none;\n",
              "      fill: #1967D2;\n",
              "      height: 32px;\n",
              "      padding: 0 0 0 0;\n",
              "      width: 32px;\n",
              "    }\n",
              "\n",
              "    .colab-df-convert:hover {\n",
              "      background-color: #E2EBFA;\n",
              "      box-shadow: 0px 1px 2px rgba(60, 64, 67, 0.3), 0px 1px 3px 1px rgba(60, 64, 67, 0.15);\n",
              "      fill: #174EA6;\n",
              "    }\n",
              "\n",
              "    [theme=dark] .colab-df-convert {\n",
              "      background-color: #3B4455;\n",
              "      fill: #D2E3FC;\n",
              "    }\n",
              "\n",
              "    [theme=dark] .colab-df-convert:hover {\n",
              "      background-color: #434B5C;\n",
              "      box-shadow: 0px 1px 3px 1px rgba(0, 0, 0, 0.15);\n",
              "      filter: drop-shadow(0px 1px 2px rgba(0, 0, 0, 0.3));\n",
              "      fill: #FFFFFF;\n",
              "    }\n",
              "  </style>\n",
              "\n",
              "      <script>\n",
              "        const buttonEl =\n",
              "          document.querySelector('#df-2bd28e06-9c97-49a3-9bde-a6d19e4146f1 button.colab-df-convert');\n",
              "        buttonEl.style.display =\n",
              "          google.colab.kernel.accessAllowed ? 'block' : 'none';\n",
              "\n",
              "        async function convertToInteractive(key) {\n",
              "          const element = document.querySelector('#df-2bd28e06-9c97-49a3-9bde-a6d19e4146f1');\n",
              "          const dataTable =\n",
              "            await google.colab.kernel.invokeFunction('convertToInteractive',\n",
              "                                                     [key], {});\n",
              "          if (!dataTable) return;\n",
              "\n",
              "          const docLinkHtml = 'Like what you see? Visit the ' +\n",
              "            '<a target=\"_blank\" href=https://colab.research.google.com/notebooks/data_table.ipynb>data table notebook</a>'\n",
              "            + ' to learn more about interactive tables.';\n",
              "          element.innerHTML = '';\n",
              "          dataTable['output_type'] = 'display_data';\n",
              "          await google.colab.output.renderOutput(dataTable, element);\n",
              "          const docLink = document.createElement('div');\n",
              "          docLink.innerHTML = docLinkHtml;\n",
              "          element.appendChild(docLink);\n",
              "        }\n",
              "      </script>\n",
              "    </div>\n",
              "  </div>\n",
              "  "
            ]
          },
          "metadata": {},
          "execution_count": 83
        }
      ]
    },
    {
      "cell_type": "code",
      "source": [
        "# In my opinion, 1 (the last) of the 10 errors shown below actually reflects user errors.\n",
        "\n",
        "train_df[(train_df[\"sentiment\"]!=y_pred_train_cnb )\n",
        "         & (train_df[\"sentiment\"]==0)][\n",
        "    [\"content\", \"score\", \"sentiment\"]].iloc[:10]"
      ],
      "metadata": {
        "colab": {
          "base_uri": "https://localhost:8080/",
          "height": 362
        },
        "id": "SPWG39ulcuL4",
        "outputId": "72103a83-5f41-4851-96d4-e0e29938aeb8"
      },
      "execution_count": 84,
      "outputs": [
        {
          "output_type": "execute_result",
          "data": {
            "text/plain": [
              "                                                                             content  \\\n",
              "5662  not a good app for video calls.                                                  \n",
              "7355  you have to tell your friends to d imo on there phone or ipad                    \n",
              "5356  Too much ad                                                                      \n",
              "3804  It was good until the update, now it doesnt workkkkkk                            \n",
              "7546  is not working after a bit                                                       \n",
              "3909  can't share videos anymore....garbage                                            \n",
              "2089  I use to love this app but recently I cannot take any calls or messages on it.   \n",
              "7044  Well before it was good..... But now WHAT IS THIS.                               \n",
              "9755  It was good before update                                                        \n",
              "8413  Good. But it could be better.                                                    \n",
              "\n",
              "      score  sentiment  \n",
              "5662  1      0          \n",
              "7355  1      0          \n",
              "5356  1      0          \n",
              "3804  1      0          \n",
              "7546  1      0          \n",
              "3909  1      0          \n",
              "2089  1      0          \n",
              "7044  1      0          \n",
              "9755  1      0          \n",
              "8413  1      0          "
            ],
            "text/html": [
              "\n",
              "  <div id=\"df-31558bb0-1878-41cd-9f9d-dc90e600d7e1\">\n",
              "    <div class=\"colab-df-container\">\n",
              "      <div>\n",
              "<style scoped>\n",
              "    .dataframe tbody tr th:only-of-type {\n",
              "        vertical-align: middle;\n",
              "    }\n",
              "\n",
              "    .dataframe tbody tr th {\n",
              "        vertical-align: top;\n",
              "    }\n",
              "\n",
              "    .dataframe thead th {\n",
              "        text-align: right;\n",
              "    }\n",
              "</style>\n",
              "<table border=\"1\" class=\"dataframe\">\n",
              "  <thead>\n",
              "    <tr style=\"text-align: right;\">\n",
              "      <th></th>\n",
              "      <th>content</th>\n",
              "      <th>score</th>\n",
              "      <th>sentiment</th>\n",
              "    </tr>\n",
              "  </thead>\n",
              "  <tbody>\n",
              "    <tr>\n",
              "      <th>5662</th>\n",
              "      <td>not a good app for video calls.</td>\n",
              "      <td>1</td>\n",
              "      <td>0</td>\n",
              "    </tr>\n",
              "    <tr>\n",
              "      <th>7355</th>\n",
              "      <td>you have to tell your friends to d imo on there phone or ipad</td>\n",
              "      <td>1</td>\n",
              "      <td>0</td>\n",
              "    </tr>\n",
              "    <tr>\n",
              "      <th>5356</th>\n",
              "      <td>Too much ad</td>\n",
              "      <td>1</td>\n",
              "      <td>0</td>\n",
              "    </tr>\n",
              "    <tr>\n",
              "      <th>3804</th>\n",
              "      <td>It was good until the update, now it doesnt workkkkkk</td>\n",
              "      <td>1</td>\n",
              "      <td>0</td>\n",
              "    </tr>\n",
              "    <tr>\n",
              "      <th>7546</th>\n",
              "      <td>is not working after a bit</td>\n",
              "      <td>1</td>\n",
              "      <td>0</td>\n",
              "    </tr>\n",
              "    <tr>\n",
              "      <th>3909</th>\n",
              "      <td>can't share videos anymore....garbage</td>\n",
              "      <td>1</td>\n",
              "      <td>0</td>\n",
              "    </tr>\n",
              "    <tr>\n",
              "      <th>2089</th>\n",
              "      <td>I use to love this app but recently I cannot take any calls or messages on it.</td>\n",
              "      <td>1</td>\n",
              "      <td>0</td>\n",
              "    </tr>\n",
              "    <tr>\n",
              "      <th>7044</th>\n",
              "      <td>Well before it was good..... But now WHAT IS THIS.</td>\n",
              "      <td>1</td>\n",
              "      <td>0</td>\n",
              "    </tr>\n",
              "    <tr>\n",
              "      <th>9755</th>\n",
              "      <td>It was good before update</td>\n",
              "      <td>1</td>\n",
              "      <td>0</td>\n",
              "    </tr>\n",
              "    <tr>\n",
              "      <th>8413</th>\n",
              "      <td>Good. But it could be better.</td>\n",
              "      <td>1</td>\n",
              "      <td>0</td>\n",
              "    </tr>\n",
              "  </tbody>\n",
              "</table>\n",
              "</div>\n",
              "      <button class=\"colab-df-convert\" onclick=\"convertToInteractive('df-31558bb0-1878-41cd-9f9d-dc90e600d7e1')\"\n",
              "              title=\"Convert this dataframe to an interactive table.\"\n",
              "              style=\"display:none;\">\n",
              "        \n",
              "  <svg xmlns=\"http://www.w3.org/2000/svg\" height=\"24px\"viewBox=\"0 0 24 24\"\n",
              "       width=\"24px\">\n",
              "    <path d=\"M0 0h24v24H0V0z\" fill=\"none\"/>\n",
              "    <path d=\"M18.56 5.44l.94 2.06.94-2.06 2.06-.94-2.06-.94-.94-2.06-.94 2.06-2.06.94zm-11 1L8.5 8.5l.94-2.06 2.06-.94-2.06-.94L8.5 2.5l-.94 2.06-2.06.94zm10 10l.94 2.06.94-2.06 2.06-.94-2.06-.94-.94-2.06-.94 2.06-2.06.94z\"/><path d=\"M17.41 7.96l-1.37-1.37c-.4-.4-.92-.59-1.43-.59-.52 0-1.04.2-1.43.59L10.3 9.45l-7.72 7.72c-.78.78-.78 2.05 0 2.83L4 21.41c.39.39.9.59 1.41.59.51 0 1.02-.2 1.41-.59l7.78-7.78 2.81-2.81c.8-.78.8-2.07 0-2.86zM5.41 20L4 18.59l7.72-7.72 1.47 1.35L5.41 20z\"/>\n",
              "  </svg>\n",
              "      </button>\n",
              "      \n",
              "  <style>\n",
              "    .colab-df-container {\n",
              "      display:flex;\n",
              "      flex-wrap:wrap;\n",
              "      gap: 12px;\n",
              "    }\n",
              "\n",
              "    .colab-df-convert {\n",
              "      background-color: #E8F0FE;\n",
              "      border: none;\n",
              "      border-radius: 50%;\n",
              "      cursor: pointer;\n",
              "      display: none;\n",
              "      fill: #1967D2;\n",
              "      height: 32px;\n",
              "      padding: 0 0 0 0;\n",
              "      width: 32px;\n",
              "    }\n",
              "\n",
              "    .colab-df-convert:hover {\n",
              "      background-color: #E2EBFA;\n",
              "      box-shadow: 0px 1px 2px rgba(60, 64, 67, 0.3), 0px 1px 3px 1px rgba(60, 64, 67, 0.15);\n",
              "      fill: #174EA6;\n",
              "    }\n",
              "\n",
              "    [theme=dark] .colab-df-convert {\n",
              "      background-color: #3B4455;\n",
              "      fill: #D2E3FC;\n",
              "    }\n",
              "\n",
              "    [theme=dark] .colab-df-convert:hover {\n",
              "      background-color: #434B5C;\n",
              "      box-shadow: 0px 1px 3px 1px rgba(0, 0, 0, 0.15);\n",
              "      filter: drop-shadow(0px 1px 2px rgba(0, 0, 0, 0.3));\n",
              "      fill: #FFFFFF;\n",
              "    }\n",
              "  </style>\n",
              "\n",
              "      <script>\n",
              "        const buttonEl =\n",
              "          document.querySelector('#df-31558bb0-1878-41cd-9f9d-dc90e600d7e1 button.colab-df-convert');\n",
              "        buttonEl.style.display =\n",
              "          google.colab.kernel.accessAllowed ? 'block' : 'none';\n",
              "\n",
              "        async function convertToInteractive(key) {\n",
              "          const element = document.querySelector('#df-31558bb0-1878-41cd-9f9d-dc90e600d7e1');\n",
              "          const dataTable =\n",
              "            await google.colab.kernel.invokeFunction('convertToInteractive',\n",
              "                                                     [key], {});\n",
              "          if (!dataTable) return;\n",
              "\n",
              "          const docLinkHtml = 'Like what you see? Visit the ' +\n",
              "            '<a target=\"_blank\" href=https://colab.research.google.com/notebooks/data_table.ipynb>data table notebook</a>'\n",
              "            + ' to learn more about interactive tables.';\n",
              "          element.innerHTML = '';\n",
              "          dataTable['output_type'] = 'display_data';\n",
              "          await google.colab.output.renderOutput(dataTable, element);\n",
              "          const docLink = document.createElement('div');\n",
              "          docLink.innerHTML = docLinkHtml;\n",
              "          element.appendChild(docLink);\n",
              "        }\n",
              "      </script>\n",
              "    </div>\n",
              "  </div>\n",
              "  "
            ]
          },
          "metadata": {},
          "execution_count": 84
        }
      ]
    },
    {
      "cell_type": "code",
      "source": [
        "# In my opinion, 5 of the 10 errors shown below actually reflect user errors.\n",
        "test_df[(test_df[\"sentiment\"]!=y_pred_test_cnb )\n",
        "         & (test_df[\"sentiment\"]==1)][\n",
        "    [\"content\", \"score\", \"sentiment\"]].iloc[:10]"
      ],
      "metadata": {
        "colab": {
          "base_uri": "https://localhost:8080/",
          "height": 441
        },
        "id": "jeFriBEDa3gh",
        "outputId": "3ceb062e-baf9-4f39-eba4-2ccd5da29ca1"
      },
      "execution_count": 86,
      "outputs": [
        {
          "output_type": "execute_result",
          "data": {
            "text/plain": [
              "                                                                                                                                                                                                     content  \\\n",
              "8165  Too many updates,                                                                                                                                                                                        \n",
              "2341  I've not used this app enough to make good or bad comments about it. From what I've been told and that's why I'm installing it,|everyone says it's top notch.                                            \n",
              "8365  why isn't my im0 upgrade no working                                                                                                                                                                      \n",
              "5695  Try to add multiple features ...calling.                                                                                                                                                                 \n",
              "1933  i like my rxperience with imo. now this update mess needs more memory than i have to offer. any suggestions? i have 8g max. to incrrase it is a new plan, more money monthly, new phone and transfers.   \n",
              "5300  I skipped a step and didn't enter code, I have no icon                                                                                                                                                   \n",
              "7615  Im having a hard time updating this app                                                                                                                                                                  \n",
              "3579  There's update comes on the screen whenever I want to use the IMO app. Please improve on that                                                                                                            \n",
              "2308  My app keeps telling me that I need audio permission???                                                                                                                                                  \n",
              "8342  pizza, papers. markers notepads                                                                                                                                                                          \n",
              "\n",
              "      score  sentiment  \n",
              "8165  4      1          \n",
              "2341  4      1          \n",
              "8365  5      1          \n",
              "5695  5      1          \n",
              "1933  4      1          \n",
              "5300  5      1          \n",
              "7615  5      1          \n",
              "3579  4      1          \n",
              "2308  4      1          \n",
              "8342  5      1          "
            ],
            "text/html": [
              "\n",
              "  <div id=\"df-dc69eff6-b1a1-4e41-8881-d6153039efa7\">\n",
              "    <div class=\"colab-df-container\">\n",
              "      <div>\n",
              "<style scoped>\n",
              "    .dataframe tbody tr th:only-of-type {\n",
              "        vertical-align: middle;\n",
              "    }\n",
              "\n",
              "    .dataframe tbody tr th {\n",
              "        vertical-align: top;\n",
              "    }\n",
              "\n",
              "    .dataframe thead th {\n",
              "        text-align: right;\n",
              "    }\n",
              "</style>\n",
              "<table border=\"1\" class=\"dataframe\">\n",
              "  <thead>\n",
              "    <tr style=\"text-align: right;\">\n",
              "      <th></th>\n",
              "      <th>content</th>\n",
              "      <th>score</th>\n",
              "      <th>sentiment</th>\n",
              "    </tr>\n",
              "  </thead>\n",
              "  <tbody>\n",
              "    <tr>\n",
              "      <th>8165</th>\n",
              "      <td>Too many updates,</td>\n",
              "      <td>4</td>\n",
              "      <td>1</td>\n",
              "    </tr>\n",
              "    <tr>\n",
              "      <th>2341</th>\n",
              "      <td>I've not used this app enough to make good or bad comments about it. From what I've been told and that's why I'm installing it,|everyone says it's top notch.</td>\n",
              "      <td>4</td>\n",
              "      <td>1</td>\n",
              "    </tr>\n",
              "    <tr>\n",
              "      <th>8365</th>\n",
              "      <td>why isn't my im0 upgrade no working</td>\n",
              "      <td>5</td>\n",
              "      <td>1</td>\n",
              "    </tr>\n",
              "    <tr>\n",
              "      <th>5695</th>\n",
              "      <td>Try to add multiple features ...calling.</td>\n",
              "      <td>5</td>\n",
              "      <td>1</td>\n",
              "    </tr>\n",
              "    <tr>\n",
              "      <th>1933</th>\n",
              "      <td>i like my rxperience with imo. now this update mess needs more memory than i have to offer. any suggestions? i have 8g max. to incrrase it is a new plan, more money monthly, new phone and transfers.</td>\n",
              "      <td>4</td>\n",
              "      <td>1</td>\n",
              "    </tr>\n",
              "    <tr>\n",
              "      <th>5300</th>\n",
              "      <td>I skipped a step and didn't enter code, I have no icon</td>\n",
              "      <td>5</td>\n",
              "      <td>1</td>\n",
              "    </tr>\n",
              "    <tr>\n",
              "      <th>7615</th>\n",
              "      <td>Im having a hard time updating this app</td>\n",
              "      <td>5</td>\n",
              "      <td>1</td>\n",
              "    </tr>\n",
              "    <tr>\n",
              "      <th>3579</th>\n",
              "      <td>There's update comes on the screen whenever I want to use the IMO app. Please improve on that</td>\n",
              "      <td>4</td>\n",
              "      <td>1</td>\n",
              "    </tr>\n",
              "    <tr>\n",
              "      <th>2308</th>\n",
              "      <td>My app keeps telling me that I need audio permission???</td>\n",
              "      <td>4</td>\n",
              "      <td>1</td>\n",
              "    </tr>\n",
              "    <tr>\n",
              "      <th>8342</th>\n",
              "      <td>pizza, papers. markers notepads</td>\n",
              "      <td>5</td>\n",
              "      <td>1</td>\n",
              "    </tr>\n",
              "  </tbody>\n",
              "</table>\n",
              "</div>\n",
              "      <button class=\"colab-df-convert\" onclick=\"convertToInteractive('df-dc69eff6-b1a1-4e41-8881-d6153039efa7')\"\n",
              "              title=\"Convert this dataframe to an interactive table.\"\n",
              "              style=\"display:none;\">\n",
              "        \n",
              "  <svg xmlns=\"http://www.w3.org/2000/svg\" height=\"24px\"viewBox=\"0 0 24 24\"\n",
              "       width=\"24px\">\n",
              "    <path d=\"M0 0h24v24H0V0z\" fill=\"none\"/>\n",
              "    <path d=\"M18.56 5.44l.94 2.06.94-2.06 2.06-.94-2.06-.94-.94-2.06-.94 2.06-2.06.94zm-11 1L8.5 8.5l.94-2.06 2.06-.94-2.06-.94L8.5 2.5l-.94 2.06-2.06.94zm10 10l.94 2.06.94-2.06 2.06-.94-2.06-.94-.94-2.06-.94 2.06-2.06.94z\"/><path d=\"M17.41 7.96l-1.37-1.37c-.4-.4-.92-.59-1.43-.59-.52 0-1.04.2-1.43.59L10.3 9.45l-7.72 7.72c-.78.78-.78 2.05 0 2.83L4 21.41c.39.39.9.59 1.41.59.51 0 1.02-.2 1.41-.59l7.78-7.78 2.81-2.81c.8-.78.8-2.07 0-2.86zM5.41 20L4 18.59l7.72-7.72 1.47 1.35L5.41 20z\"/>\n",
              "  </svg>\n",
              "      </button>\n",
              "      \n",
              "  <style>\n",
              "    .colab-df-container {\n",
              "      display:flex;\n",
              "      flex-wrap:wrap;\n",
              "      gap: 12px;\n",
              "    }\n",
              "\n",
              "    .colab-df-convert {\n",
              "      background-color: #E8F0FE;\n",
              "      border: none;\n",
              "      border-radius: 50%;\n",
              "      cursor: pointer;\n",
              "      display: none;\n",
              "      fill: #1967D2;\n",
              "      height: 32px;\n",
              "      padding: 0 0 0 0;\n",
              "      width: 32px;\n",
              "    }\n",
              "\n",
              "    .colab-df-convert:hover {\n",
              "      background-color: #E2EBFA;\n",
              "      box-shadow: 0px 1px 2px rgba(60, 64, 67, 0.3), 0px 1px 3px 1px rgba(60, 64, 67, 0.15);\n",
              "      fill: #174EA6;\n",
              "    }\n",
              "\n",
              "    [theme=dark] .colab-df-convert {\n",
              "      background-color: #3B4455;\n",
              "      fill: #D2E3FC;\n",
              "    }\n",
              "\n",
              "    [theme=dark] .colab-df-convert:hover {\n",
              "      background-color: #434B5C;\n",
              "      box-shadow: 0px 1px 3px 1px rgba(0, 0, 0, 0.15);\n",
              "      filter: drop-shadow(0px 1px 2px rgba(0, 0, 0, 0.3));\n",
              "      fill: #FFFFFF;\n",
              "    }\n",
              "  </style>\n",
              "\n",
              "      <script>\n",
              "        const buttonEl =\n",
              "          document.querySelector('#df-dc69eff6-b1a1-4e41-8881-d6153039efa7 button.colab-df-convert');\n",
              "        buttonEl.style.display =\n",
              "          google.colab.kernel.accessAllowed ? 'block' : 'none';\n",
              "\n",
              "        async function convertToInteractive(key) {\n",
              "          const element = document.querySelector('#df-dc69eff6-b1a1-4e41-8881-d6153039efa7');\n",
              "          const dataTable =\n",
              "            await google.colab.kernel.invokeFunction('convertToInteractive',\n",
              "                                                     [key], {});\n",
              "          if (!dataTable) return;\n",
              "\n",
              "          const docLinkHtml = 'Like what you see? Visit the ' +\n",
              "            '<a target=\"_blank\" href=https://colab.research.google.com/notebooks/data_table.ipynb>data table notebook</a>'\n",
              "            + ' to learn more about interactive tables.';\n",
              "          element.innerHTML = '';\n",
              "          dataTable['output_type'] = 'display_data';\n",
              "          await google.colab.output.renderOutput(dataTable, element);\n",
              "          const docLink = document.createElement('div');\n",
              "          docLink.innerHTML = docLinkHtml;\n",
              "          element.appendChild(docLink);\n",
              "        }\n",
              "      </script>\n",
              "    </div>\n",
              "  </div>\n",
              "  "
            ]
          },
          "metadata": {},
          "execution_count": 86
        }
      ]
    },
    {
      "cell_type": "code",
      "source": [
        "# In my opinion, none of the 10 errors shown below reflect user errors.\n",
        "test_df[(test_df[\"sentiment\"]!=y_pred_test_cnb )\n",
        "         & (test_df[\"sentiment\"]==0)][\n",
        "    [\"content\", \"score\", \"sentiment\"]].iloc[:10]"
      ],
      "metadata": {
        "colab": {
          "base_uri": "https://localhost:8080/",
          "height": 424
        },
        "id": "7tRMKGZKdQSi",
        "outputId": "dc5a50c7-5a64-4be7-c7c4-b1945e217838"
      },
      "execution_count": 87,
      "outputs": [
        {
          "output_type": "execute_result",
          "data": {
            "text/plain": [
              "                                                                                                                                                                         content  \\\n",
              "2816  the quality during the call is really bad                                                                                                                                    \n",
              "2906  I do not like this app. Can not find or chat with my friends. Bad app...Bad app!!!                                                                                           \n",
              "8062  it is out of reach it's really bad                                                                                                                                           \n",
              "3516  No sound when you call, no voice call                                                                                                                                        \n",
              "870   Can not communicate with family abroad all of a sudden , which was the ONLY reason I used this app. Guess going to have to use another app from now on. Good job Penguins.   \n",
              "5270  Imo when you first get it its realu fun and stuff but now me imo is not wroning real good me dont have that no more                                                          \n",
              "7743  😣 was a good app until the update                                                                                                                                            \n",
              "7592  a huge percentage of low definition in everything.                                                                                                                           \n",
              "3953  When i st to text the camera closes and then I had to go though a process                                                                                                    \n",
              "7336  Shittiest app I've ever used in my life.                                                                                                                                     \n",
              "\n",
              "      score  sentiment  \n",
              "2816  2      0          \n",
              "2906  1      0          \n",
              "8062  1      0          \n",
              "3516  1      0          \n",
              "870   1      0          \n",
              "5270  1      0          \n",
              "7743  1      0          \n",
              "7592  1      0          \n",
              "3953  2      0          \n",
              "7336  1      0          "
            ],
            "text/html": [
              "\n",
              "  <div id=\"df-f2f3a6aa-02a2-47e2-9fbd-7963d9b0d7f0\">\n",
              "    <div class=\"colab-df-container\">\n",
              "      <div>\n",
              "<style scoped>\n",
              "    .dataframe tbody tr th:only-of-type {\n",
              "        vertical-align: middle;\n",
              "    }\n",
              "\n",
              "    .dataframe tbody tr th {\n",
              "        vertical-align: top;\n",
              "    }\n",
              "\n",
              "    .dataframe thead th {\n",
              "        text-align: right;\n",
              "    }\n",
              "</style>\n",
              "<table border=\"1\" class=\"dataframe\">\n",
              "  <thead>\n",
              "    <tr style=\"text-align: right;\">\n",
              "      <th></th>\n",
              "      <th>content</th>\n",
              "      <th>score</th>\n",
              "      <th>sentiment</th>\n",
              "    </tr>\n",
              "  </thead>\n",
              "  <tbody>\n",
              "    <tr>\n",
              "      <th>2816</th>\n",
              "      <td>the quality during the call is really bad</td>\n",
              "      <td>2</td>\n",
              "      <td>0</td>\n",
              "    </tr>\n",
              "    <tr>\n",
              "      <th>2906</th>\n",
              "      <td>I do not like this app. Can not find or chat with my friends. Bad app...Bad app!!!</td>\n",
              "      <td>1</td>\n",
              "      <td>0</td>\n",
              "    </tr>\n",
              "    <tr>\n",
              "      <th>8062</th>\n",
              "      <td>it is out of reach it's really bad</td>\n",
              "      <td>1</td>\n",
              "      <td>0</td>\n",
              "    </tr>\n",
              "    <tr>\n",
              "      <th>3516</th>\n",
              "      <td>No sound when you call, no voice call</td>\n",
              "      <td>1</td>\n",
              "      <td>0</td>\n",
              "    </tr>\n",
              "    <tr>\n",
              "      <th>870</th>\n",
              "      <td>Can not communicate with family abroad all of a sudden , which was the ONLY reason I used this app. Guess going to have to use another app from now on. Good job Penguins.</td>\n",
              "      <td>1</td>\n",
              "      <td>0</td>\n",
              "    </tr>\n",
              "    <tr>\n",
              "      <th>5270</th>\n",
              "      <td>Imo when you first get it its realu fun and stuff but now me imo is not wroning real good me dont have that no more</td>\n",
              "      <td>1</td>\n",
              "      <td>0</td>\n",
              "    </tr>\n",
              "    <tr>\n",
              "      <th>7743</th>\n",
              "      <td>😣 was a good app until the update</td>\n",
              "      <td>1</td>\n",
              "      <td>0</td>\n",
              "    </tr>\n",
              "    <tr>\n",
              "      <th>7592</th>\n",
              "      <td>a huge percentage of low definition in everything.</td>\n",
              "      <td>1</td>\n",
              "      <td>0</td>\n",
              "    </tr>\n",
              "    <tr>\n",
              "      <th>3953</th>\n",
              "      <td>When i st to text the camera closes and then I had to go though a process</td>\n",
              "      <td>2</td>\n",
              "      <td>0</td>\n",
              "    </tr>\n",
              "    <tr>\n",
              "      <th>7336</th>\n",
              "      <td>Shittiest app I've ever used in my life.</td>\n",
              "      <td>1</td>\n",
              "      <td>0</td>\n",
              "    </tr>\n",
              "  </tbody>\n",
              "</table>\n",
              "</div>\n",
              "      <button class=\"colab-df-convert\" onclick=\"convertToInteractive('df-f2f3a6aa-02a2-47e2-9fbd-7963d9b0d7f0')\"\n",
              "              title=\"Convert this dataframe to an interactive table.\"\n",
              "              style=\"display:none;\">\n",
              "        \n",
              "  <svg xmlns=\"http://www.w3.org/2000/svg\" height=\"24px\"viewBox=\"0 0 24 24\"\n",
              "       width=\"24px\">\n",
              "    <path d=\"M0 0h24v24H0V0z\" fill=\"none\"/>\n",
              "    <path d=\"M18.56 5.44l.94 2.06.94-2.06 2.06-.94-2.06-.94-.94-2.06-.94 2.06-2.06.94zm-11 1L8.5 8.5l.94-2.06 2.06-.94-2.06-.94L8.5 2.5l-.94 2.06-2.06.94zm10 10l.94 2.06.94-2.06 2.06-.94-2.06-.94-.94-2.06-.94 2.06-2.06.94z\"/><path d=\"M17.41 7.96l-1.37-1.37c-.4-.4-.92-.59-1.43-.59-.52 0-1.04.2-1.43.59L10.3 9.45l-7.72 7.72c-.78.78-.78 2.05 0 2.83L4 21.41c.39.39.9.59 1.41.59.51 0 1.02-.2 1.41-.59l7.78-7.78 2.81-2.81c.8-.78.8-2.07 0-2.86zM5.41 20L4 18.59l7.72-7.72 1.47 1.35L5.41 20z\"/>\n",
              "  </svg>\n",
              "      </button>\n",
              "      \n",
              "  <style>\n",
              "    .colab-df-container {\n",
              "      display:flex;\n",
              "      flex-wrap:wrap;\n",
              "      gap: 12px;\n",
              "    }\n",
              "\n",
              "    .colab-df-convert {\n",
              "      background-color: #E8F0FE;\n",
              "      border: none;\n",
              "      border-radius: 50%;\n",
              "      cursor: pointer;\n",
              "      display: none;\n",
              "      fill: #1967D2;\n",
              "      height: 32px;\n",
              "      padding: 0 0 0 0;\n",
              "      width: 32px;\n",
              "    }\n",
              "\n",
              "    .colab-df-convert:hover {\n",
              "      background-color: #E2EBFA;\n",
              "      box-shadow: 0px 1px 2px rgba(60, 64, 67, 0.3), 0px 1px 3px 1px rgba(60, 64, 67, 0.15);\n",
              "      fill: #174EA6;\n",
              "    }\n",
              "\n",
              "    [theme=dark] .colab-df-convert {\n",
              "      background-color: #3B4455;\n",
              "      fill: #D2E3FC;\n",
              "    }\n",
              "\n",
              "    [theme=dark] .colab-df-convert:hover {\n",
              "      background-color: #434B5C;\n",
              "      box-shadow: 0px 1px 3px 1px rgba(0, 0, 0, 0.15);\n",
              "      filter: drop-shadow(0px 1px 2px rgba(0, 0, 0, 0.3));\n",
              "      fill: #FFFFFF;\n",
              "    }\n",
              "  </style>\n",
              "\n",
              "      <script>\n",
              "        const buttonEl =\n",
              "          document.querySelector('#df-f2f3a6aa-02a2-47e2-9fbd-7963d9b0d7f0 button.colab-df-convert');\n",
              "        buttonEl.style.display =\n",
              "          google.colab.kernel.accessAllowed ? 'block' : 'none';\n",
              "\n",
              "        async function convertToInteractive(key) {\n",
              "          const element = document.querySelector('#df-f2f3a6aa-02a2-47e2-9fbd-7963d9b0d7f0');\n",
              "          const dataTable =\n",
              "            await google.colab.kernel.invokeFunction('convertToInteractive',\n",
              "                                                     [key], {});\n",
              "          if (!dataTable) return;\n",
              "\n",
              "          const docLinkHtml = 'Like what you see? Visit the ' +\n",
              "            '<a target=\"_blank\" href=https://colab.research.google.com/notebooks/data_table.ipynb>data table notebook</a>'\n",
              "            + ' to learn more about interactive tables.';\n",
              "          element.innerHTML = '';\n",
              "          dataTable['output_type'] = 'display_data';\n",
              "          await google.colab.output.renderOutput(dataTable, element);\n",
              "          const docLink = document.createElement('div');\n",
              "          docLink.innerHTML = docLinkHtml;\n",
              "          element.appendChild(docLink);\n",
              "        }\n",
              "      </script>\n",
              "    </div>\n",
              "  </div>\n",
              "  "
            ]
          },
          "metadata": {},
          "execution_count": 87
        }
      ]
    },
    {
      "cell_type": "code",
      "source": [
        "train_df[\"predicted_sentiment\"] = y_pred_train_cnb\n",
        "test_df[\"predicted_sentiment\"] = y_pred_test_cnb"
      ],
      "metadata": {
        "id": "j7Xmt9fTd0tQ"
      },
      "execution_count": 88,
      "outputs": []
    },
    {
      "cell_type": "code",
      "source": [
        "train_df[\n",
        "    \"prediction accurate\"] = (\n",
        "        train_df[\"predicted_sentiment\"] == train_df[\"sentiment\"]).astype(int)\n",
        "test_df[\n",
        "    \"prediction accurate\"] = (\n",
        "        test_df[\"predicted_sentiment\"] == test_df[\"sentiment\"]).astype(int)"
      ],
      "metadata": {
        "id": "lfcVM2UzeK87"
      },
      "execution_count": 89,
      "outputs": []
    },
    {
      "cell_type": "markdown",
      "source": [
        "The model was most accurate when evaluating reviews with very polar ratings (1 star or 5 stars). Future analysis could focus on improving performance for reviews corresponding to 2 and 4 star ratings."
      ],
      "metadata": {
        "id": "Z3VCzCrbesPL"
      }
    },
    {
      "cell_type": "code",
      "source": [
        "train_df.groupby(\"score\")[\"prediction accurate\"].agg([\"mean\", \"count\"])"
      ],
      "metadata": {
        "colab": {
          "base_uri": "https://localhost:8080/",
          "height": 206
        },
        "id": "voO3lxPDegWO",
        "outputId": "3bac1509-d536-43ae-fd57-a43fa27dfdf0"
      },
      "execution_count": 94,
      "outputs": [
        {
          "output_type": "execute_result",
          "data": {
            "text/plain": [
              "           mean  count\n",
              "score                 \n",
              "1      0.945987  3314 \n",
              "2      0.865922  537  \n",
              "4      0.816694  611  \n",
              "5      0.919891  2946 "
            ],
            "text/html": [
              "\n",
              "  <div id=\"df-06d88fd6-6a18-4e91-8a51-0cc63dc77f65\">\n",
              "    <div class=\"colab-df-container\">\n",
              "      <div>\n",
              "<style scoped>\n",
              "    .dataframe tbody tr th:only-of-type {\n",
              "        vertical-align: middle;\n",
              "    }\n",
              "\n",
              "    .dataframe tbody tr th {\n",
              "        vertical-align: top;\n",
              "    }\n",
              "\n",
              "    .dataframe thead th {\n",
              "        text-align: right;\n",
              "    }\n",
              "</style>\n",
              "<table border=\"1\" class=\"dataframe\">\n",
              "  <thead>\n",
              "    <tr style=\"text-align: right;\">\n",
              "      <th></th>\n",
              "      <th>mean</th>\n",
              "      <th>count</th>\n",
              "    </tr>\n",
              "    <tr>\n",
              "      <th>score</th>\n",
              "      <th></th>\n",
              "      <th></th>\n",
              "    </tr>\n",
              "  </thead>\n",
              "  <tbody>\n",
              "    <tr>\n",
              "      <th>1</th>\n",
              "      <td>0.945987</td>\n",
              "      <td>3314</td>\n",
              "    </tr>\n",
              "    <tr>\n",
              "      <th>2</th>\n",
              "      <td>0.865922</td>\n",
              "      <td>537</td>\n",
              "    </tr>\n",
              "    <tr>\n",
              "      <th>4</th>\n",
              "      <td>0.816694</td>\n",
              "      <td>611</td>\n",
              "    </tr>\n",
              "    <tr>\n",
              "      <th>5</th>\n",
              "      <td>0.919891</td>\n",
              "      <td>2946</td>\n",
              "    </tr>\n",
              "  </tbody>\n",
              "</table>\n",
              "</div>\n",
              "      <button class=\"colab-df-convert\" onclick=\"convertToInteractive('df-06d88fd6-6a18-4e91-8a51-0cc63dc77f65')\"\n",
              "              title=\"Convert this dataframe to an interactive table.\"\n",
              "              style=\"display:none;\">\n",
              "        \n",
              "  <svg xmlns=\"http://www.w3.org/2000/svg\" height=\"24px\"viewBox=\"0 0 24 24\"\n",
              "       width=\"24px\">\n",
              "    <path d=\"M0 0h24v24H0V0z\" fill=\"none\"/>\n",
              "    <path d=\"M18.56 5.44l.94 2.06.94-2.06 2.06-.94-2.06-.94-.94-2.06-.94 2.06-2.06.94zm-11 1L8.5 8.5l.94-2.06 2.06-.94-2.06-.94L8.5 2.5l-.94 2.06-2.06.94zm10 10l.94 2.06.94-2.06 2.06-.94-2.06-.94-.94-2.06-.94 2.06-2.06.94z\"/><path d=\"M17.41 7.96l-1.37-1.37c-.4-.4-.92-.59-1.43-.59-.52 0-1.04.2-1.43.59L10.3 9.45l-7.72 7.72c-.78.78-.78 2.05 0 2.83L4 21.41c.39.39.9.59 1.41.59.51 0 1.02-.2 1.41-.59l7.78-7.78 2.81-2.81c.8-.78.8-2.07 0-2.86zM5.41 20L4 18.59l7.72-7.72 1.47 1.35L5.41 20z\"/>\n",
              "  </svg>\n",
              "      </button>\n",
              "      \n",
              "  <style>\n",
              "    .colab-df-container {\n",
              "      display:flex;\n",
              "      flex-wrap:wrap;\n",
              "      gap: 12px;\n",
              "    }\n",
              "\n",
              "    .colab-df-convert {\n",
              "      background-color: #E8F0FE;\n",
              "      border: none;\n",
              "      border-radius: 50%;\n",
              "      cursor: pointer;\n",
              "      display: none;\n",
              "      fill: #1967D2;\n",
              "      height: 32px;\n",
              "      padding: 0 0 0 0;\n",
              "      width: 32px;\n",
              "    }\n",
              "\n",
              "    .colab-df-convert:hover {\n",
              "      background-color: #E2EBFA;\n",
              "      box-shadow: 0px 1px 2px rgba(60, 64, 67, 0.3), 0px 1px 3px 1px rgba(60, 64, 67, 0.15);\n",
              "      fill: #174EA6;\n",
              "    }\n",
              "\n",
              "    [theme=dark] .colab-df-convert {\n",
              "      background-color: #3B4455;\n",
              "      fill: #D2E3FC;\n",
              "    }\n",
              "\n",
              "    [theme=dark] .colab-df-convert:hover {\n",
              "      background-color: #434B5C;\n",
              "      box-shadow: 0px 1px 3px 1px rgba(0, 0, 0, 0.15);\n",
              "      filter: drop-shadow(0px 1px 2px rgba(0, 0, 0, 0.3));\n",
              "      fill: #FFFFFF;\n",
              "    }\n",
              "  </style>\n",
              "\n",
              "      <script>\n",
              "        const buttonEl =\n",
              "          document.querySelector('#df-06d88fd6-6a18-4e91-8a51-0cc63dc77f65 button.colab-df-convert');\n",
              "        buttonEl.style.display =\n",
              "          google.colab.kernel.accessAllowed ? 'block' : 'none';\n",
              "\n",
              "        async function convertToInteractive(key) {\n",
              "          const element = document.querySelector('#df-06d88fd6-6a18-4e91-8a51-0cc63dc77f65');\n",
              "          const dataTable =\n",
              "            await google.colab.kernel.invokeFunction('convertToInteractive',\n",
              "                                                     [key], {});\n",
              "          if (!dataTable) return;\n",
              "\n",
              "          const docLinkHtml = 'Like what you see? Visit the ' +\n",
              "            '<a target=\"_blank\" href=https://colab.research.google.com/notebooks/data_table.ipynb>data table notebook</a>'\n",
              "            + ' to learn more about interactive tables.';\n",
              "          element.innerHTML = '';\n",
              "          dataTable['output_type'] = 'display_data';\n",
              "          await google.colab.output.renderOutput(dataTable, element);\n",
              "          const docLink = document.createElement('div');\n",
              "          docLink.innerHTML = docLinkHtml;\n",
              "          element.appendChild(docLink);\n",
              "        }\n",
              "      </script>\n",
              "    </div>\n",
              "  </div>\n",
              "  "
            ]
          },
          "metadata": {},
          "execution_count": 94
        }
      ]
    },
    {
      "cell_type": "code",
      "source": [
        "test_df.groupby(\"score\")[\"prediction accurate\"].agg([\"mean\", \"count\"])"
      ],
      "metadata": {
        "colab": {
          "base_uri": "https://localhost:8080/",
          "height": 206
        },
        "id": "GcScY8nhe3hx",
        "outputId": "66473413-ff6d-4c1e-b4d3-d6405c19a792"
      },
      "execution_count": 95,
      "outputs": [
        {
          "output_type": "execute_result",
          "data": {
            "text/plain": [
              "           mean  count\n",
              "score                 \n",
              "1      0.936430  818  \n",
              "2      0.810606  132  \n",
              "4      0.739884  173  \n",
              "5      0.883562  730  "
            ],
            "text/html": [
              "\n",
              "  <div id=\"df-fd116773-cf68-4dfa-b9e9-d0a796b152fd\">\n",
              "    <div class=\"colab-df-container\">\n",
              "      <div>\n",
              "<style scoped>\n",
              "    .dataframe tbody tr th:only-of-type {\n",
              "        vertical-align: middle;\n",
              "    }\n",
              "\n",
              "    .dataframe tbody tr th {\n",
              "        vertical-align: top;\n",
              "    }\n",
              "\n",
              "    .dataframe thead th {\n",
              "        text-align: right;\n",
              "    }\n",
              "</style>\n",
              "<table border=\"1\" class=\"dataframe\">\n",
              "  <thead>\n",
              "    <tr style=\"text-align: right;\">\n",
              "      <th></th>\n",
              "      <th>mean</th>\n",
              "      <th>count</th>\n",
              "    </tr>\n",
              "    <tr>\n",
              "      <th>score</th>\n",
              "      <th></th>\n",
              "      <th></th>\n",
              "    </tr>\n",
              "  </thead>\n",
              "  <tbody>\n",
              "    <tr>\n",
              "      <th>1</th>\n",
              "      <td>0.936430</td>\n",
              "      <td>818</td>\n",
              "    </tr>\n",
              "    <tr>\n",
              "      <th>2</th>\n",
              "      <td>0.810606</td>\n",
              "      <td>132</td>\n",
              "    </tr>\n",
              "    <tr>\n",
              "      <th>4</th>\n",
              "      <td>0.739884</td>\n",
              "      <td>173</td>\n",
              "    </tr>\n",
              "    <tr>\n",
              "      <th>5</th>\n",
              "      <td>0.883562</td>\n",
              "      <td>730</td>\n",
              "    </tr>\n",
              "  </tbody>\n",
              "</table>\n",
              "</div>\n",
              "      <button class=\"colab-df-convert\" onclick=\"convertToInteractive('df-fd116773-cf68-4dfa-b9e9-d0a796b152fd')\"\n",
              "              title=\"Convert this dataframe to an interactive table.\"\n",
              "              style=\"display:none;\">\n",
              "        \n",
              "  <svg xmlns=\"http://www.w3.org/2000/svg\" height=\"24px\"viewBox=\"0 0 24 24\"\n",
              "       width=\"24px\">\n",
              "    <path d=\"M0 0h24v24H0V0z\" fill=\"none\"/>\n",
              "    <path d=\"M18.56 5.44l.94 2.06.94-2.06 2.06-.94-2.06-.94-.94-2.06-.94 2.06-2.06.94zm-11 1L8.5 8.5l.94-2.06 2.06-.94-2.06-.94L8.5 2.5l-.94 2.06-2.06.94zm10 10l.94 2.06.94-2.06 2.06-.94-2.06-.94-.94-2.06-.94 2.06-2.06.94z\"/><path d=\"M17.41 7.96l-1.37-1.37c-.4-.4-.92-.59-1.43-.59-.52 0-1.04.2-1.43.59L10.3 9.45l-7.72 7.72c-.78.78-.78 2.05 0 2.83L4 21.41c.39.39.9.59 1.41.59.51 0 1.02-.2 1.41-.59l7.78-7.78 2.81-2.81c.8-.78.8-2.07 0-2.86zM5.41 20L4 18.59l7.72-7.72 1.47 1.35L5.41 20z\"/>\n",
              "  </svg>\n",
              "      </button>\n",
              "      \n",
              "  <style>\n",
              "    .colab-df-container {\n",
              "      display:flex;\n",
              "      flex-wrap:wrap;\n",
              "      gap: 12px;\n",
              "    }\n",
              "\n",
              "    .colab-df-convert {\n",
              "      background-color: #E8F0FE;\n",
              "      border: none;\n",
              "      border-radius: 50%;\n",
              "      cursor: pointer;\n",
              "      display: none;\n",
              "      fill: #1967D2;\n",
              "      height: 32px;\n",
              "      padding: 0 0 0 0;\n",
              "      width: 32px;\n",
              "    }\n",
              "\n",
              "    .colab-df-convert:hover {\n",
              "      background-color: #E2EBFA;\n",
              "      box-shadow: 0px 1px 2px rgba(60, 64, 67, 0.3), 0px 1px 3px 1px rgba(60, 64, 67, 0.15);\n",
              "      fill: #174EA6;\n",
              "    }\n",
              "\n",
              "    [theme=dark] .colab-df-convert {\n",
              "      background-color: #3B4455;\n",
              "      fill: #D2E3FC;\n",
              "    }\n",
              "\n",
              "    [theme=dark] .colab-df-convert:hover {\n",
              "      background-color: #434B5C;\n",
              "      box-shadow: 0px 1px 3px 1px rgba(0, 0, 0, 0.15);\n",
              "      filter: drop-shadow(0px 1px 2px rgba(0, 0, 0, 0.3));\n",
              "      fill: #FFFFFF;\n",
              "    }\n",
              "  </style>\n",
              "\n",
              "      <script>\n",
              "        const buttonEl =\n",
              "          document.querySelector('#df-fd116773-cf68-4dfa-b9e9-d0a796b152fd button.colab-df-convert');\n",
              "        buttonEl.style.display =\n",
              "          google.colab.kernel.accessAllowed ? 'block' : 'none';\n",
              "\n",
              "        async function convertToInteractive(key) {\n",
              "          const element = document.querySelector('#df-fd116773-cf68-4dfa-b9e9-d0a796b152fd');\n",
              "          const dataTable =\n",
              "            await google.colab.kernel.invokeFunction('convertToInteractive',\n",
              "                                                     [key], {});\n",
              "          if (!dataTable) return;\n",
              "\n",
              "          const docLinkHtml = 'Like what you see? Visit the ' +\n",
              "            '<a target=\"_blank\" href=https://colab.research.google.com/notebooks/data_table.ipynb>data table notebook</a>'\n",
              "            + ' to learn more about interactive tables.';\n",
              "          element.innerHTML = '';\n",
              "          dataTable['output_type'] = 'display_data';\n",
              "          await google.colab.output.renderOutput(dataTable, element);\n",
              "          const docLink = document.createElement('div');\n",
              "          docLink.innerHTML = docLinkHtml;\n",
              "          element.appendChild(docLink);\n",
              "        }\n",
              "      </script>\n",
              "    </div>\n",
              "  </div>\n",
              "  "
            ]
          },
          "metadata": {},
          "execution_count": 95
        }
      ]
    }
  ],
  "metadata": {
    "accelerator": "GPU",
    "colab": {
      "collapsed_sections": [
        "9k-VI49rcmcC",
        "JnZOw5fkcYq_",
        "rg5DbiawwVuT",
        "LlszUhNNyrl_",
        "Y0GmpAjG3GiH",
        "FPAdrx-gDX9l"
      ],
      "provenance": [],
      "toc_visible": true,
      "include_colab_link": true
    },
    "gpuClass": "standard",
    "kernelspec": {
      "display_name": "Python 3",
      "language": "python",
      "name": "python3"
    },
    "language_info": {
      "codemirror_mode": {
        "name": "ipython",
        "version": 3
      },
      "file_extension": ".py",
      "mimetype": "text/x-python",
      "name": "python",
      "nbconvert_exporter": "python",
      "pygments_lexer": "ipython3",
      "version": "3.7.0"
    }
  },
  "nbformat": 4,
  "nbformat_minor": 0
}