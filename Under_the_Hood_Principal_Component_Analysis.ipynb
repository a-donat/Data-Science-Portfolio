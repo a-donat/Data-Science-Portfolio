{
 "cells": [
  {
   "cell_type": "markdown",
   "metadata": {},
   "source": [
    "# Table of Contents"
   ]
  },
  {
   "cell_type": "markdown",
   "metadata": {},
   "source": [
    "**Under the Hood of the Principal Component Analysis (PCA)**\n",
    "1. [Set-Up](#Set-Up)\n",
    "    1. Import Libraries\n",
    "    2. Visualization Functions\n",
    "2. [Dataset](#Dataset)\n",
    "    1. Read-In Data\n",
    "    2. Split Data into Train and Test Sets\n",
    "    3. Create 2D Dataset for Visualization\n",
    "3. [Description of the Principal Component Analysis](#pca_description)\n",
    "4. [PCA Steps](#pca_steps)\n",
    "    1. [Standardize the data](#standardize)\n",
    "    2. [Construct the covariance matrix](#covariance)\n",
    "        1. What is covariance?\n",
    "        2. Visualizing Covariance\n",
    "        3. Finding the Covariance Matrix with Numpy and Pandas\n",
    "    3. [Obtain the eigenvalues and eigenvectors of the covariance matrix](#eigenvalues_eigenvectors)\n",
    "        1. What are eigenvalues and eigenvectors?\n",
    "        2. Visualizing Eigenvectors and Eigenvalues\n",
    "        3. Finding Eigenvalues and Eigenvectors with Numpy\n",
    "    4. [Create matrix of ranked eigenvectors](#eigenvectors_matrix)\n",
    "    5. [Multiply Data by Eigenvector Matrix](#multiply_data)\n",
    "        1. How does multiplication by the Eigenvector Matrix transform the data?\n",
    "        2. Matrix Multiplication with Numpy\n",
    "    6. [Reduce Dimensionality of PCA Transformed Dataset](#reduce_dimensionality)\n",
    "5. [PCA in SK-Learn](#pca_sklearn)\n",
    "6. [Disadvantages and Limits of PCA](#disadvantages)"
   ]
  },
  {
   "cell_type": "markdown",
   "metadata": {},
   "source": [
    "# Set-Up"
   ]
  },
  {
   "cell_type": "markdown",
   "metadata": {},
   "source": [
    "## Import Libraries"
   ]
  },
  {
   "cell_type": "code",
   "execution_count": 1,
   "metadata": {},
   "outputs": [],
   "source": [
    "import ipywidgets as widgets\n",
    "from IPython.display import display\n",
    "from matplotlib.colors import ListedColormap\n",
    "import matplotlib.gridspec as gridspec\n",
    "import matplotlib.pyplot as plt\n",
    "%matplotlib nbagg\n",
    "import numpy as np\n",
    "import pandas as pd\n",
    "import seaborn as sns\n",
    "from sklearn.decomposition import PCA\n",
    "from sklearn.model_selection import train_test_split\n",
    "from sklearn.preprocessing import StandardScaler"
   ]
  },
  {
   "cell_type": "markdown",
   "metadata": {},
   "source": [
    "## Visualization Functions"
   ]
  },
  {
   "cell_type": "markdown",
   "metadata": {},
   "source": [
    "These functions generate graphs and tools that help explain the Principal Component Analysis. [Skip to Dataset.](#Dataset)"
   ]
  },
  {
   "cell_type": "code",
   "execution_count": 2,
   "metadata": {},
   "outputs": [],
   "source": [
    "def plot_cov_cor(x_var, y_var, ax=None, title=None, \n",
    "                 x_limits=None, y_limits=None):\n",
    "    \"\"\"Shows the scatter plot of x_var, y_var and label the plot with\n",
    "     the correlation and covariance between x_var, y_var.\n",
    "    Parameters\n",
    "    ------------\n",
    "    x_var : Numpy array\n",
    "        -   1 dimensional\n",
    "    y_var : Numpy array\n",
    "        -   1 dimensional, same size as x_var\n",
    "    ax : Matplotlib axis\n",
    "    title : str\n",
    "    x_limits : tuple(int or float, int or float)\n",
    "    y_limits : tuple(int or float, int or float)\n",
    "    Returns\n",
    "    ------------\n",
    "    None\n",
    "    \"\"\"\n",
    "    if ax is None:\n",
    "        ax = plt.gca()\n",
    "    ax.clear()\n",
    "    ax.scatter(x_var, y_var, s=20)\n",
    "    ax.axhline(y=0, color=\"black\", linewidth=.5)\n",
    "    ax.axvline(x=0, color=\"black\", linewidth=.5)\n",
    "    if title:\n",
    "        ax.set_title(title)\n",
    "    cov = np.cov(x_var, y_var, bias=True)[0][1]\n",
    "    cor = np.corrcoef(x_var, y_var)[0][1]\n",
    "    label = \"Covariance: %.2f\\nCorrelation: %.2f\" % (cov, cor)\n",
    "    ax.set_xlabel(label, fontsize=10)\n",
    "    if x_limits:\n",
    "        ax.set_xlim(x_limits[0], x_limits[1])\n",
    "    if y_limits:\n",
    "        ax.set_ylim(y_limits[0], y_limits[1])\n",
    "    "
   ]
  },
  {
   "cell_type": "code",
   "execution_count": 3,
   "metadata": {},
   "outputs": [],
   "source": [
    "def show_scatter_covariance(var1, var2):\n",
    "    \"\"\"Illustrates the individual contribution of each point to the covariance\n",
    "    between var1 and var2.\n",
    "    Parameters\n",
    "    ------------\n",
    "    var1 : str\n",
    "        Name of a column in coffee_X_train_std_df\n",
    "    var2 : str\n",
    "        Name of a column in coffee_X_train_std_df\n",
    "    Returns\n",
    "    ------------\n",
    "    cov_plot : Matplotlib axis\n",
    "    \"\"\"\n",
    "    \n",
    "    fig, my_ax = plt.subplots(figsize=(8, 6))\n",
    "    my_ax.clear()\n",
    "    if var1==var2:\n",
    "        cov_plot = my_ax\n",
    "        my_ax.text(0.1, 0.5, \n",
    "                   \"Graph does not support equal values for variables 1 & 2.\")\n",
    "        return cov_plot\n",
    "    \n",
    "    # All columns in the dataframe have already be standardized.\n",
    "    # Thus, the mean for each column is zero, so we can skip computing the\n",
    "    # distance of each sample from the mean.\n",
    "    temp_df = coffee_X_train_std_df[[var1, var2]].copy()\n",
    "    temp_df[\"cov_i\"] = coffee_X_train_std_df[var1] * coffee_X_train_std_df[var2]\n",
    "    \n",
    "    covariance = temp_df[\"cov_i\"].sum()/(temp_df.shape[0]-1)\n",
    "    \n",
    "    # Duplicate points will be larger on the graph.\n",
    "    temp_df[\"num_duplicates\"] = temp_df.apply(\n",
    "        lambda row: temp_df[\n",
    "            (temp_df[var1]==row[var1]) &(temp_df[var2]==row[var2])\n",
    "        ].shape[0], axis=1)\n",
    "    \n",
    "    most_duplicates = temp_df[\"num_duplicates\"].max()\n",
    "    if most_duplicates > 5:\n",
    "        point_size_scale = 5/most_duplicates\n",
    "    else:\n",
    "        point_size_scale = 1\n",
    "        \n",
    "    temp_df[\"point_size\"] = temp_df[\"num_duplicates\"] * point_size_scale * 25\n",
    "    temp_df[\"point_size\"] = temp_df[\"point_size\"].astype(int)\n",
    "    \n",
    "    temp_df = temp_df.drop_duplicates()\n",
    "    \n",
    "    # Points that contribute more to the overall covariance will be more opaque.\n",
    "    # i.e. if two points both pull down the covariance, they will both be red,\n",
    "    # but the point that pulls it down more will be darker. if two points both \n",
    "    # pull up the covariance, they will both be green, but the point that pulls \n",
    "    # it up more will be darker. \n",
    "    max_cov = temp_df[\"cov_i\"].max()\n",
    "    min_cov = temp_df[\"cov_i\"].min()\n",
    "    max_abs_cov = max(max_cov, abs(min_cov))\n",
    "    temp_df[\"cov_i_alph\"] = abs(temp_df[\"cov_i\"])/max_abs_cov\n",
    "    temp_df[\"cov_i_alph\"] = (temp_df[\"cov_i_alph\"]*0.75) + 0.25\n",
    "\n",
    "    temp_pos = temp_df[temp_df[\"cov_i\"]>0].copy()\n",
    "    temp_neg = temp_df[temp_df[\"cov_i\"]<0].copy()\n",
    "    temp_zero = temp_df[temp_df[\"cov_i\"]==0].copy()\n",
    "    \n",
    "    red_color_code = np.zeros((temp_neg.shape[0],4))\n",
    "    red_color_code[:, 0] = 0.9\n",
    "    red_color_code[:, 3] = temp_neg[\"cov_i_alph\"]\n",
    "\n",
    "    green_color_code = np.zeros((temp_pos.shape[0],4))\n",
    "    green_color_code[:, 1] = 0.7\n",
    "    green_color_code[:, 2] = 0.1\n",
    "    green_color_code[:, 3] = temp_pos[\"cov_i_alph\"]\n",
    "    \n",
    "    \n",
    "    cov_plot = my_ax.scatter(\n",
    "        temp_pos[var1], temp_pos[var2], \n",
    "        color=green_color_code, s=temp_pos[\"point_size\"])\n",
    "    my_ax.scatter(\n",
    "        temp_neg[var1], temp_neg[var2], \n",
    "        color=red_color_code, s=temp_neg[\"point_size\"])\n",
    "    \n",
    "    my_ax.scatter(\n",
    "        temp_zero[var1], temp_zero[var2], \n",
    "        color=\"\", s=temp_zero[\"point_size\"], \n",
    "        edgecolor=\"black\", linewidths=3)\n",
    "    \n",
    "    my_ax.axvline(color=\"black\", linewidth=0.5)\n",
    "    my_ax.axhline(color=\"black\", linewidth=0.5)\n",
    "    \n",
    "    x_axis_title = \"%s Minus Mean %s\" % (var1, var1)\n",
    "    y_axis_title = \"%s Minus Mean %s\" % (var2, var2)\n",
    "    my_ax.set_xlabel(x_axis_title)\n",
    "    my_ax.set_ylabel(y_axis_title)\n",
    "    \n",
    "    my_ax.set_title(\"Covariance = %.2f\" % covariance)\n",
    "    return cov_plot\n"
   ]
  },
  {
   "cell_type": "code",
   "execution_count": 4,
   "metadata": {},
   "outputs": [],
   "source": [
    "def plot_eigenvector(eigen_vector, transformation_matrix, ax=None):\n",
    "    \"\"\"Plots eigen_vector as well as eigen_vector multiplied by\n",
    "    transformation_matrix onto ax.\n",
    "    Parameters\n",
    "    ------------\n",
    "    eigen_vector : Numpy array\n",
    "    transformation_matrix : Numpy array\n",
    "    ax : Matplotlib axis\n",
    "        Axis on which to plot the graph.\n",
    "    Returns\n",
    "    ------------\n",
    "    vector_plot : Matplotlib axis\n",
    "    \"\"\"\n",
    "    if ax is None:\n",
    "        ax = plt.gca()\n",
    "        ax.clear()\n",
    "    vector_plot = ax.scatter(0, 0, \n",
    "               marker=\".\", color=\"black\")\n",
    "    temp = np.vstack((eigen_vector, np.zeros(2)))\n",
    "    ax.plot(temp[:, 0], temp[:, 1], \n",
    "            color=\"black\", linestyle=\"--\", label=\"eigen vector\")\n",
    "    eigen_vec_transformed = transformation_matrix.dot(eigen_vector)\n",
    "    temp = np.vstack((eigen_vec_transformed, np.zeros(2)))\n",
    "    ax.plot(temp[:, 0], temp[:, 1], \n",
    "            color=\"blue\", linewidth=7, alpha=.3, \n",
    "            label=\"eigen vector transformed\")\n",
    "    \n",
    "    return vector_plot\n"
   ]
  },
  {
   "cell_type": "code",
   "execution_count": 5,
   "metadata": {},
   "outputs": [],
   "source": [
    "def show_eigenvectors_np(array1, array2, ax):\n",
    "    \"\"\"Plots the eigenvectors of the covariance matrix of array1 and array2\n",
    "     on the scatterplot of array1 and array2.\n",
    "    Parameters\n",
    "    ------------\n",
    "    array1 : Numpy array\n",
    "    array2 : Numpy array\n",
    "    ax : matplotlib axis\n",
    "        Axis on which to plot the graph.\n",
    "    Returns\n",
    "    ------------\n",
    "    None\n",
    "    \"\"\"\n",
    "    ax.axhline(color=\"black\", linewidth=.5)\n",
    "    ax.axvline(color=\"black\", linewidth=.5)\n",
    "    var1_std = sc.fit_transform(array1.reshape(-1, 1))\n",
    "    var2_std = sc.fit_transform(array2.reshape(-1, 1))\n",
    "    covariance_matrix = np.cov(var1_std.T, var2_std.T)\n",
    "    eigenvalues, eigenvectors = np.linalg.eigh(covariance_matrix)\n",
    "    for eigen_vec in eigenvectors:\n",
    "        plot_eigenvector(eigen_vec, covariance_matrix, ax=ax)\n",
    "        plot_eigenvector(eigen_vec, covariance_matrix, ax=ax)\n",
    "    ax.scatter(var1_std, var2_std, \n",
    "                  alpha=.5, marker=\".\", color=\"green\")\n",
    "    ax.set_title(\"$\\lambda_1={{%.1f}}, \\lambda_2={{%.1f}}$\" % (\n",
    "                max(eigenvalues), min(eigenvalues)), fontsize=14)\n",
    "    ax.axis(\"equal\")\n",
    "    \n"
   ]
  },
  {
   "cell_type": "code",
   "execution_count": 6,
   "metadata": {},
   "outputs": [],
   "source": [
    "def show_eigenvectors_pd(df, var1, var2, ax):\n",
    "    \"\"\"Plots the eigenvectors of the covariance matrix of df[var1] and df[var2]\n",
    "     on the scatter plot of df[var1] and df[var2].\n",
    "    Parameters\n",
    "    ------------\n",
    "    df : Pandas DataFrame\n",
    "    var1 : str\n",
    "        Name of a column in df\n",
    "    var2 : str\n",
    "        Name of a column in df\n",
    "    ax : matplotlib axis\n",
    "        Axis on which to plot the graph.\n",
    "    Returns\n",
    "    ------------\n",
    "    None\n",
    "    \"\"\"\n",
    "    ax.axhline(color=\"black\", linewidth=.5)\n",
    "    ax.axvline(color=\"black\", linewidth=.5)\n",
    "    array1 = df[var1].values\n",
    "    array2 = df[var2].values\n",
    "    var1_std = sc.fit_transform(array1.reshape(-1, 1))\n",
    "    var2_std = sc.fit_transform(array2.reshape(-1, 1))\n",
    "    covariance_matrix = np.cov(var1_std.T, var2_std.T)\n",
    "    eigenvalues, eigenvectors = np.linalg.eigh(covariance_matrix)\n",
    "    for eigen_vec in eigenvectors:\n",
    "        plot_eigenvector(eigen_vec, covariance_matrix, ax=ax)\n",
    "        plot_eigenvector(eigen_vec, covariance_matrix, ax=ax)\n",
    "    ax.scatter(var1_std, var2_std, \n",
    "                  alpha=.5, marker=\".\", color=\"green\")\n",
    "    ax.set_title(\"$\\lambda_1={{%.1f}}, \\lambda_2={{%.1f}}$\" % (\n",
    "                max(eigenvalues), min(eigenvalues)), fontsize=14)\n",
    "    ax.set_xlabel(var1)\n",
    "    ax.set_ylabel(var2)\n",
    "    ax.axis(\"equal\")\n",
    "    "
   ]
  },
  {
   "cell_type": "code",
   "execution_count": 7,
   "metadata": {},
   "outputs": [],
   "source": [
    "def rotate_2d_data(eigen_vectors_list, scatter_X, scatter_y, deg, crop):\n",
    "    \"\"\"Shows rotation of data\n",
    "    Parameters\n",
    "    ------------\n",
    "    eigen_vectors_list : list[Numpy array]\n",
    "    scatter_X : Numpy array\n",
    "        The data being rotated\n",
    "    scatter_y : Numpy array\n",
    "        Contains the class values for the data being rotated. \n",
    "        Used for color-coding.\n",
    "        -   1 dimensional array containing zeros and ones\n",
    "    deg : int, float\n",
    "        Angle in degrees by which to rotate scatter_X\n",
    "    crop : int, float\n",
    "        The absolute value of the desired x-axis/y-axis mins and maxes.\n",
    "        Where to crop the graph.\n",
    "    Returns\n",
    "    ------------\n",
    "    None\n",
    "    \"\"\"\n",
    "    fig = plt.figure(figsize=(5, 5))\n",
    "    gs = fig.add_gridspec(11, 10)\n",
    "    \n",
    "    angle = (deg/180)*np.pi\n",
    "    rotation_matrix = np.vstack((np.array([np.cos(angle), -1*np.sin(angle)]), \n",
    "                                 np.array([np.sin(angle), np.cos(angle)])))\n",
    "    scatter_X = scatter_X.dot(rotation_matrix)\n",
    "        \n",
    "    f_ax_main = fig.add_subplot(gs[:10, :])\n",
    "    f_ax_main.set_xticks([])\n",
    "    f_ax_main.set_yticks([])\n",
    "    f_ax_main.plot(0, 0, marker=\".\", color=\"black\")\n",
    "    f_ax_main.axhline(color=\"black\", linewidth=.5)\n",
    "    f_ax_main.axvline(color=\"black\", linewidth=.5)\n",
    "    \n",
    "    for eigen_vec in eigen_vectors_list:\n",
    "        eigen_vec = np.dot(eigen_vec, rotation_matrix)\n",
    "        temp = np.vstack((eigen_vec*3, np.zeros(2)))\n",
    "        f_ax_main.plot(temp[:, 0], temp[:, 1], color=\"green\", linewidth=3)\n",
    "    f_ax_main.scatter(scatter_X[scatter_y==0, 0], scatter_X[scatter_y==0, 1],\n",
    "                      alpha=.5, marker=\".\", color=\"blue\")\n",
    "    f_ax_main.scatter(scatter_X[scatter_y==1, 0], scatter_X[scatter_y==1, 1],\n",
    "                      alpha=.5, marker=\".\", color=\"red\")\n",
    "    f_ax_main.set_xlim(-crop, crop)\n",
    "    f_ax_main.set_ylim(-crop, crop)\n",
    "    \n",
    "    f_ax_x = fig.add_subplot(gs[10, :])\n",
    "    f_ax_x.set_xticks([])\n",
    "    f_ax_x.set_yticks([])\n",
    "    f_ax_x.scatter(scatter_X[scatter_y==0, 0],\n",
    "                   np.zeros(scatter_X[scatter_y==0].shape[0])+.3, \n",
    "                   alpha=.5, marker=\".\", color=\"blue\")\n",
    "    f_ax_x.scatter(scatter_X[scatter_y==1, 0],\n",
    "                   np.zeros(scatter_X[scatter_y==1].shape[0])-.3, \n",
    "                   alpha=.5, marker=\".\", color=\"red\")\n",
    "    \n",
    "    f_ax_x.set_xlim(-crop, crop)\n",
    "    f_ax_x.set_ylim(-2, 2)\n",
    "    f_ax_x.axis(\"off\")\n",
    "    \n",
    "    plt.show()"
   ]
  },
  {
   "cell_type": "code",
   "execution_count": 8,
   "metadata": {},
   "outputs": [],
   "source": [
    "def get_pca_plot(orig_matrix, transformation_matrix, pc_ind1, pc_ind2):\n",
    "    pca_matrix = orig_matrix.dot(transformation_matrix)\n",
    "    fig, ax = plt.subplots(figsize=(7, 7))\n",
    "    ax.axhline(color=\"black\", linewidth=.5)\n",
    "    ax.axvline(color=\"black\", linewidth=.5)\n",
    "    # specific to coffee data:\n",
    "    pca_plot = ax.scatter(pca_matrix[coffee_y_train == 0, pc_ind1-1], \n",
    "                          pca_matrix[coffee_y_train == 0, pc_ind2-1], \n",
    "                          c=\"blue\", label=\"Africa\", marker=\"o\", alpha=.5)\n",
    "    ax.scatter(pca_matrix[coffee_y_train == 1, pc_ind1-1], \n",
    "               pca_matrix[coffee_y_train == 1, pc_ind2-1], \n",
    "               c=\"red\", label=\"Latin America\", marker=\"o\", alpha=.5)\n",
    "    \n",
    "    ax.set_xlabel(\"Principal Component %d\" % (pc_ind1))\n",
    "    ax.set_ylabel(\"Principal Component %d\" % (pc_ind2))\n",
    "    ax.legend(loc=\"lower left\")\n",
    "    ax.axis(\"equal\")\n",
    "    return pca_plot\n"
   ]
  },
  {
   "cell_type": "markdown",
   "metadata": {},
   "source": [
    "<hr>"
   ]
  },
  {
   "cell_type": "markdown",
   "metadata": {},
   "source": [
    "# Dataset"
   ]
  },
  {
   "cell_type": "markdown",
   "metadata": {},
   "source": [
    "## Read-In Data"
   ]
  },
  {
   "cell_type": "markdown",
   "metadata": {},
   "source": [
    "For the purpose of demonstration, I will implement a Principal Component Analysis on a coffee bean dataset. This dataset can be used to predict the continent where a coffee bean was grown based on ratings of different elements of a cup of coffee. All predictor variables are continuous and normally distributed."
   ]
  },
  {
   "cell_type": "code",
   "execution_count": 9,
   "metadata": {},
   "outputs": [],
   "source": [
    "coffee_df = pd.read_csv(\n",
    "    \"/Users/annalisadonat/Documents/Datasets/Coffee-modified3.csv\")"
   ]
  },
  {
   "cell_type": "code",
   "execution_count": 10,
   "metadata": {},
   "outputs": [
    {
     "data": {
      "text/html": [
       "<div>\n",
       "<style scoped>\n",
       "    .dataframe tbody tr th:only-of-type {\n",
       "        vertical-align: middle;\n",
       "    }\n",
       "\n",
       "    .dataframe tbody tr th {\n",
       "        vertical-align: top;\n",
       "    }\n",
       "\n",
       "    .dataframe thead th {\n",
       "        text-align: right;\n",
       "    }\n",
       "</style>\n",
       "<table border=\"1\" class=\"dataframe\">\n",
       "  <thead>\n",
       "    <tr style=\"text-align: right;\">\n",
       "      <th></th>\n",
       "      <th>Continent</th>\n",
       "      <th>Aroma</th>\n",
       "      <th>Flavor</th>\n",
       "      <th>Aftertaste</th>\n",
       "      <th>Acidity</th>\n",
       "      <th>Body</th>\n",
       "      <th>Balance</th>\n",
       "      <th>Cupper.Points</th>\n",
       "      <th>Total.Cup.Points</th>\n",
       "      <th>Moisture</th>\n",
       "    </tr>\n",
       "  </thead>\n",
       "  <tbody>\n",
       "    <tr>\n",
       "      <th>0</th>\n",
       "      <td>Africa</td>\n",
       "      <td>8.67</td>\n",
       "      <td>8.83</td>\n",
       "      <td>8.67</td>\n",
       "      <td>8.75</td>\n",
       "      <td>8.50</td>\n",
       "      <td>8.42</td>\n",
       "      <td>8.75</td>\n",
       "      <td>90.58</td>\n",
       "      <td>0.12</td>\n",
       "    </tr>\n",
       "    <tr>\n",
       "      <th>1</th>\n",
       "      <td>Africa</td>\n",
       "      <td>8.75</td>\n",
       "      <td>8.67</td>\n",
       "      <td>8.50</td>\n",
       "      <td>8.58</td>\n",
       "      <td>8.42</td>\n",
       "      <td>8.42</td>\n",
       "      <td>8.58</td>\n",
       "      <td>89.92</td>\n",
       "      <td>0.12</td>\n",
       "    </tr>\n",
       "    <tr>\n",
       "      <th>2</th>\n",
       "      <td>Africa</td>\n",
       "      <td>8.17</td>\n",
       "      <td>8.58</td>\n",
       "      <td>8.42</td>\n",
       "      <td>8.42</td>\n",
       "      <td>8.50</td>\n",
       "      <td>8.25</td>\n",
       "      <td>8.67</td>\n",
       "      <td>89.00</td>\n",
       "      <td>0.11</td>\n",
       "    </tr>\n",
       "    <tr>\n",
       "      <th>3</th>\n",
       "      <td>Africa</td>\n",
       "      <td>8.25</td>\n",
       "      <td>8.50</td>\n",
       "      <td>8.25</td>\n",
       "      <td>8.50</td>\n",
       "      <td>8.42</td>\n",
       "      <td>8.33</td>\n",
       "      <td>8.58</td>\n",
       "      <td>88.83</td>\n",
       "      <td>0.12</td>\n",
       "    </tr>\n",
       "    <tr>\n",
       "      <th>4</th>\n",
       "      <td>Africa</td>\n",
       "      <td>8.25</td>\n",
       "      <td>8.33</td>\n",
       "      <td>8.50</td>\n",
       "      <td>8.42</td>\n",
       "      <td>8.33</td>\n",
       "      <td>8.50</td>\n",
       "      <td>9.00</td>\n",
       "      <td>88.67</td>\n",
       "      <td>0.03</td>\n",
       "    </tr>\n",
       "  </tbody>\n",
       "</table>\n",
       "</div>"
      ],
      "text/plain": [
       "  Continent  Aroma  Flavor  Aftertaste  Acidity  Body  Balance  Cupper.Points  \\\n",
       "0    Africa   8.67    8.83        8.67     8.75  8.50     8.42           8.75   \n",
       "1    Africa   8.75    8.67        8.50     8.58  8.42     8.42           8.58   \n",
       "2    Africa   8.17    8.58        8.42     8.42  8.50     8.25           8.67   \n",
       "3    Africa   8.25    8.50        8.25     8.50  8.42     8.33           8.58   \n",
       "4    Africa   8.25    8.33        8.50     8.42  8.33     8.50           9.00   \n",
       "\n",
       "   Total.Cup.Points  Moisture  \n",
       "0             90.58      0.12  \n",
       "1             89.92      0.12  \n",
       "2             89.00      0.11  \n",
       "3             88.83      0.12  \n",
       "4             88.67      0.03  "
      ]
     },
     "execution_count": 10,
     "metadata": {},
     "output_type": "execute_result"
    }
   ],
   "source": [
    "coffee_df.head()"
   ]
  },
  {
   "cell_type": "code",
   "execution_count": 11,
   "metadata": {},
   "outputs": [
    {
     "data": {
      "text/html": [
       "<div>\n",
       "<style scoped>\n",
       "    .dataframe tbody tr th:only-of-type {\n",
       "        vertical-align: middle;\n",
       "    }\n",
       "\n",
       "    .dataframe tbody tr th {\n",
       "        vertical-align: top;\n",
       "    }\n",
       "\n",
       "    .dataframe thead th {\n",
       "        text-align: right;\n",
       "    }\n",
       "</style>\n",
       "<table border=\"1\" class=\"dataframe\">\n",
       "  <thead>\n",
       "    <tr style=\"text-align: right;\">\n",
       "      <th></th>\n",
       "      <th>Continent</th>\n",
       "      <th>Aroma</th>\n",
       "      <th>Flavor</th>\n",
       "      <th>Aftertaste</th>\n",
       "      <th>Acidity</th>\n",
       "      <th>Body</th>\n",
       "      <th>Balance</th>\n",
       "      <th>Cupper.Points</th>\n",
       "      <th>Total.Cup.Points</th>\n",
       "      <th>Moisture</th>\n",
       "    </tr>\n",
       "  </thead>\n",
       "  <tbody>\n",
       "    <tr>\n",
       "      <th>189</th>\n",
       "      <td>North America</td>\n",
       "      <td>7.00</td>\n",
       "      <td>7.17</td>\n",
       "      <td>6.83</td>\n",
       "      <td>7.17</td>\n",
       "      <td>7.00</td>\n",
       "      <td>7.17</td>\n",
       "      <td>7.08</td>\n",
       "      <td>73.42</td>\n",
       "      <td>0.11</td>\n",
       "    </tr>\n",
       "    <tr>\n",
       "      <th>190</th>\n",
       "      <td>North America</td>\n",
       "      <td>6.67</td>\n",
       "      <td>6.50</td>\n",
       "      <td>6.17</td>\n",
       "      <td>6.67</td>\n",
       "      <td>6.83</td>\n",
       "      <td>6.17</td>\n",
       "      <td>6.33</td>\n",
       "      <td>69.33</td>\n",
       "      <td>0.10</td>\n",
       "    </tr>\n",
       "    <tr>\n",
       "      <th>191</th>\n",
       "      <td>North America</td>\n",
       "      <td>7.00</td>\n",
       "      <td>6.17</td>\n",
       "      <td>6.17</td>\n",
       "      <td>6.67</td>\n",
       "      <td>6.50</td>\n",
       "      <td>6.17</td>\n",
       "      <td>6.50</td>\n",
       "      <td>69.17</td>\n",
       "      <td>0.10</td>\n",
       "    </tr>\n",
       "    <tr>\n",
       "      <th>192</th>\n",
       "      <td>North America</td>\n",
       "      <td>7.00</td>\n",
       "      <td>6.33</td>\n",
       "      <td>6.17</td>\n",
       "      <td>6.50</td>\n",
       "      <td>6.67</td>\n",
       "      <td>6.17</td>\n",
       "      <td>6.33</td>\n",
       "      <td>69.17</td>\n",
       "      <td>0.10</td>\n",
       "    </tr>\n",
       "    <tr>\n",
       "      <th>193</th>\n",
       "      <td>North America</td>\n",
       "      <td>7.25</td>\n",
       "      <td>6.58</td>\n",
       "      <td>6.33</td>\n",
       "      <td>6.25</td>\n",
       "      <td>6.42</td>\n",
       "      <td>6.08</td>\n",
       "      <td>6.17</td>\n",
       "      <td>63.08</td>\n",
       "      <td>0.13</td>\n",
       "    </tr>\n",
       "  </tbody>\n",
       "</table>\n",
       "</div>"
      ],
      "text/plain": [
       "         Continent  Aroma  Flavor  Aftertaste  Acidity  Body  Balance  \\\n",
       "189  North America   7.00    7.17        6.83     7.17  7.00     7.17   \n",
       "190  North America   6.67    6.50        6.17     6.67  6.83     6.17   \n",
       "191  North America   7.00    6.17        6.17     6.67  6.50     6.17   \n",
       "192  North America   7.00    6.33        6.17     6.50  6.67     6.17   \n",
       "193  North America   7.25    6.58        6.33     6.25  6.42     6.08   \n",
       "\n",
       "     Cupper.Points  Total.Cup.Points  Moisture  \n",
       "189           7.08             73.42      0.11  \n",
       "190           6.33             69.33      0.10  \n",
       "191           6.50             69.17      0.10  \n",
       "192           6.33             69.17      0.10  \n",
       "193           6.17             63.08      0.13  "
      ]
     },
     "execution_count": 11,
     "metadata": {},
     "output_type": "execute_result"
    }
   ],
   "source": [
    "coffee_df.tail()"
   ]
  },
  {
   "cell_type": "markdown",
   "metadata": {},
   "source": [
    "The PCA is an unsupervised learning method, meaning it is only fit on the predictor values, and does not require a target variable. I am only formatting the target variable, Continent, in order to demonstrate the benefits of the PCA."
   ]
  },
  {
   "cell_type": "code",
   "execution_count": 12,
   "metadata": {},
   "outputs": [
    {
     "data": {
      "text/plain": [
       "North America    99\n",
       "Africa           95\n",
       "Name: Continent, dtype: int64"
      ]
     },
     "execution_count": 12,
     "metadata": {},
     "output_type": "execute_result"
    }
   ],
   "source": [
    "coffee_df[\"Continent\"].value_counts()"
   ]
  },
  {
   "cell_type": "code",
   "execution_count": 13,
   "metadata": {},
   "outputs": [],
   "source": [
    "coffee_df[\"Continent\"] = coffee_df[\"Continent\"].map(\n",
    "    {\"Africa\": 0, \"North America\": 1})"
   ]
  },
  {
   "cell_type": "code",
   "execution_count": 14,
   "metadata": {},
   "outputs": [],
   "source": [
    "predictor_variables = [col for col in list(coffee_df) if col!=\"Continent\"]"
   ]
  },
  {
   "cell_type": "code",
   "execution_count": 15,
   "metadata": {},
   "outputs": [],
   "source": [
    "predictor_variables = sorted(predictor_variables)\n",
    "coffee_df = coffee_df[[\"Continent\"] + predictor_variables].copy()"
   ]
  },
  {
   "cell_type": "code",
   "execution_count": 16,
   "metadata": {},
   "outputs": [
    {
     "data": {
      "text/html": [
       "<div>\n",
       "<style scoped>\n",
       "    .dataframe tbody tr th:only-of-type {\n",
       "        vertical-align: middle;\n",
       "    }\n",
       "\n",
       "    .dataframe tbody tr th {\n",
       "        vertical-align: top;\n",
       "    }\n",
       "\n",
       "    .dataframe thead th {\n",
       "        text-align: right;\n",
       "    }\n",
       "</style>\n",
       "<table border=\"1\" class=\"dataframe\">\n",
       "  <thead>\n",
       "    <tr style=\"text-align: right;\">\n",
       "      <th></th>\n",
       "      <th>Continent</th>\n",
       "      <th>Acidity</th>\n",
       "      <th>Aftertaste</th>\n",
       "      <th>Aroma</th>\n",
       "      <th>Balance</th>\n",
       "      <th>Body</th>\n",
       "      <th>Cupper.Points</th>\n",
       "      <th>Flavor</th>\n",
       "      <th>Moisture</th>\n",
       "      <th>Total.Cup.Points</th>\n",
       "    </tr>\n",
       "  </thead>\n",
       "  <tbody>\n",
       "    <tr>\n",
       "      <th>0</th>\n",
       "      <td>0</td>\n",
       "      <td>8.75</td>\n",
       "      <td>8.67</td>\n",
       "      <td>8.67</td>\n",
       "      <td>8.42</td>\n",
       "      <td>8.50</td>\n",
       "      <td>8.75</td>\n",
       "      <td>8.83</td>\n",
       "      <td>0.12</td>\n",
       "      <td>90.58</td>\n",
       "    </tr>\n",
       "    <tr>\n",
       "      <th>1</th>\n",
       "      <td>0</td>\n",
       "      <td>8.58</td>\n",
       "      <td>8.50</td>\n",
       "      <td>8.75</td>\n",
       "      <td>8.42</td>\n",
       "      <td>8.42</td>\n",
       "      <td>8.58</td>\n",
       "      <td>8.67</td>\n",
       "      <td>0.12</td>\n",
       "      <td>89.92</td>\n",
       "    </tr>\n",
       "    <tr>\n",
       "      <th>2</th>\n",
       "      <td>0</td>\n",
       "      <td>8.42</td>\n",
       "      <td>8.42</td>\n",
       "      <td>8.17</td>\n",
       "      <td>8.25</td>\n",
       "      <td>8.50</td>\n",
       "      <td>8.67</td>\n",
       "      <td>8.58</td>\n",
       "      <td>0.11</td>\n",
       "      <td>89.00</td>\n",
       "    </tr>\n",
       "    <tr>\n",
       "      <th>3</th>\n",
       "      <td>0</td>\n",
       "      <td>8.50</td>\n",
       "      <td>8.25</td>\n",
       "      <td>8.25</td>\n",
       "      <td>8.33</td>\n",
       "      <td>8.42</td>\n",
       "      <td>8.58</td>\n",
       "      <td>8.50</td>\n",
       "      <td>0.12</td>\n",
       "      <td>88.83</td>\n",
       "    </tr>\n",
       "    <tr>\n",
       "      <th>4</th>\n",
       "      <td>0</td>\n",
       "      <td>8.42</td>\n",
       "      <td>8.50</td>\n",
       "      <td>8.25</td>\n",
       "      <td>8.50</td>\n",
       "      <td>8.33</td>\n",
       "      <td>9.00</td>\n",
       "      <td>8.33</td>\n",
       "      <td>0.03</td>\n",
       "      <td>88.67</td>\n",
       "    </tr>\n",
       "  </tbody>\n",
       "</table>\n",
       "</div>"
      ],
      "text/plain": [
       "   Continent  Acidity  Aftertaste  Aroma  Balance  Body  Cupper.Points  \\\n",
       "0          0     8.75        8.67   8.67     8.42  8.50           8.75   \n",
       "1          0     8.58        8.50   8.75     8.42  8.42           8.58   \n",
       "2          0     8.42        8.42   8.17     8.25  8.50           8.67   \n",
       "3          0     8.50        8.25   8.25     8.33  8.42           8.58   \n",
       "4          0     8.42        8.50   8.25     8.50  8.33           9.00   \n",
       "\n",
       "   Flavor  Moisture  Total.Cup.Points  \n",
       "0    8.83      0.12             90.58  \n",
       "1    8.67      0.12             89.92  \n",
       "2    8.58      0.11             89.00  \n",
       "3    8.50      0.12             88.83  \n",
       "4    8.33      0.03             88.67  "
      ]
     },
     "execution_count": 16,
     "metadata": {},
     "output_type": "execute_result"
    }
   ],
   "source": [
    "coffee_df.head()"
   ]
  },
  {
   "cell_type": "code",
   "execution_count": 17,
   "metadata": {},
   "outputs": [
    {
     "data": {
      "image/png": "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\n",
      "text/plain": [
       "<Figure size 504x360 with 1 Axes>"
      ]
     },
     "metadata": {
      "needs_background": "light"
     },
     "output_type": "display_data"
    }
   ],
   "source": [
    "fig, ax = plt.subplots(figsize=(7, 5))\n",
    "ax.scatter(coffee_df[coffee_df[\"Continent\"] == 0][\"Acidity\"], \n",
    "           coffee_df[coffee_df[\"Continent\"] == 0][\"Aftertaste\"], \n",
    "           c=\"red\", label=\"Latin America\", marker=\"o\", alpha=.3)\n",
    "\n",
    "ax.scatter(coffee_df[coffee_df[\"Continent\"] == 1][\"Acidity\"], \n",
    "           coffee_df[coffee_df[\"Continent\"] == 1][\"Aftertaste\"], \n",
    "           c=\"blue\", label=\"Africa\", marker=\"o\", alpha=.3)\n",
    "\n",
    "ax.set_xlabel(\"Acidity\")\n",
    "ax.set_ylabel(\"Aftertaste\")\n",
    "ax.legend(loc=\"lower right\")\n",
    "plt.tight_layout()\n",
    "plt.show()"
   ]
  },
  {
   "cell_type": "markdown",
   "metadata": {},
   "source": [
    "## Split Data into Train and Test Sets"
   ]
  },
  {
   "cell_type": "markdown",
   "metadata": {},
   "source": [
    "Split the data into 70% training and 30% test subsets."
   ]
  },
  {
   "cell_type": "code",
   "execution_count": 18,
   "metadata": {},
   "outputs": [],
   "source": [
    "coffee_train_df, coffee_test_df = train_test_split(\n",
    "    coffee_df,\n",
    "    test_size=0.3, \n",
    "    random_state=0, \n",
    "    stratify=coffee_df[\"Continent\"].values)"
   ]
  },
  {
   "cell_type": "markdown",
   "metadata": {},
   "source": [
    "Format the training and test sets as numpy matrices. These will be used for computation. The DataFrames are not necessary, but will be make visualization code clearer."
   ]
  },
  {
   "cell_type": "code",
   "execution_count": 19,
   "metadata": {},
   "outputs": [],
   "source": [
    "coffee_X_train = coffee_train_df[predictor_variables].copy().values\n",
    "coffee_X_test = coffee_test_df[predictor_variables].copy().values\n",
    "coffee_y_train = coffee_train_df[\"Continent\"].values\n",
    "coffee_y_test = coffee_test_df[\"Continent\"].values"
   ]
  },
  {
   "cell_type": "code",
   "execution_count": 20,
   "metadata": {},
   "outputs": [
    {
     "data": {
      "text/plain": [
       "1    69\n",
       "0    66\n",
       "Name: Continent, dtype: int64"
      ]
     },
     "execution_count": 20,
     "metadata": {},
     "output_type": "execute_result"
    }
   ],
   "source": [
    "coffee_train_df[\"Continent\"].value_counts()"
   ]
  },
  {
   "cell_type": "markdown",
   "metadata": {},
   "source": [
    "## Create 2D Dataset for Visualization"
   ]
  },
  {
   "cell_type": "markdown",
   "metadata": {},
   "source": [
    "Let's create two versions of the dataset:\n",
    "1. Version 1 (already created): Contains all 9 predictor variables.\n",
    "    1. Purpose: Demonstrate PCA on a dataset with many predictor variables.\n",
    "    2. Names: coffee_train_df, coffee_test_df, coffee_X_train, coffee_X_test\n",
    "2. Version 2: Only contains two predictor variables: \"Total.Cup.Points\" and \"Aroma\".\n",
    "    1. Purpose: It's easier to visualize a 2-dimensional dataset.\n",
    "    2. Names: coffee_X_train_2d, coffee_X_test_2d\n",
    "\n",
    "Note: Both version 1 and version 2 have target values of coffee_y_train and coffee_y_test."
   ]
  },
  {
   "cell_type": "code",
   "execution_count": 21,
   "metadata": {},
   "outputs": [],
   "source": [
    "coffee_X_train_2d = coffee_train_df[[\"Total.Cup.Points\", \"Aroma\"]].copy().values\n",
    "coffee_X_test_2d = coffee_test_df[[\"Total.Cup.Points\", \"Aroma\"]].copy().values"
   ]
  },
  {
   "cell_type": "markdown",
   "metadata": {},
   "source": [
    "<hr>"
   ]
  },
  {
   "cell_type": "markdown",
   "metadata": {},
   "source": [
    "<a class="anchor" id=\"pca_description\"></a>"
   ]
  },
  {
   "cell_type": "markdown",
   "metadata": {},
   "source": [
    "# Description of the Principal Component Analysis"
   ]
  },
  {
   "cell_type": "markdown",
   "metadata": {},
   "source": [
    "The PCA is an UNSUPERVISED learning technique.\n",
    "- Before applying a **supervised** model to a test set, the model must be **fitted** to the training set **using BOTH** the training set's **predictor (input) values** AND the training set's target **output values**.\n",
    "- Before applying an **unsupervised** model to a test set, the model **only** needs to be **fitted** to the training set **using** the training set's **predictor (input) values**.\n"
   ]
  },
  {
   "cell_type": "markdown",
   "metadata": {},
   "source": [
    "**Nomenclature note:** When I refer to variance in this document, I am referring to variance in datasets and not to variance in a model's performance on unseen data (i.e. I am not referring to the counterpart of model bias). "
   ]
  },
  {
   "cell_type": "markdown",
   "metadata": {},
   "source": [
    "Photography Analogy: As Jonathon Schlens explains in <a href=\"https://arxiv.org/pdf/1404.1100.pdf\"> A Tutorial on Principal Component Analysis,\"</a> PCA is similar to finding the camera angle that most clearly shows the the variance in the data."
   ]
  },
  {
   "cell_type": "markdown",
   "metadata": {},
   "source": [
    "**What the PCA does:**\n",
    "   - Finds the directions of maximum variance in high-dimensional data.\n",
    "   - Projects (rotates) the data into a new subspace where those directions of maximum variance are now the axes."
   ]
  },
  {
   "cell_type": "markdown",
   "metadata": {},
   "source": [
    "**Why this is helpful:**\n",
    "- After applying the PCA, the variance in the data will be distributed across as few dimensions as possible. The PCA ranks these new dimensions (components) by how much variance they explain. Therefore, removing the components that explain the least variance allows us to we can reduce dimensionality while retaining as much variance as possible. "
   ]
  },
  {
   "cell_type": "markdown",
   "metadata": {},
   "source": [
    "**Steps of a PCA:**\n",
    "1. Standardize the data.\n",
    "2. Construct the covariance matrix.\n",
    "3. Obtain the eigenvalues and eigenvectors of the covariance matrix.\n",
    "4. Create a transformation matrix containing the eigenvectors sorted in decreasing order of their corresponding eigenvalues.\n",
    "5. Multiply the data by the transformation matrix.\n",
    "6. (Optional) Reduce Dimensionality"
   ]
  },
  {
   "cell_type": "markdown",
   "metadata": {},
   "source": [
    "<hr>"
   ]
  },
  {
   "cell_type": "markdown",
   "metadata": {},
   "source": [
    "<a id=\"pca_steps\"></a>"
   ]
  },
  {
   "cell_type": "markdown",
   "metadata": {},
   "source": [
    "# PCA Steps"
   ]
  },
  {
   "cell_type": "markdown",
   "metadata": {},
   "source": [
    "<a id=\"standardize\"></a>"
   ]
  },
  {
   "cell_type": "markdown",
   "metadata": {},
   "source": [
    "## Standardize the data"
   ]
  },
  {
   "cell_type": "markdown",
   "metadata": {},
   "source": [
    "As explained in the second edition of *Python Machine Learning* by Sebastian Raschka and Vahid Mirjalili, \"PCA directions are highly sensitive to data scaling, and **we need to standardize the features prior to PCA if the features were measured on different scales and we want to assign equal importance to all features.**\" (p. 144)\n"
   ]
  },
  {
   "cell_type": "code",
   "execution_count": 22,
   "metadata": {},
   "outputs": [],
   "source": [
    "sc = StandardScaler()\n",
    "coffee_X_train_std = sc.fit_transform(coffee_X_train)\n",
    "coffee_X_test_std = sc.transform(coffee_X_test)\n",
    "\n",
    "coffee_X_train_2d_std = sc.fit_transform(coffee_X_train_2d)\n",
    "coffee_X_test_2d_std = sc.transform(coffee_X_test_2d)"
   ]
  },
  {
   "cell_type": "code",
   "execution_count": 23,
   "metadata": {},
   "outputs": [
    {
     "data": {
      "image/png": "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\n",
      "text/plain": [
       "<Figure size 648x432 with 9 Axes>"
      ]
     },
     "metadata": {
      "needs_background": "light"
     },
     "output_type": "display_data"
    }
   ],
   "source": [
    "fig, axes = plt.subplots(nrows=3, ncols=3, figsize=(9, 6))\n",
    "for i in range(len(predictor_variables)):\n",
    "    axes[int(i/3)][i%3].hist(coffee_X_train[:, i])\n",
    "    axes[int(i/3)][i%3].set_title(predictor_variables[i])\n",
    "fig.suptitle(\"Before Standardization\", fontsize=16, y=1.05)\n",
    "plt.tight_layout()"
   ]
  },
  {
   "cell_type": "code",
   "execution_count": 24,
   "metadata": {},
   "outputs": [
    {
     "data": {
      "image/png": "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\n",
      "text/plain": [
       "<Figure size 648x432 with 9 Axes>"
      ]
     },
     "metadata": {
      "needs_background": "light"
     },
     "output_type": "display_data"
    }
   ],
   "source": [
    "fig, axes = plt.subplots(nrows=3, ncols=3, figsize=(9, 6))\n",
    "for i in range(len(predictor_variables)):\n",
    "    axes[int(i/3)][i%3].hist(coffee_X_train_std[:, i])\n",
    "    axes[int(i/3)][i%3].set_title(predictor_variables[i])\n",
    "fig.suptitle(\"After Standardization\", fontsize=16, y=1.05)\n",
    "plt.tight_layout()"
   ]
  },
  {
   "cell_type": "markdown",
   "metadata": {},
   "source": [
    "<hr>"
   ]
  },
  {
   "cell_type": "markdown",
   "metadata": {},
   "source": [
    "<a id=\"covariance\"></a>"
   ]
  },
  {
   "cell_type": "markdown",
   "metadata": {},
   "source": [
    "## Construct the covariance matrix"
   ]
  },
  {
   "cell_type": "markdown",
   "metadata": {},
   "source": [
    "### What is covariance?"
   ]
  },
  {
   "cell_type": "markdown",
   "metadata": {},
   "source": [
    "#### Overview"
   ]
  },
  {
   "cell_type": "markdown",
   "metadata": {},
   "source": [
    "Covariance is the extent to which one variable increases as another variable increases."
   ]
  },
  {
   "cell_type": "markdown",
   "metadata": {},
   "source": [
    "$cov(a, b) = \\frac{\\sum_{i=1}^n((a_i-\\overline{a})*(b_i-\\overline{b}))}{n-1}$"
   ]
  },
  {
   "cell_type": "markdown",
   "metadata": {},
   "source": [
    "Notation: \n",
    "- Observation<sub>i</sub> has a value of $a_i$ for variable_a and a value of $b_i$ for variable_b.\n",
    "- $\\overline{a}$ is the sample mean for variable_a and $\\overline{b}$ is the sample mean for variable_b."
   ]
  },
  {
   "cell_type": "code",
   "execution_count": 25,
   "metadata": {},
   "outputs": [],
   "source": [
    "# Note: This function won't be used later on, it's purpose is to \n",
    "# show the formula in a format that may be more familiar to programers.\n",
    "\n",
    "def compute_covariance(a, b):\n",
    "    \"\"\"a and b are both 1d np arrays w equal shapes\"\"\"\n",
    "    similarities = [(a[i]-a.mean()) * (b[i]-b.mean()) \n",
    "                    for i in range(a.shape[0])]\n",
    "    total_similarities = sum(similarities)\n",
    "    num_observations = a.shape[0]\n",
    "    covariance = total_similarities/(num_observations-1)\n",
    "    return covariance\n",
    "        "
   ]
  },
  {
   "cell_type": "markdown",
   "metadata": {},
   "source": [
    "#### A detailed look"
   ]
  },
  {
   "cell_type": "markdown",
   "metadata": {},
   "source": [
    "The further away $a_i$ and $b_i$ are form their respective means, the bigger the \"pull\" of $Observation_i$ will be"
   ]
  },
  {
   "cell_type": "markdown",
   "metadata": {},
   "source": [
    "In the examples below, assume that removing any one point from the dataset would not significantly change the mean."
   ]
  },
  {
   "cell_type": "markdown",
   "metadata": {},
   "source": [
    "Case 1: $Observation_i$ has **higher values** for **both** variable_a and variable_b (in comparison to the sample mean for each variable)\n",
    "- The Math:\n",
    "    - $a_i > \\overline{a}$ and $b_i > \\overline{b}$\n",
    "    - $(a_i-\\overline{a})$ is positive and $(b_i-\\overline{b})$ is positive\n",
    "    - $((a_i-\\overline{a})*(b_i-\\overline{b}))$ is positive\n",
    "    - $Observation_i$ \"pulls up\" the covariance\n",
    "- The Intuition:\n",
    "    - In the case of $Observation_i$, a high value for variable_a corresponds to a high value for variable_b\n",
    "    - $Observation_i$ \"pulls up\" the covariance"
   ]
  },
  {
   "cell_type": "markdown",
   "metadata": {},
   "source": [
    "Case 2: $Observation_i$ has **lower values** for **both** variable_a and variable_b (in comparison to the sample mean for each variable)\n",
    "- The Math:\n",
    "    - $a_i < \\overline{a}$ and $b_i < \\overline{b}$\n",
    "    - $(a_i-\\overline{a})$ is negative and $(b_i-\\overline{b})$ is negative\n",
    "    - $((a_i-\\overline{a})*(b_i-\\overline{b}))$ is positive\n",
    "    - Thus, $Observation_i$ \"pulls up\" the covariance\n",
    "- The Intuition:\n",
    "    - In the case of $Observation_i$, a low value for variable_a corresponds to a low value for variable_b\n",
    "    - Thus, $Observation_i$ \"pulls up\" the covariance"
   ]
  },
  {
   "cell_type": "markdown",
   "metadata": {},
   "source": [
    "Case 3: The value of $Observation_i$ for variable_a is **lower** than the variable_a sample mean **and** its value for variable_b is **higher** than the variable_b sample mean\n",
    "- The Math:\n",
    "    - $a_i < \\overline{a}$ and $b_i > \\overline{b}$\n",
    "    - $(a_i-\\overline{a})$ is negative and $(b_i-\\overline{b})$ is positive\n",
    "    - $((a_i-\\overline{a})*(b_i-\\overline{b}))$ is negative\n",
    "    - Thus, $Observation_i$ \"pulls down\" the covariance\n",
    "- The Intuition:\n",
    "    - In the case of $Observation_i$, a low value for variable_a corresponds to a high value for variable_b\n",
    "    - Thus, $Observation_i$ \"pulls down\" the covariance"
   ]
  },
  {
   "cell_type": "markdown",
   "metadata": {},
   "source": [
    "Case 4: The value of $Observation_i$ for variable_a is **higher** than the variable_a sample mean **and** its value for variable_b is **lower** than the variable_b sample mean\n",
    "- see case 3"
   ]
  },
  {
   "cell_type": "markdown",
   "metadata": {},
   "source": [
    "Case 5: The value of $Observation_i$ for variable_a is **equal to the sample mean** for variable_a (the value of variable_b is irrelevant in this case).\n",
    "- The Math:\n",
    "    - $a_i = \\overline{a}$\n",
    "    - $(a_i-\\overline{a})=0$ \n",
    "    - $((a_i-\\overline{a})*(b_i-\\overline{b})) = 0$ \n",
    "    - Thus, $Observation_i$ has zero \"pull\" on the covariance.\n",
    "- The Intuition:\n",
    "    - $Observation_i$ can be considered neutral for variable_a.\n",
    "    - Thus, $Observation_i$ has zero \"pull\" on the covariance."
   ]
  },
  {
   "cell_type": "markdown",
   "metadata": {},
   "source": [
    "Case 6: The value of $Observation_i$ for variable_b is **equal to the sample mean** for variable_b (the value of variable_a is irrelevant in this case).\n",
    "- see case 5"
   ]
  },
  {
   "cell_type": "markdown",
   "metadata": {},
   "source": [
    "#### Correlation vs Covariance"
   ]
  },
  {
   "cell_type": "markdown",
   "metadata": {},
   "source": [
    "**Same numerator, different denominator:**"
   ]
  },
  {
   "cell_type": "markdown",
   "metadata": {},
   "source": [
    "$cov(a, b) = \\frac{\\sum_{i=1}^n((a_i-\\overline{a})*(b_i-\\overline{b}))}{n-1}$     $corr(a, b) = \\frac{\\sum_{i=1}^n((a_i-\\overline{a})*(b_i-\\overline{b}))}{\\sqrt{\\sum_{i=1}^n((a_i-\\overline{a})^2\\sum_{i=1}^n(b_i-\\overline{b})^2}}$"
   ]
  },
  {
   "cell_type": "markdown",
   "metadata": {},
   "source": [
    "**Similarities between covariance and correlation:**\n",
    "- A negative covariance means that one variable increases as the other decreases, as does a negative correlation.\n",
    "- A covariance of 0 means that an increase in one variable is not indicative of either an increase or a decrease in the other variable, as does a correlation of 0."
   ]
  },
  {
   "cell_type": "markdown",
   "metadata": {},
   "source": [
    "**Differences between covariance and correlation:**\n",
    "- correlation only measures linear relationships\n",
    "- covariance can be infinitely small or large, but correlation must be between -1 and 1 (inclusive).\n",
    "- multiplying all values in a dataset by a constant will increase the absolute value of the covariance, but will not affect the correlation."
   ]
  },
  {
   "cell_type": "markdown",
   "metadata": {},
   "source": [
    "### Visualizing Covariance"
   ]
  },
  {
   "cell_type": "markdown",
   "metadata": {},
   "source": [
    "#### Covariance vs Correlation"
   ]
  },
  {
   "cell_type": "code",
   "execution_count": 26,
   "metadata": {},
   "outputs": [
    {
     "data": {
      "image/png": "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\n",
      "text/plain": [
       "<Figure size 864x216 with 5 Axes>"
      ]
     },
     "metadata": {
      "needs_background": "light"
     },
     "output_type": "display_data"
    }
   ],
   "source": [
    "fig, axes = plt.subplots(ncols=5, figsize=(12, 3))\n",
    "\n",
    "example_array = np.arange(-3, 3.5, 0.5)\n",
    "\n",
    "plot_cov_cor(example_array, example_array**3, title=\"$y=x^3$\", \n",
    "             ax=axes[0], x_limits=(-3.5, 3.5))\n",
    "\n",
    "plot_cov_cor(example_array, example_array, title=\"$y=x$\", \n",
    "             ax=axes[1], x_limits=(-3.5, 3.5), y_limits=(-6.5, 6.5))\n",
    "\n",
    "plot_cov_cor(example_array, 2*example_array, title=\"$y=2x$\", \n",
    "             ax=axes[2], x_limits=(-3.5, 3.5), y_limits=(-6.5, 6.5))\n",
    "\n",
    "plot_cov_cor(example_array, -2*example_array, title=\"$y=-2x$\", \n",
    "             ax=axes[3], x_limits=(-3.5, 3.5), y_limits=(-6.5, 6.5))\n",
    "\n",
    "plot_cov_cor(example_array[2:-2], -2*example_array[2:-2], title=\"$y=-2x$\", \n",
    "             ax=axes[4], x_limits=(-3.5, 3.5), y_limits=(-6.5, 6.5))\n",
    "\n",
    "fig.suptitle(\"Covariance vs Correlation\", y=1.03)\n",
    "\n",
    "plt.tight_layout()\n",
    "plt.show()"
   ]
  },
  {
   "cell_type": "markdown",
   "metadata": {},
   "source": [
    "#### Contribution of Each Observation to Covariance"
   ]
  },
  {
   "cell_type": "markdown",
   "metadata": {},
   "source": [
    "For visualization purpose, create a DataFrame from coffee_X_train_std with labeled columns."
   ]
  },
  {
   "cell_type": "code",
   "execution_count": 27,
   "metadata": {},
   "outputs": [],
   "source": [
    "var_to_ind_dict = {var: predictor_variables.index(var) \n",
    "                   for var in predictor_variables}\n",
    "ind_to_var_dict = {v: k for k,v in var_to_ind_dict.items()}"
   ]
  },
  {
   "cell_type": "code",
   "execution_count": 28,
   "metadata": {},
   "outputs": [],
   "source": [
    "coffee_X_train_std_df = pd.DataFrame(coffee_X_train_std)\n",
    "coffee_X_train_std_df = coffee_X_train_std_df.rename(columns=ind_to_var_dict)"
   ]
  },
  {
   "cell_type": "markdown",
   "metadata": {},
   "source": [
    "Tip: Select Moisture as one of the variables to view a negative covariance."
   ]
  },
  {
   "cell_type": "code",
   "execution_count": 29,
   "metadata": {},
   "outputs": [
    {
     "data": {
      "application/vnd.jupyter.widget-view+json": {
       "model_id": "f3586ac7a36a4f8cbc6f19cce0e9f95e",
       "version_major": 2,
       "version_minor": 0
      },
      "text/plain": [
       "interactive(children=(Dropdown(description='Var 1:', options=('Acidity', 'Aftertaste', 'Aroma', 'Balance', 'Bo…"
      ]
     },
     "metadata": {},
     "output_type": "display_data"
    }
   ],
   "source": [
    "var1_name = widgets.Dropdown(options=predictor_variables, \n",
    "                             value=predictor_variables[0], description=\"Var 1:\")\n",
    "\n",
    "var2_name = widgets.Dropdown(options=predictor_variables, \n",
    "                             value=predictor_variables[1], description=\"Var 2:\")\n",
    "\n",
    "interactive_plot = widgets.interactive(show_scatter_covariance, \n",
    "                                       var1=var1_name, var2=var2_name)\n",
    "\n",
    "output = interactive_plot.children[-1]\n",
    "interactive_plot\n"
   ]
  },
  {
   "cell_type": "markdown",
   "metadata": {},
   "source": [
    "A larger dot indicates multiple observations in the sample with the same values for both variables. A more opaque dot indicates an observation with a stronger effect on the covariance (meaning the observation is far from the mean)."
   ]
  },
  {
   "cell_type": "markdown",
   "metadata": {},
   "source": [
    "### Finding the Covariance Matrix with Numpy and Pandas"
   ]
  },
  {
   "cell_type": "code",
   "execution_count": 30,
   "metadata": {},
   "outputs": [],
   "source": [
    "coffee_X_train_2d = coffee_X_train_std_df[\n",
    "    [\"Total.Cup.Points\", \"Aroma\"]].values"
   ]
  },
  {
   "cell_type": "markdown",
   "metadata": {},
   "source": [
    "The covariance matrix can be obtained in either pandas or numpy. The pandas format is better for display purposes. Applying .values to the pandas format will return the numpy format."
   ]
  },
  {
   "cell_type": "code",
   "execution_count": 31,
   "metadata": {},
   "outputs": [
    {
     "data": {
      "text/html": [
       "<div>\n",
       "<style scoped>\n",
       "    .dataframe tbody tr th:only-of-type {\n",
       "        vertical-align: middle;\n",
       "    }\n",
       "\n",
       "    .dataframe tbody tr th {\n",
       "        vertical-align: top;\n",
       "    }\n",
       "\n",
       "    .dataframe thead th {\n",
       "        text-align: right;\n",
       "    }\n",
       "</style>\n",
       "<table border=\"1\" class=\"dataframe\">\n",
       "  <thead>\n",
       "    <tr style=\"text-align: right;\">\n",
       "      <th></th>\n",
       "      <th>Acidity</th>\n",
       "      <th>Aftertaste</th>\n",
       "      <th>Aroma</th>\n",
       "      <th>Balance</th>\n",
       "      <th>Body</th>\n",
       "      <th>Cupper.Points</th>\n",
       "      <th>Flavor</th>\n",
       "      <th>Moisture</th>\n",
       "      <th>Total.Cup.Points</th>\n",
       "    </tr>\n",
       "  </thead>\n",
       "  <tbody>\n",
       "    <tr>\n",
       "      <th>Acidity</th>\n",
       "      <td>1.01</td>\n",
       "      <td>0.89</td>\n",
       "      <td>0.75</td>\n",
       "      <td>0.86</td>\n",
       "      <td>0.77</td>\n",
       "      <td>0.86</td>\n",
       "      <td>0.86</td>\n",
       "      <td>-0.13</td>\n",
       "      <td>0.88</td>\n",
       "    </tr>\n",
       "    <tr>\n",
       "      <th>Aftertaste</th>\n",
       "      <td>0.89</td>\n",
       "      <td>1.01</td>\n",
       "      <td>0.79</td>\n",
       "      <td>0.92</td>\n",
       "      <td>0.80</td>\n",
       "      <td>0.91</td>\n",
       "      <td>0.91</td>\n",
       "      <td>-0.17</td>\n",
       "      <td>0.93</td>\n",
       "    </tr>\n",
       "    <tr>\n",
       "      <th>Aroma</th>\n",
       "      <td>0.75</td>\n",
       "      <td>0.79</td>\n",
       "      <td>1.01</td>\n",
       "      <td>0.82</td>\n",
       "      <td>0.72</td>\n",
       "      <td>0.82</td>\n",
       "      <td>0.85</td>\n",
       "      <td>-0.15</td>\n",
       "      <td>0.85</td>\n",
       "    </tr>\n",
       "    <tr>\n",
       "      <th>Balance</th>\n",
       "      <td>0.86</td>\n",
       "      <td>0.92</td>\n",
       "      <td>0.82</td>\n",
       "      <td>1.01</td>\n",
       "      <td>0.86</td>\n",
       "      <td>0.92</td>\n",
       "      <td>0.92</td>\n",
       "      <td>-0.18</td>\n",
       "      <td>0.93</td>\n",
       "    </tr>\n",
       "    <tr>\n",
       "      <th>Body</th>\n",
       "      <td>0.77</td>\n",
       "      <td>0.80</td>\n",
       "      <td>0.72</td>\n",
       "      <td>0.86</td>\n",
       "      <td>1.01</td>\n",
       "      <td>0.84</td>\n",
       "      <td>0.83</td>\n",
       "      <td>-0.17</td>\n",
       "      <td>0.86</td>\n",
       "    </tr>\n",
       "    <tr>\n",
       "      <th>Cupper.Points</th>\n",
       "      <td>0.86</td>\n",
       "      <td>0.91</td>\n",
       "      <td>0.82</td>\n",
       "      <td>0.92</td>\n",
       "      <td>0.84</td>\n",
       "      <td>1.01</td>\n",
       "      <td>0.91</td>\n",
       "      <td>-0.11</td>\n",
       "      <td>0.93</td>\n",
       "    </tr>\n",
       "    <tr>\n",
       "      <th>Flavor</th>\n",
       "      <td>0.86</td>\n",
       "      <td>0.91</td>\n",
       "      <td>0.85</td>\n",
       "      <td>0.92</td>\n",
       "      <td>0.83</td>\n",
       "      <td>0.91</td>\n",
       "      <td>1.01</td>\n",
       "      <td>-0.15</td>\n",
       "      <td>0.93</td>\n",
       "    </tr>\n",
       "    <tr>\n",
       "      <th>Moisture</th>\n",
       "      <td>-0.13</td>\n",
       "      <td>-0.17</td>\n",
       "      <td>-0.15</td>\n",
       "      <td>-0.18</td>\n",
       "      <td>-0.17</td>\n",
       "      <td>-0.11</td>\n",
       "      <td>-0.15</td>\n",
       "      <td>1.01</td>\n",
       "      <td>-0.13</td>\n",
       "    </tr>\n",
       "    <tr>\n",
       "      <th>Total.Cup.Points</th>\n",
       "      <td>0.88</td>\n",
       "      <td>0.93</td>\n",
       "      <td>0.85</td>\n",
       "      <td>0.93</td>\n",
       "      <td>0.86</td>\n",
       "      <td>0.93</td>\n",
       "      <td>0.93</td>\n",
       "      <td>-0.13</td>\n",
       "      <td>1.01</td>\n",
       "    </tr>\n",
       "  </tbody>\n",
       "</table>\n",
       "</div>"
      ],
      "text/plain": [
       "                  Acidity  Aftertaste  Aroma  Balance  Body  Cupper.Points  \\\n",
       "Acidity              1.01        0.89   0.75     0.86  0.77           0.86   \n",
       "Aftertaste           0.89        1.01   0.79     0.92  0.80           0.91   \n",
       "Aroma                0.75        0.79   1.01     0.82  0.72           0.82   \n",
       "Balance              0.86        0.92   0.82     1.01  0.86           0.92   \n",
       "Body                 0.77        0.80   0.72     0.86  1.01           0.84   \n",
       "Cupper.Points        0.86        0.91   0.82     0.92  0.84           1.01   \n",
       "Flavor               0.86        0.91   0.85     0.92  0.83           0.91   \n",
       "Moisture            -0.13       -0.17  -0.15    -0.18 -0.17          -0.11   \n",
       "Total.Cup.Points     0.88        0.93   0.85     0.93  0.86           0.93   \n",
       "\n",
       "                  Flavor  Moisture  Total.Cup.Points  \n",
       "Acidity             0.86     -0.13              0.88  \n",
       "Aftertaste          0.91     -0.17              0.93  \n",
       "Aroma               0.85     -0.15              0.85  \n",
       "Balance             0.92     -0.18              0.93  \n",
       "Body                0.83     -0.17              0.86  \n",
       "Cupper.Points       0.91     -0.11              0.93  \n",
       "Flavor              1.01     -0.15              0.93  \n",
       "Moisture           -0.15      1.01             -0.13  \n",
       "Total.Cup.Points    0.93     -0.13              1.01  "
      ]
     },
     "execution_count": 31,
     "metadata": {},
     "output_type": "execute_result"
    }
   ],
   "source": [
    "coffee_X_train_std_df.cov().round(2)"
   ]
  },
  {
   "cell_type": "markdown",
   "metadata": {},
   "source": [
    "If calculating the covariance with Numpy, transpose the data before finding covariance."
   ]
  },
  {
   "cell_type": "code",
   "execution_count": 32,
   "metadata": {},
   "outputs": [],
   "source": [
    "cov_mat = np.cov(coffee_X_train_std.T)"
   ]
  },
  {
   "cell_type": "code",
   "execution_count": 33,
   "metadata": {},
   "outputs": [
    {
     "data": {
      "text/plain": [
       "array([[ 1.01,  0.89,  0.75,  0.86,  0.77,  0.86,  0.86, -0.13,  0.88],\n",
       "       [ 0.89,  1.01,  0.79,  0.92,  0.8 ,  0.91,  0.91, -0.17,  0.93],\n",
       "       [ 0.75,  0.79,  1.01,  0.82,  0.72,  0.82,  0.85, -0.15,  0.85],\n",
       "       [ 0.86,  0.92,  0.82,  1.01,  0.86,  0.92,  0.92, -0.18,  0.93],\n",
       "       [ 0.77,  0.8 ,  0.72,  0.86,  1.01,  0.84,  0.83, -0.17,  0.86],\n",
       "       [ 0.86,  0.91,  0.82,  0.92,  0.84,  1.01,  0.91, -0.11,  0.93],\n",
       "       [ 0.86,  0.91,  0.85,  0.92,  0.83,  0.91,  1.01, -0.15,  0.93],\n",
       "       [-0.13, -0.17, -0.15, -0.18, -0.17, -0.11, -0.15,  1.01, -0.13],\n",
       "       [ 0.88,  0.93,  0.85,  0.93,  0.86,  0.93,  0.93, -0.13,  1.01]])"
      ]
     },
     "execution_count": 33,
     "metadata": {},
     "output_type": "execute_result"
    }
   ],
   "source": [
    "cov_mat.round(2)"
   ]
  },
  {
   "cell_type": "code",
   "execution_count": 34,
   "metadata": {},
   "outputs": [],
   "source": [
    "covmat_2d = np.cov(coffee_X_train_2d_std.T)"
   ]
  },
  {
   "cell_type": "code",
   "execution_count": 35,
   "metadata": {},
   "outputs": [
    {
     "data": {
      "text/plain": [
       "array([[1.01, 0.85],\n",
       "       [0.85, 1.01]])"
      ]
     },
     "execution_count": 35,
     "metadata": {},
     "output_type": "execute_result"
    }
   ],
   "source": [
    "covmat_2d.round(2)"
   ]
  },
  {
   "cell_type": "markdown",
   "metadata": {},
   "source": [
    "<hr>"
   ]
  },
  {
   "cell_type": "markdown",
   "metadata": {},
   "source": [
    "<a id=\"eigenvalues_eigenvectors\"></a>"
   ]
  },
  {
   "cell_type": "markdown",
   "metadata": {},
   "source": [
    "## Obtain the eigenvalues and eigenvectors of the covariance matrix"
   ]
  },
  {
   "cell_type": "markdown",
   "metadata": {},
   "source": [
    "### What are eigenvalues and eigenvectors?"
   ]
  },
  {
   "cell_type": "markdown",
   "metadata": {},
   "source": [
    "Great tutorial: https://www.youtube.com/watch?v=KJj1NuWX3LU"
   ]
  },
  {
   "cell_type": "markdown",
   "metadata": {},
   "source": [
    "An **eigenvector** of a matrix is a (non-zero) vector such that the vector multiplied by the matrix is parallel to the original vector.<br><br>\n",
    "Thus, an eigenvector multiplied by this matrix is equal to the eigenvector multiplied by some (non-zero) scalar. This scalar is the eigenvector's **eigenvalue**.\n",
    " - a scalar is a real number (ex. -4, 2.3, 5, etc.)\n",
    "\n",
    "<br>\n",
    "The eigenvectors of a square matrix are always orthogonal (perpendicular) to each other."
   ]
  },
  {
   "cell_type": "markdown",
   "metadata": {},
   "source": [
    "### Visualizing Eigenvectors and Eigenvalues"
   ]
  },
  {
   "cell_type": "code",
   "execution_count": 36,
   "metadata": {},
   "outputs": [
    {
     "data": {
      "image/png": "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\n",
      "text/plain": [
       "<Figure size 936x216 with 5 Axes>"
      ]
     },
     "metadata": {
      "needs_background": "light"
     },
     "output_type": "display_data"
    }
   ],
   "source": [
    "example_array = np.arange(0, 6, .25)\n",
    "\n",
    "fig, axes = plt.subplots(ncols=5, figsize=(13, 3))\n",
    "\n",
    "show_eigenvectors_np(example_array, example_array**3, ax=axes[0])\n",
    "\n",
    "show_eigenvectors_np(example_array, np.sin(example_array*np.pi/4), ax=axes[1])\n",
    "\n",
    "show_eigenvectors_np(np.random.normal(size=30), np.random.normal(size=30),\n",
    "                     ax=axes[2])\n",
    "\n",
    "scatt_array = np.hstack((example_array, example_array, example_array))\n",
    "scatt_y = 0.7* scatt_array + 3*np.random.rand(scatt_array.shape[0])\n",
    "show_eigenvectors_np(scatt_array, scatt_y, ax=axes[3])\n",
    "\n",
    "show_eigenvectors_np(example_array, -2*example_array, ax=axes[4])\n",
    "\n",
    "fig.suptitle(\"Examples of Eigenvectors\", y=1.06, fontsize=16)\n",
    "\n",
    "plt.tight_layout()\n",
    "plt.show()"
   ]
  },
  {
   "cell_type": "code",
   "execution_count": 37,
   "metadata": {},
   "outputs": [
    {
     "data": {
      "image/png": "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\n",
      "text/plain": [
       "<Figure size 864x288 with 3 Axes>"
      ]
     },
     "metadata": {
      "needs_background": "light"
     },
     "output_type": "display_data"
    }
   ],
   "source": [
    "fig, axes = plt.subplots(ncols=3, figsize=(12, 4))\n",
    "\n",
    "show_eigenvectors_pd(coffee_train_df, \"Aroma\", \"Total.Cup.Points\", ax=axes[0])\n",
    "\n",
    "show_eigenvectors_pd(coffee_train_df, \"Total.Cup.Points\", \"Aroma\", ax=axes[1])\n",
    "\n",
    "show_eigenvectors_pd(coffee_train_df, \"Total.Cup.Points\", \"Moisture\", \n",
    "                     ax=axes[2])\n",
    "\n",
    "fig.suptitle(\"Examples of Eigenvectors from Coffee Dataset\", y=1.06, \n",
    "             fontsize=16)\n",
    "\n",
    "plt.tight_layout()\n",
    "plt.show()"
   ]
  },
  {
   "cell_type": "markdown",
   "metadata": {},
   "source": [
    "In the figures above, each eigenvector is shown in black, and each eigenvector multiplied by its covariance matrix is shown in blue. Each blue vectors is equal to an eigenvector multiplied by its eigenvalue, and thus each blue vector is the length of its eigenvalue. The data (green dots) is shown in standard deviations."
   ]
  },
  {
   "cell_type": "markdown",
   "metadata": {},
   "source": [
    "### Finding Eigenvalues and Eigenvectors with Numpy"
   ]
  },
  {
   "cell_type": "markdown",
   "metadata": {},
   "source": [
    "Eigendecomposition of the covariance matrix."
   ]
  },
  {
   "cell_type": "code",
   "execution_count": 38,
   "metadata": {},
   "outputs": [],
   "source": [
    "eigen_vals, eigen_vecs = np.linalg.eigh(cov_mat)"
   ]
  },
  {
   "cell_type": "code",
   "execution_count": 39,
   "metadata": {},
   "outputs": [
    {
     "data": {
      "text/plain": [
       "array([[ 0.02,  0.17, -0.05,  0.11,  0.68, -0.59, -0.17, -0.05, -0.34],\n",
       "       [ 0.54, -0.46,  0.29, -0.17, -0.36, -0.35, -0.09, -0.01, -0.36],\n",
       "       [ 0.21, -0.03,  0.13,  0.1 ,  0.27,  0.27,  0.82, -0.  , -0.33],\n",
       "       [-0.05,  0.74,  0.46, -0.  , -0.32,  0.04, -0.09,  0.01, -0.36],\n",
       "       [ 0.2 , -0.13,  0.03, -0.03,  0.32,  0.68, -0.52,  0.02, -0.33],\n",
       "       [ 0.02, -0.01, -0.52,  0.69, -0.35,  0.01, -0.04, -0.07, -0.36],\n",
       "       [-0.1 ,  0.13, -0.59, -0.69, -0.12, -0.  ,  0.1 , -0.03, -0.36],\n",
       "       [ 0.04,  0.02,  0.04, -0.04,  0.  ,  0.04, -0.  , -0.99,  0.07],\n",
       "       [-0.78, -0.42,  0.27,  0.  , -0.04, -0.01,  0.01, -0.05, -0.37]])"
      ]
     },
     "execution_count": 39,
     "metadata": {},
     "output_type": "execute_result"
    }
   ],
   "source": [
    "eigen_vecs.round(2)"
   ]
  },
  {
   "cell_type": "code",
   "execution_count": 40,
   "metadata": {},
   "outputs": [
    {
     "data": {
      "text/plain": [
       "array([0.06, 0.07, 0.09, 0.1 , 0.14, 0.25, 0.3 , 0.99, 7.07])"
      ]
     },
     "execution_count": 40,
     "metadata": {},
     "output_type": "execute_result"
    }
   ],
   "source": [
    "eigen_vals.round(2)"
   ]
  },
  {
   "cell_type": "markdown",
   "metadata": {},
   "source": [
    "<hr>"
   ]
  },
  {
   "cell_type": "code",
   "execution_count": 41,
   "metadata": {},
   "outputs": [],
   "source": [
    "eigenvals_2d, eigenvecs_2d = np.linalg.eigh(covmat_2d)"
   ]
  },
  {
   "cell_type": "code",
   "execution_count": 42,
   "metadata": {},
   "outputs": [
    {
     "data": {
      "text/plain": [
       "array([0.15, 1.86])"
      ]
     },
     "execution_count": 42,
     "metadata": {},
     "output_type": "execute_result"
    }
   ],
   "source": [
    "eigenvals_2d.round(2)"
   ]
  },
  {
   "cell_type": "code",
   "execution_count": 43,
   "metadata": {},
   "outputs": [
    {
     "data": {
      "text/plain": [
       "array([[-0.71,  0.71],\n",
       "       [ 0.71,  0.71]])"
      ]
     },
     "execution_count": 43,
     "metadata": {},
     "output_type": "execute_result"
    }
   ],
   "source": [
    "eigenvecs_2d.round(2)"
   ]
  },
  {
   "cell_type": "markdown",
   "metadata": {},
   "source": [
    "<hr>"
   ]
  },
  {
   "cell_type": "markdown",
   "metadata": {},
   "source": [
    "<a id=\"eigenvectors_matrix\"></a>"
   ]
  },
  {
   "cell_type": "markdown",
   "metadata": {},
   "source": [
    "## Create matrix of ranked eigenvectors"
   ]
  },
  {
   "cell_type": "markdown",
   "metadata": {},
   "source": [
    "Make a list of (eigenvalue, eigenvector) tuples"
   ]
  },
  {
   "cell_type": "code",
   "execution_count": 44,
   "metadata": {},
   "outputs": [],
   "source": [
    "eigen_pairs = [(np.abs(eigen_vals[i]), eigen_vecs[:, i])\n",
    "               for i in range(len(eigen_vals))]"
   ]
  },
  {
   "cell_type": "code",
   "execution_count": 45,
   "metadata": {},
   "outputs": [],
   "source": [
    "eigen_pairs_2d = [(np.abs(eigenvals_2d[i]), eigenvecs_2d[:, i])\n",
    "                  for i in range(len(eigenvals_2d))]"
   ]
  },
  {
   "cell_type": "markdown",
   "metadata": {},
   "source": [
    "Sort the (eigenvalue, eigenvector) tuples from high to low"
   ]
  },
  {
   "cell_type": "code",
   "execution_count": 46,
   "metadata": {},
   "outputs": [],
   "source": [
    "eigen_pairs.sort(key=lambda k: k[0], reverse=True)"
   ]
  },
  {
   "cell_type": "code",
   "execution_count": 47,
   "metadata": {},
   "outputs": [],
   "source": [
    "eigen_pairs_2d.sort(key=lambda k: k[0], reverse=True)"
   ]
  },
  {
   "cell_type": "markdown",
   "metadata": {},
   "source": [
    "Rank the eigenvectors accordingly"
   ]
  },
  {
   "cell_type": "code",
   "execution_count": 48,
   "metadata": {},
   "outputs": [
    {
     "name": "stdout",
     "output_type": "stream",
     "text": [
      "Eigenvectors Matrix:\n",
      " [[-0.34 -0.05 -0.17 -0.59  0.68  0.11 -0.05  0.17  0.02]\n",
      " [-0.36 -0.01 -0.09 -0.35 -0.36 -0.17  0.29 -0.46  0.54]\n",
      " [-0.33 -0.    0.82  0.27  0.27  0.1   0.13 -0.03  0.21]\n",
      " [-0.36  0.01 -0.09  0.04 -0.32 -0.    0.46  0.74 -0.05]\n",
      " [-0.33  0.02 -0.52  0.68  0.32 -0.03  0.03 -0.13  0.2 ]\n",
      " [-0.36 -0.07 -0.04  0.01 -0.35  0.69 -0.52 -0.01  0.02]\n",
      " [-0.36 -0.03  0.1  -0.   -0.12 -0.69 -0.59  0.13 -0.1 ]\n",
      " [ 0.07 -0.99 -0.    0.04  0.   -0.04  0.04  0.02  0.04]\n",
      " [-0.37 -0.05  0.01 -0.01 -0.04  0.    0.27 -0.42 -0.78]]\n"
     ]
    }
   ],
   "source": [
    "ordered_eigenvectors = np.array([eigen_pairs[x][1] \n",
    "                                  for x in range(len(eigen_pairs))])\n",
    "eigenvectors_matrix = ordered_eigenvectors.T\n",
    "print(\"Eigenvectors Matrix:\\n\", eigenvectors_matrix.round(2))"
   ]
  },
  {
   "cell_type": "code",
   "execution_count": 49,
   "metadata": {},
   "outputs": [
    {
     "name": "stdout",
     "output_type": "stream",
     "text": [
      "Eigenvectors 2D Matrix:\n",
      " [[ 0.71  0.71]\n",
      " [-0.71  0.71]]\n"
     ]
    }
   ],
   "source": [
    "ordered_eigenvectors_2d = np.array([eigen_pairs_2d[x][1] \n",
    "                                    for x in range(len(eigen_pairs_2d))])\n",
    "eigenvectors_2d_matrix = ordered_eigenvectors_2d.T\n",
    "print(\"Eigenvectors 2D Matrix:\\n\", ordered_eigenvectors_2d.round(2))"
   ]
  },
  {
   "cell_type": "markdown",
   "metadata": {},
   "source": [
    "<hr>"
   ]
  },
  {
   "cell_type": "markdown",
   "metadata": {},
   "source": [
    "<a id=\"multiply_data\"></a>"
   ]
  },
  {
   "cell_type": "markdown",
   "metadata": {},
   "source": [
    "## Multiply Data by Eigenvector Matrix"
   ]
  },
  {
   "cell_type": "markdown",
   "metadata": {},
   "source": [
    "### How does multiplication by the Eigenvector Matrix transform the data?"
   ]
  },
  {
   "cell_type": "markdown",
   "metadata": {},
   "source": [
    "In a 2-Dimensional space (i.e. there are two predictor variables), we can think of multiplying the observations by the eigenvectors of the covariance matrix as rotating the graphs so that one eigenvector aligns with the x-axis and the other eigenvector aligns with the y-axis."
   ]
  },
  {
   "cell_type": "code",
   "execution_count": 50,
   "metadata": {
    "scrolled": true
   },
   "outputs": [
    {
     "data": {
      "application/vnd.jupyter.widget-view+json": {
       "model_id": "a9d68280d8d841eba9994755f2b60a37",
       "version_major": 2,
       "version_minor": 0
      },
      "text/plain": [
       "interactive(children=(IntSlider(value=0, description='Rotation:', max=360, step=5), Output()), _dom_classes=('…"
      ]
     },
     "metadata": {},
     "output_type": "display_data"
    }
   ],
   "source": [
    "rotation_deg = widgets.IntSlider(\n",
    "    value=0, min=0, max=360, step=5,\n",
    "    description=\"Rotation:\", continuous_update=True)\n",
    "\n",
    "\n",
    "interactive_plot = widgets.interactive(\n",
    "    rotate_2d_data, \n",
    "    eigen_vectors_list=widgets.fixed(eigenvecs_2d), \n",
    "    scatter_X=widgets.fixed(coffee_X_train_2d_std),\n",
    "    scatter_y=widgets.fixed(coffee_y_train),\n",
    "    crop=widgets.fixed(6),\n",
    "    deg=rotation_deg)\n",
    "\n",
    "output = interactive_plot.children[-1]\n",
    "interactive_plot\n"
   ]
  },
  {
   "cell_type": "markdown",
   "metadata": {},
   "source": [
    "In the figure above, the original x-axis is Total.Cup.Points and the original y-axis is Aroma. The red dots represent coffee grown in Latin America and the blue dots represent coffee grown in Africa. "
   ]
  },
  {
   "cell_type": "markdown",
   "metadata": {},
   "source": [
    "In the graph above, rotating the data 45 degrees or 225 degrees is equivalent to multiplying the data by the ranked eigenvector matrix. The dots below the graph represent the data projected onto the new x-axis, which is the first principal component (the y. As the rotation becomes closer to 45 or 225 degrees, the data becomes more spread out on the x-axis. In the scenario above, this rotation makes it easier to predict the origin of the coffee using only the component showed on the x-axis."
   ]
  },
  {
   "cell_type": "markdown",
   "metadata": {},
   "source": [
    "When using a test set, multiply the test data by the matrix of eigenvectors computed using the training data. **Do not create a new set of eigenvectors for the test data.** Therefore, the exact same rotation that is applied to the training data is applied to the test data."
   ]
  },
  {
   "cell_type": "markdown",
   "metadata": {},
   "source": [
    "Try rotating the 2D test data by 45 or 225 degrees below:"
   ]
  },
  {
   "cell_type": "code",
   "execution_count": 51,
   "metadata": {},
   "outputs": [
    {
     "data": {
      "application/vnd.jupyter.widget-view+json": {
       "model_id": "7903832c8d0a447c966fab402a17c94e",
       "version_major": 2,
       "version_minor": 0
      },
      "text/plain": [
       "interactive(children=(IntSlider(value=0, description='Rotation:', max=360, step=5), Output()), _dom_classes=('…"
      ]
     },
     "metadata": {},
     "output_type": "display_data"
    }
   ],
   "source": [
    "rotation_deg = widgets.IntSlider(\n",
    "    value=0, min=0, max=360, step=5,\n",
    "    description=\"Rotation:\", continuous_update=True)\n",
    "\n",
    "\n",
    "interactive_plot = widgets.interactive(\n",
    "    rotate_2d_data, \n",
    "    eigen_vectors_list=widgets.fixed(eigenvecs_2d), \n",
    "    scatter_X=widgets.fixed(coffee_X_test_2d_std),\n",
    "    scatter_y=widgets.fixed(coffee_y_test), \n",
    "    crop=widgets.fixed(8),\n",
    "    deg=rotation_deg)\n",
    "\n",
    "output = interactive_plot.children[-1]\n",
    "interactive_plot"
   ]
  },
  {
   "cell_type": "markdown",
   "metadata": {},
   "source": [
    "### Matrix Multiplication with Numpy"
   ]
  },
  {
   "cell_type": "markdown",
   "metadata": {},
   "source": [
    "This step is the easiest!"
   ]
  },
  {
   "cell_type": "code",
   "execution_count": 54,
   "metadata": {},
   "outputs": [],
   "source": [
    "coffee_X_train_pca = coffee_X_train_std.dot(eigenvectors_matrix)"
   ]
  },
  {
   "cell_type": "code",
   "execution_count": 53,
   "metadata": {},
   "outputs": [],
   "source": [
    "coffee_X_train_2d_pca = coffee_X_test_2d_std.dot(eigenvectors_2d_matrix)"
   ]
  },
  {
   "cell_type": "markdown",
   "metadata": {},
   "source": [
    "<hr>"
   ]
  },
  {
   "cell_type": "markdown",
   "metadata": {},
   "source": [
    "<a id=\"reduce_dimensionality\"></a>"
   ]
  },
  {
   "cell_type": "markdown",
   "metadata": {},
   "source": [
    "## Reduce Dimensionality of PCA Transformed Dataset"
   ]
  },
  {
   "cell_type": "markdown",
   "metadata": {},
   "source": [
    "**Total and explained variance**"
   ]
  },
  {
   "cell_type": "markdown",
   "metadata": {},
   "source": [
    "The variance of each component of the PCA transformed dataset with itself is equal to the length of one of the eigenvalues."
   ]
  },
  {
   "cell_type": "markdown",
   "metadata": {},
   "source": [
    "- PCA is used to reduce noise and overfitting. If we use a larger number of components, we will likely reduce bias but increase variance. sk-learn's gridsearch algorithm tries using different numbers of principal components on validation data (hold-out sets) and tells us the recommended number of principal components for the analysis."
   ]
  },
  {
   "cell_type": "code",
   "execution_count": 55,
   "metadata": {},
   "outputs": [],
   "source": [
    "total = sum(eigen_vals)\n",
    "variance_explained = [(i / total) for i in sorted(eigen_vals, reverse=True)]\n",
    "cum_variance_explained = np.cumsum(variance_explained)"
   ]
  },
  {
   "cell_type": "markdown",
   "metadata": {},
   "source": [
    "The first principal component will always have the largest proportion of the variance variance. The proportion of the variance explained by principal component #n will be greater than or equal to the proportion of the variance explained by principal component #n+1."
   ]
  },
  {
   "cell_type": "code",
   "execution_count": 61,
   "metadata": {},
   "outputs": [
    {
     "data": {
      "application/vnd.jupyter.widget-view+json": {
       "model_id": "0057f62ba20743458350e1537a290251",
       "version_major": 2,
       "version_minor": 0
      },
      "text/plain": [
       "interactive(children=(IntSlider(value=1, continuous_update=False, description='x-axis PC:', max=9, min=1), Int…"
      ]
     },
     "metadata": {},
     "output_type": "display_data"
    }
   ],
   "source": [
    "ind1_val = widgets.IntSlider(\n",
    "    value=1, min=1, max=9, step=1, description=\"x-axis PC:\", disabled=False, \n",
    "    continuous_update=False, orientation=\"horizontal\", readout=True, \n",
    "    readout_format=\"d\")\n",
    "\n",
    "ind2_val = widgets.IntSlider(\n",
    "    value=2, min=1, max=9, step=1, description=\"y-axis PC:\", disabled=False, \n",
    "    continuous_update=False, orientation=\"horizontal\", readout=True, \n",
    "    readout_format=\"d\")\n",
    "\n",
    "interactive_plot = widgets.interactive(\n",
    "    get_pca_plot, \n",
    "    orig_matrix=widgets.fixed(coffee_X_train_std),\n",
    "    transformation_matrix=widgets.fixed(eigenvectors_matrix),\n",
    "    pc_ind1=ind1_val, pc_ind2=ind2_val)\n",
    "\n",
    "output = interactive_plot.children[-1]\n",
    "interactive_plot"
   ]
  },
  {
   "cell_type": "code",
   "execution_count": 62,
   "metadata": {},
   "outputs": [
    {
     "data": {
      "image/png": "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\n",
      "text/plain": [
       "<Figure size 576x360 with 1 Axes>"
      ]
     },
     "metadata": {
      "needs_background": "light"
     },
     "output_type": "display_data"
    }
   ],
   "source": [
    "fig, ax = plt.subplots(figsize=(8, 5))\n",
    "\n",
    "ax.bar(range(1, len(predictor_variables)+1), variance_explained, \n",
    "       alpha=0.5, align=\"center\",\n",
    "        label=\"individual explained variance\")\n",
    "ax.step(range(1, len(predictor_variables)+1), cum_variance_explained, \n",
    "        where=\"mid\",\n",
    "         label=\"cumulative explained variance\")\n",
    "ax.set_xticks(np.arange(1, len(predictor_variables)+1, step=1))\n",
    "ax.set_ylabel(\"Explained Variance Ratio\")\n",
    "ax.set_xlabel(\"Principal Component Rank\")\n",
    "ax.set_title(\"Variance Explained (Full Dataset)\")\n",
    "ax.legend(loc=\"right\")\n",
    "plt.tight_layout()\n",
    "# plt.savefig(\"images/05_02.png\", dpi=300)\n",
    "plt.show()"
   ]
  },
  {
   "cell_type": "code",
   "execution_count": 63,
   "metadata": {},
   "outputs": [],
   "source": [
    "total_2d = sum(eigenvals_2d)\n",
    "variance_explained_2d = [(i / total_2d) \n",
    "                         for i in sorted(eigenvals_2d, reverse=True)]\n",
    "cum_variance_explained_2d = np.cumsum(variance_explained_2d)"
   ]
  },
  {
   "cell_type": "code",
   "execution_count": 64,
   "metadata": {},
   "outputs": [
    {
     "data": {
      "image/png": "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\n",
      "text/plain": [
       "<Figure size 576x360 with 1 Axes>"
      ]
     },
     "metadata": {
      "needs_background": "light"
     },
     "output_type": "display_data"
    }
   ],
   "source": [
    "fig, ax = plt.subplots(figsize=(8, 5))\n",
    "\n",
    "ax.bar(range(1, 2+1), variance_explained_2d, \n",
    "       alpha=0.5, align=\"center\",\n",
    "        label=\"individual explained variance\")\n",
    "ax.step(range(1, 2+1), cum_variance_explained_2d, \n",
    "        where=\"mid\",\n",
    "         label=\"cumulative explained variance\")\n",
    "ax.set_xticks(np.arange(1, 2+1, step=1))\n",
    "ax.set_ylabel(\"Explained Variance Ratio\")\n",
    "ax.set_xlabel(\"Principal Component Rank\")\n",
    "ax.set_title(\"Variance Explained (2 Dimensional Dataset)\")\n",
    "ax.legend(loc=\"right\")\n",
    "plt.tight_layout()\n",
    "plt.show()"
   ]
  },
  {
   "cell_type": "markdown",
   "metadata": {},
   "source": [
    "<hr>"
   ]
  },
  {
   "cell_type": "markdown",
   "metadata": {},
   "source": [
    "<a id=\"pca_sklearn\"></a>"
   ]
  },
  {
   "cell_type": "markdown",
   "metadata": {},
   "source": [
    "# PCA in SK-Learn"
   ]
  },
  {
   "cell_type": "code",
   "execution_count": 65,
   "metadata": {},
   "outputs": [],
   "source": [
    "pca = PCA()\n",
    "skl_pca_coffee_X_train_std = pca.fit_transform(coffee_X_train_std)\n",
    "skl_pca_coffee_X_test_std = pca.transform(coffee_X_test_std)\n"
   ]
  },
  {
   "cell_type": "markdown",
   "metadata": {},
   "source": [
    "**Some cool attributes of sk-learn's PCA:**"
   ]
  },
  {
   "cell_type": "markdown",
   "metadata": {},
   "source": [
    "View the matrix of ranked eigenvectors:"
   ]
  },
  {
   "cell_type": "code",
   "execution_count": 66,
   "metadata": {},
   "outputs": [
    {
     "data": {
      "text/plain": [
       "array([[-0.34, -0.36, -0.33, -0.36, -0.33, -0.36, -0.36,  0.07, -0.37],\n",
       "       [ 0.05,  0.01,  0.  , -0.01, -0.02,  0.07,  0.03,  0.99,  0.05],\n",
       "       [-0.17, -0.09,  0.82, -0.09, -0.52, -0.04,  0.1 , -0.  ,  0.01],\n",
       "       [ 0.59,  0.35, -0.27, -0.04, -0.68, -0.01,  0.  , -0.04,  0.01],\n",
       "       [-0.68,  0.36, -0.27,  0.32, -0.32,  0.35,  0.12, -0.  ,  0.04],\n",
       "       [ 0.11, -0.17,  0.1 , -0.  , -0.03,  0.69, -0.69, -0.04,  0.  ],\n",
       "       [ 0.05, -0.29, -0.13, -0.46, -0.03,  0.52,  0.59, -0.04, -0.27],\n",
       "       [ 0.17, -0.46, -0.03,  0.74, -0.13, -0.01,  0.13,  0.02, -0.42],\n",
       "       [ 0.02,  0.54,  0.21, -0.05,  0.2 ,  0.02, -0.1 ,  0.04, -0.78]])"
      ]
     },
     "execution_count": 66,
     "metadata": {},
     "output_type": "execute_result"
    }
   ],
   "source": [
    "pca.components_.round(2)"
   ]
  },
  {
   "cell_type": "markdown",
   "metadata": {},
   "source": [
    "Proportion of the variance explained by each component:"
   ]
  },
  {
   "cell_type": "code",
   "execution_count": 67,
   "metadata": {},
   "outputs": [
    {
     "data": {
      "text/plain": [
       "array([0.78, 0.11, 0.03, 0.03, 0.02, 0.01, 0.01, 0.01, 0.01])"
      ]
     },
     "execution_count": 67,
     "metadata": {},
     "output_type": "execute_result"
    }
   ],
   "source": [
    "pca.explained_variance_ratio_.round(2)"
   ]
  },
  {
   "cell_type": "markdown",
   "metadata": {},
   "source": [
    "<hr>"
   ]
  },
  {
   "cell_type": "markdown",
   "metadata": {},
   "source": [
    "<a id=\"disadvantages\"></a>"
   ]
  },
  {
   "cell_type": "markdown",
   "metadata": {},
   "source": [
    "# (The few) Disadvantages and Limits of PCA"
   ]
  },
  {
   "cell_type": "markdown",
   "metadata": {},
   "source": [
    "- One disadvantage of PCA is that **no principal component corresponds to a specific feature of the dataset**, which can make it more challenging to explain results to non-technical audiences."
   ]
  },
  {
   "cell_type": "markdown",
   "metadata": {},
   "source": [
    "- The standard PCA is **only helpful** for classification problems **if the data is linearly separable.** The kernel PCA is helpful for data that is not linearly separable. "
   ]
  }
 ],
 "metadata": {
  "anaconda-cloud": {},
  "kernelspec": {
   "display_name": "Python 3",
   "language": "python",
   "name": "python3"
  },
  "language_info": {
   "codemirror_mode": {
    "name": "ipython",
    "version": 3
   },
   "file_extension": ".py",
   "mimetype": "text/x-python",
   "name": "python",
   "nbconvert_exporter": "python",
   "pygments_lexer": "ipython3",
   "version": "3.7.3"
  },
  "toc": {
   "base_numbering": "0",
   "nav_menu": {},
   "number_sections": true,
   "sideBar": true,
   "skip_h1_title": false,
   "title_cell": "Table of Contents",
   "title_sidebar": "Contents",
   "toc_cell": false,
   "toc_position": {
    "height": "573px",
    "left": "23px",
    "top": "297.133px",
    "width": "496px"
   },
   "toc_section_display": true,
   "toc_window_display": true
  }
 },
 "nbformat": 4,
 "nbformat_minor": 1
}
