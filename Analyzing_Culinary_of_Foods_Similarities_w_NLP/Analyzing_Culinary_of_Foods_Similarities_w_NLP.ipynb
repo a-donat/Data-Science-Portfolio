{
  "cells": [
    {
      "cell_type": "markdown",
      "metadata": {
        "id": "view-in-github",
        "colab_type": "text"
      },
      "source": [
        "<a href=\"https://colab.research.google.com/github/a-donat/Data-Science-Portfolio/blob/master/Analyzing_Culinary_of_Foods_Similarities_w_NLP.ipynb\" target=\"_parent\"><img src=\"https://colab.research.google.com/assets/colab-badge.svg\" alt=\"Open In Colab\"/></a>"
      ]
    },
    {
      "cell_type": "markdown",
      "metadata": {
        "id": "TQu_b-V08mb3"
      },
      "source": [
        "# Analyzing Culinary Similarities Between Foods with Natural Language Processing (NLP)\n",
        "\n",
        "by Annalisa Donat"
      ]
    },
    {
      "cell_type": "markdown",
      "source": [
        "## Overview\n",
        "In this project, I will create an .html file containing an interactive visualization of the culinary similarities between foods. More similar foods will appear closer together.\n",
        "\n",
        "**Defining \"similar foods\"**: I will consider two foods to be similar if they are often used in similar recipes (ex. blueberries and raspberries are often used in fruit salads, pies, and yogurt, thus blueberries and raspberries will be considered similar).\n",
        "\n",
        "**The math behind visualizing similarity**: I will compute the cosine similarity matrix of vectors in a table (computed with Gensim) in which each vector represents whether a given ingredient appeared in the listed recipes. I will then use the the NetworkX library to implement the Fruchterman-Reingold force-directed algorithm to compute the optimal position on the graph for each food.\n",
        "\n",
        "**Main libraries and how I will use them**:\n",
        "*   Gensim – Use Natural Language Processing (NLP) to creates ingredients vs recipes table.\n",
        "*   Networkx – Compute positions of ingredients in similarity graph\n",
        "* Plotly – Create interactive data visualization"
      ],
      "metadata": {
        "id": "F_I_fHt897yn"
      }
    },
    {
      "cell_type": "markdown",
      "source": [
        "Note: Some recipes included in this analysis can be considered ingredients or components of other recipes (ex. there may be a recipe for strawberry jam, and a recipe for a cake with a strawberry jam filling)."
      ],
      "metadata": {
        "id": "IY4bzlcu0WN5"
      }
    },
    {
      "cell_type": "markdown",
      "source": [
        "\n",
        "## Contents\n",
        "- Part 1: Introduction\n",
        "- Part 2: Load Libraries and Dataset\n",
        "- Part 3: Preprocess the Data\n",
        "- Part 4: Word2Vec with Gensim\n",
        "- Part 5: Explore Results\n",
        "- Part 6: Build and VisualizeInteractive Network Graph\n",
        "\n",
        "## Part 1: Introduction\n",
        "We will be using a recipe dataset, to train a model to learn the interactions between different kind of ingredients and available products in a supermarket. This model can then be implemented in a number of different ways, for example,\n",
        "- to recommend products based on items added to cart;\n",
        "- to offer alternatives products based on stock;\n",
        "- to discover new products to create different recipes.\n",
        "\n",
        "\n",
        "### Recipe Sample\n",
        "*Herb Rubbed Sirloin Tip Roast*\n",
        "\n",
        "- 1 1/4 tablespoons paprika\n",
        "- 1 tablespoon kosher salt\n",
        "- 1 teaspoon garlic powder\n",
        "- 1/2 teaspoon ground black pepper\n",
        "- 1/2 teaspoon onion powder\n",
        "- 1/2 teaspoon ground cayenne pepper\n",
        "- 1/2 teaspoon dried oregano\n",
        "- 1/2 teaspoon dried thyme\n",
        "- 2 tablespoons olive oil\n",
        "- 1 (3 pound) sirloin tip roast\n",
        "\n",
        "In a small bowl, mix the paprika, kosher salt, garlic powder, black pepper, onion powder, cayenne pepper, oregano, and thyme. Stir in the olive oil, and allow the mixture to sit about 15 minutes.\n",
        "\n",
        "Preheat oven to 350 degrees F (175 degrees C). Line a baking sheet with aluminum foil.\n",
        "\n",
        "Place the roast on the prepared baking sheet, and cover on all sides with the spice mixture.\n",
        "\n",
        "Roast 1 hour in the preheated oven, or to a minimum internal temperature of 145 degrees F (63 degrees C). Let sit 15 minutes before slicing.\n"
      ],
      "metadata": {
        "id": "AvR8IjA7znv3"
      }
    },
    {
      "cell_type": "markdown",
      "source": [
        "## Part 2: Load Libraries and Dataset"
      ],
      "metadata": {
        "id": "0aMHSda6wT2X"
      }
    },
    {
      "cell_type": "code",
      "source": [
        "from gensim.parsing.preprocessing import remove_stopwords\n",
        "from tqdm import tqdm\n",
        "import pandas as pd\n",
        "import pickle\n",
        "import string\n",
        "import json"
      ],
      "metadata": {
        "id": "De-8etXO950S"
      },
      "execution_count": 1,
      "outputs": []
    },
    {
      "cell_type": "code",
      "source": [
        "from gensim.models.word2vec import Word2Vec"
      ],
      "metadata": {
        "id": "izOLalZ9Sw9J"
      },
      "execution_count": 35,
      "outputs": []
    },
    {
      "cell_type": "code",
      "source": [
        "import matplotlib\n",
        "%matplotlib inline\n",
        "%config InlineBackend.figure_format = 'svg'\n",
        "#matplotlib.rcParams['figure.dpi'] = 800\n",
        "import matplotlib.pyplot as plt\n",
        "plt.style.use('ggplot')"
      ],
      "metadata": {
        "id": "YdNJfgnbcw2g"
      },
      "execution_count": 70,
      "outputs": []
    },
    {
      "cell_type": "code",
      "source": [
        "from typing import *"
      ],
      "metadata": {
        "id": "b_QG1_UiLrIa"
      },
      "execution_count": 15,
      "outputs": []
    },
    {
      "cell_type": "code",
      "execution_count": 55,
      "metadata": {
        "id": "SPBFa0Ee8mb6"
      },
      "outputs": [],
      "source": [
        "from sklearn.metrics.pairwise import cosine_similarity\n",
        "import plotly.graph_objects as go\n",
        "from plotly.offline import plot\n",
        "import networkx as nx\n",
        "import numpy as np"
      ]
    },
    {
      "cell_type": "code",
      "source": [
        "import random\n",
        "random.seed(3)"
      ],
      "metadata": {
        "id": "-A5finjea7Dw"
      },
      "execution_count": 58,
      "outputs": []
    },
    {
      "cell_type": "code",
      "execution_count": 2,
      "metadata": {
        "id": "ba9Xn97G8mb7"
      },
      "outputs": [],
      "source": [
        "recipe_sources = ['ar', 'epi', 'fn']"
      ]
    },
    {
      "cell_type": "markdown",
      "source": [
        "[Dataset](https://eightportions.com/datasets/Recipes/#fn:1) is collated by Ryan Lee, and sourced from [Food Network](https://www.foodnetwork.com/), [Epicurious](https://www.epicurious.com/), and [Allrecipes](https://www.allrecipes.com/)."
      ],
      "metadata": {
        "id": "EWzypkC9whI4"
      }
    },
    {
      "cell_type": "code",
      "execution_count": 8,
      "metadata": {
        "id": "bz4onqnC8mb7"
      },
      "outputs": [],
      "source": [
        "sources, titles, ingredients, instructions = [], [], [], []\n",
        "for recipe_source in recipe_sources:\n",
        "    data = json.load(\n",
        "        open('/content/recipes_raw_nosource_%s.json' % recipe_source, 'r'))\n",
        "    for idstr, recipe in data.items():\n",
        "        if ('title' in recipe) and ('ingredients' in recipe) and (\n",
        "            'instructions' in recipe):\n",
        "            # append to a list of the source\n",
        "            sources.append(recipe_source)\n",
        "            # append to a list of the titles (note that recipe is a dictionary)\n",
        "            titles.append(recipe[\"title\"])\n",
        "            # append to a list of a list of ingredients, removing the word ADVERTISEMENT\n",
        "            ingredients.append(\n",
        "                [ingredient.replace(\" ADVERTISEMENT\", \"\") \n",
        "                for ingredient in recipe[\"ingredients\"]])\n",
        "            # append to a silst of instructions, remmoving the word ADVERTISEMENT and replace \\n with space characters\n",
        "            instructions.append(\n",
        "                str(recipe[\"instructions\"]).replace(\n",
        "                    \" ADVERTISEMENT\", \"\").replace(\"\\n\", \" \"))\n",
        "df = pd.DataFrame.from_dict(\n",
        "    {\"source\": sources, \"title\": titles, \"ingredients\": ingredients, \n",
        "     \"instructions\": instructions})\n"
      ]
    },
    {
      "cell_type": "markdown",
      "source": [
        "## Part 3: Preprocess Data"
      ],
      "metadata": {
        "id": "wig6jX5Z_US9"
      }
    },
    {
      "cell_type": "code",
      "execution_count": 9,
      "metadata": {
        "colab": {
          "base_uri": "https://localhost:8080/",
          "height": 250
        },
        "id": "VZurJSc-8mb7",
        "outputId": "aa9047f7-56f8-42e3-eeb2-4e029a2f02af"
      },
      "outputs": [
        {
          "output_type": "execute_result",
          "data": {
            "text/plain": [
              "  source                              title  \\\n",
              "0     ar  Slow Cooker Chicken and Dumplings   \n",
              "1     ar      Awesome Slow Cooker Pot Roast   \n",
              "2     ar               Brown Sugar Meatloaf   \n",
              "3     ar        Best Chocolate Chip Cookies   \n",
              "4     ar  Homemade Mac and Cheese Casserole   \n",
              "\n",
              "                                         ingredients  \\\n",
              "0  [4 skinless, boneless chicken breast halves, 2...   \n",
              "1  [2 (10.75 ounce) cans condensed cream of mushr...   \n",
              "2  [1/2 cup packed brown sugar, 1/2 cup ketchup, ...   \n",
              "3  [1 cup butter, softened, 1 cup white sugar, 1 ...   \n",
              "4  [8 ounces whole wheat rotini pasta, 3 cups fre...   \n",
              "\n",
              "                                        instructions  \n",
              "0  Place the chicken, butter, soup, and onion in ...  \n",
              "1  In a slow cooker, mix cream of mushroom soup, ...  \n",
              "2  Preheat oven to 350 degrees F (175 degrees C)....  \n",
              "3  Preheat oven to 350 degrees F (175 degrees C)....  \n",
              "4  Preheat oven to 350 degrees F. Line a 2-quart ...  "
            ],
            "text/html": [
              "\n",
              "  <div id=\"df-53c41f3c-8715-4b56-aaba-3f977bb00cbc\">\n",
              "    <div class=\"colab-df-container\">\n",
              "      <div>\n",
              "<style scoped>\n",
              "    .dataframe tbody tr th:only-of-type {\n",
              "        vertical-align: middle;\n",
              "    }\n",
              "\n",
              "    .dataframe tbody tr th {\n",
              "        vertical-align: top;\n",
              "    }\n",
              "\n",
              "    .dataframe thead th {\n",
              "        text-align: right;\n",
              "    }\n",
              "</style>\n",
              "<table border=\"1\" class=\"dataframe\">\n",
              "  <thead>\n",
              "    <tr style=\"text-align: right;\">\n",
              "      <th></th>\n",
              "      <th>source</th>\n",
              "      <th>title</th>\n",
              "      <th>ingredients</th>\n",
              "      <th>instructions</th>\n",
              "    </tr>\n",
              "  </thead>\n",
              "  <tbody>\n",
              "    <tr>\n",
              "      <th>0</th>\n",
              "      <td>ar</td>\n",
              "      <td>Slow Cooker Chicken and Dumplings</td>\n",
              "      <td>[4 skinless, boneless chicken breast halves, 2...</td>\n",
              "      <td>Place the chicken, butter, soup, and onion in ...</td>\n",
              "    </tr>\n",
              "    <tr>\n",
              "      <th>1</th>\n",
              "      <td>ar</td>\n",
              "      <td>Awesome Slow Cooker Pot Roast</td>\n",
              "      <td>[2 (10.75 ounce) cans condensed cream of mushr...</td>\n",
              "      <td>In a slow cooker, mix cream of mushroom soup, ...</td>\n",
              "    </tr>\n",
              "    <tr>\n",
              "      <th>2</th>\n",
              "      <td>ar</td>\n",
              "      <td>Brown Sugar Meatloaf</td>\n",
              "      <td>[1/2 cup packed brown sugar, 1/2 cup ketchup, ...</td>\n",
              "      <td>Preheat oven to 350 degrees F (175 degrees C)....</td>\n",
              "    </tr>\n",
              "    <tr>\n",
              "      <th>3</th>\n",
              "      <td>ar</td>\n",
              "      <td>Best Chocolate Chip Cookies</td>\n",
              "      <td>[1 cup butter, softened, 1 cup white sugar, 1 ...</td>\n",
              "      <td>Preheat oven to 350 degrees F (175 degrees C)....</td>\n",
              "    </tr>\n",
              "    <tr>\n",
              "      <th>4</th>\n",
              "      <td>ar</td>\n",
              "      <td>Homemade Mac and Cheese Casserole</td>\n",
              "      <td>[8 ounces whole wheat rotini pasta, 3 cups fre...</td>\n",
              "      <td>Preheat oven to 350 degrees F. Line a 2-quart ...</td>\n",
              "    </tr>\n",
              "  </tbody>\n",
              "</table>\n",
              "</div>\n",
              "      <button class=\"colab-df-convert\" onclick=\"convertToInteractive('df-53c41f3c-8715-4b56-aaba-3f977bb00cbc')\"\n",
              "              title=\"Convert this dataframe to an interactive table.\"\n",
              "              style=\"display:none;\">\n",
              "        \n",
              "  <svg xmlns=\"http://www.w3.org/2000/svg\" height=\"24px\"viewBox=\"0 0 24 24\"\n",
              "       width=\"24px\">\n",
              "    <path d=\"M0 0h24v24H0V0z\" fill=\"none\"/>\n",
              "    <path d=\"M18.56 5.44l.94 2.06.94-2.06 2.06-.94-2.06-.94-.94-2.06-.94 2.06-2.06.94zm-11 1L8.5 8.5l.94-2.06 2.06-.94-2.06-.94L8.5 2.5l-.94 2.06-2.06.94zm10 10l.94 2.06.94-2.06 2.06-.94-2.06-.94-.94-2.06-.94 2.06-2.06.94z\"/><path d=\"M17.41 7.96l-1.37-1.37c-.4-.4-.92-.59-1.43-.59-.52 0-1.04.2-1.43.59L10.3 9.45l-7.72 7.72c-.78.78-.78 2.05 0 2.83L4 21.41c.39.39.9.59 1.41.59.51 0 1.02-.2 1.41-.59l7.78-7.78 2.81-2.81c.8-.78.8-2.07 0-2.86zM5.41 20L4 18.59l7.72-7.72 1.47 1.35L5.41 20z\"/>\n",
              "  </svg>\n",
              "      </button>\n",
              "      \n",
              "  <style>\n",
              "    .colab-df-container {\n",
              "      display:flex;\n",
              "      flex-wrap:wrap;\n",
              "      gap: 12px;\n",
              "    }\n",
              "\n",
              "    .colab-df-convert {\n",
              "      background-color: #E8F0FE;\n",
              "      border: none;\n",
              "      border-radius: 50%;\n",
              "      cursor: pointer;\n",
              "      display: none;\n",
              "      fill: #1967D2;\n",
              "      height: 32px;\n",
              "      padding: 0 0 0 0;\n",
              "      width: 32px;\n",
              "    }\n",
              "\n",
              "    .colab-df-convert:hover {\n",
              "      background-color: #E2EBFA;\n",
              "      box-shadow: 0px 1px 2px rgba(60, 64, 67, 0.3), 0px 1px 3px 1px rgba(60, 64, 67, 0.15);\n",
              "      fill: #174EA6;\n",
              "    }\n",
              "\n",
              "    [theme=dark] .colab-df-convert {\n",
              "      background-color: #3B4455;\n",
              "      fill: #D2E3FC;\n",
              "    }\n",
              "\n",
              "    [theme=dark] .colab-df-convert:hover {\n",
              "      background-color: #434B5C;\n",
              "      box-shadow: 0px 1px 3px 1px rgba(0, 0, 0, 0.15);\n",
              "      filter: drop-shadow(0px 1px 2px rgba(0, 0, 0, 0.3));\n",
              "      fill: #FFFFFF;\n",
              "    }\n",
              "  </style>\n",
              "\n",
              "      <script>\n",
              "        const buttonEl =\n",
              "          document.querySelector('#df-53c41f3c-8715-4b56-aaba-3f977bb00cbc button.colab-df-convert');\n",
              "        buttonEl.style.display =\n",
              "          google.colab.kernel.accessAllowed ? 'block' : 'none';\n",
              "\n",
              "        async function convertToInteractive(key) {\n",
              "          const element = document.querySelector('#df-53c41f3c-8715-4b56-aaba-3f977bb00cbc');\n",
              "          const dataTable =\n",
              "            await google.colab.kernel.invokeFunction('convertToInteractive',\n",
              "                                                     [key], {});\n",
              "          if (!dataTable) return;\n",
              "\n",
              "          const docLinkHtml = 'Like what you see? Visit the ' +\n",
              "            '<a target=\"_blank\" href=https://colab.research.google.com/notebooks/data_table.ipynb>data table notebook</a>'\n",
              "            + ' to learn more about interactive tables.';\n",
              "          element.innerHTML = '';\n",
              "          dataTable['output_type'] = 'display_data';\n",
              "          await google.colab.output.renderOutput(dataTable, element);\n",
              "          const docLink = document.createElement('div');\n",
              "          docLink.innerHTML = docLinkHtml;\n",
              "          element.appendChild(docLink);\n",
              "        }\n",
              "      </script>\n",
              "    </div>\n",
              "  </div>\n",
              "  "
            ]
          },
          "metadata": {},
          "execution_count": 9
        }
      ],
      "source": [
        "df.head()"
      ]
    },
    {
      "cell_type": "code",
      "execution_count": 10,
      "metadata": {
        "colab": {
          "base_uri": "https://localhost:8080/"
        },
        "id": "JU3WWgVr8mb8",
        "outputId": "be015795-5a12-4c06-e7d4-3f4a7e851bdc"
      },
      "outputs": [
        {
          "output_type": "execute_result",
          "data": {
            "text/plain": [
              "(124647, 4)"
            ]
          },
          "metadata": {},
          "execution_count": 10
        }
      ],
      "source": [
        "df.shape"
      ]
    },
    {
      "cell_type": "code",
      "execution_count": 11,
      "metadata": {
        "colab": {
          "base_uri": "https://localhost:8080/"
        },
        "id": "GCiEYYJ18mb8",
        "outputId": "c62d3118-f7ca-4148-a5dd-865f11d6a320"
      },
      "outputs": [
        {
          "output_type": "execute_result",
          "data": {
            "text/plain": [
              "fn     59802\n",
              "ar     39522\n",
              "epi    25323\n",
              "Name: source, dtype: int64"
            ]
          },
          "metadata": {},
          "execution_count": 11
        }
      ],
      "source": [
        "df[\"source\"].value_counts()"
      ]
    },
    {
      "cell_type": "code",
      "execution_count": 20,
      "metadata": {
        "id": "SVJyYhR08mb8"
      },
      "outputs": [],
      "source": [
        "units_remove = [\n",
        "    'tablespoon', 'teaspoon', 'tsp', 'tbsp', 'pound', 'gram', 'mg', 'ounce', \n",
        "    'kg', 'cup']\n",
        "units_remove = units_remove + [u + \"s\" for u in units_remove]\n",
        "units_remove = units_remove + ['crushed', 'chopped', 'finely', 'softened']\n",
        "\n",
        "translation_table = str.maketrans('', '', string.punctuation + string.digits)"
      ]
    },
    {
      "cell_type": "code",
      "execution_count": 22,
      "metadata": {
        "id": "OAYos8E58mb8"
      },
      "outputs": [],
      "source": [
        "def preprocess(items: List[str]) -> List[List[str]]:\n",
        "  res = []\n",
        "  for item in items:\n",
        "    temp = item.lower().replace('-', ' ')\n",
        "    temp = temp.translate(translation_table)\n",
        "    temp = remove_stopwords(temp)\n",
        "    for stop_word in units_remove:\n",
        "      temp = temp.replace(stop_word, '')\n",
        "    res.append(temp.split())\n",
        "  return res"
      ]
    },
    {
      "cell_type": "code",
      "execution_count": 18,
      "metadata": {
        "id": "CDS64HJN8mb8"
      },
      "outputs": [],
      "source": [
        "instructions = df.instructions.to_list()\n",
        "ingredients = [\n",
        "    ', '.join(ingredient_list) for ingredient_list in df.ingredients.to_list()]"
      ]
    },
    {
      "cell_type": "code",
      "source": [
        "train_data = preprocess(instructions + ingredients)"
      ],
      "metadata": {
        "id": "Q3PwHtTJNSSA"
      },
      "execution_count": 23,
      "outputs": []
    },
    {
      "cell_type": "code",
      "source": [
        "len(train_data)"
      ],
      "metadata": {
        "colab": {
          "base_uri": "https://localhost:8080/"
        },
        "id": "_o2qlxObiwtg",
        "outputId": "e8d3dadf-0862-413a-b83b-c34ca3e6a000"
      },
      "execution_count": 87,
      "outputs": [
        {
          "output_type": "execute_result",
          "data": {
            "text/plain": [
              "249294"
            ]
          },
          "metadata": {},
          "execution_count": 87
        }
      ]
    },
    {
      "cell_type": "code",
      "source": [
        "len(train_data[0])"
      ],
      "metadata": {
        "colab": {
          "base_uri": "https://localhost:8080/"
        },
        "id": "FccAWdhqi15C",
        "outputId": "632cc3db-61ee-4785-b5c3-eb814e03e2ee"
      },
      "execution_count": 88,
      "outputs": [
        {
          "output_type": "execute_result",
          "data": {
            "text/plain": [
              "26"
            ]
          },
          "metadata": {},
          "execution_count": 88
        }
      ]
    },
    {
      "cell_type": "markdown",
      "source": [
        "## Part 4: Word2Vec with Gensim\n",
        "Word2Vec original papers can be found [here](https://arxiv.org/pdf/1301.3781.pdf) and [here](https://arxiv.org/pdf/1310.4546.pdf), while the documentation for the Gensim model can be found [here](https://radimrehurek.com/gensim/models/word2vec.html).\n",
        "\n",
        "\"The **CBOW [Continuous Bag of Words] model** tries to understand the context of the words and takes this as input. It then tries to predict words that are contextually accurate. \" - [AIM](https://analyticsindiamag.com/the-continuous-bag-of-words-cbow-model-in-nlp-hands-on-implementation-with-codes/)\n",
        "\n",
        "\"The **Skip-gram model** architecture usually tries to achieve the reverse of what the CBOW model does. It tries to predict the source context words (surrounding words) given a target word (the center word).\" - [KDnuggets](https://www.kdnuggets.com/2018/04/implementing-deep-learning-methods-feature-engineering-text-data-skip-gram.html)"
      ],
      "metadata": {
        "id": "9cc29tgNROQ-"
      }
    },
    {
      "cell_type": "code",
      "source": [
        "model = Word2Vec()"
      ],
      "metadata": {
        "id": "CW6iPrWpMqPO"
      },
      "execution_count": 37,
      "outputs": []
    },
    {
      "cell_type": "code",
      "source": [
        "# to get help uncomment:\n",
        "# model?"
      ],
      "metadata": {
        "id": "N1rV2TtnTKhs"
      },
      "execution_count": 38,
      "outputs": []
    },
    {
      "cell_type": "code",
      "source": [
        "model.build_vocab(train_data)"
      ],
      "metadata": {
        "id": "1fBsGONKTKkD"
      },
      "execution_count": 39,
      "outputs": []
    },
    {
      "cell_type": "code",
      "source": [
        "# default epochs is 10\n",
        "\n",
        "%%time\n",
        "model.train(\n",
        "    train_data, total_examples=model.corpus_count, epochs=model.epochs)"
      ],
      "metadata": {
        "colab": {
          "base_uri": "https://localhost:8080/"
        },
        "id": "wuZXT-teTKm4",
        "outputId": "240cff02-4cec-40d5-adb9-e9278aadf568"
      },
      "execution_count": 40,
      "outputs": [
        {
          "output_type": "stream",
          "name": "stdout",
          "text": [
            "CPU times: user 3min 3s, sys: 775 ms, total: 3min 4s\n",
            "Wall time: 2min 1s\n"
          ]
        },
        {
          "output_type": "execute_result",
          "data": {
            "text/plain": [
              "(68036017, 81952845)"
            ]
          },
          "metadata": {},
          "execution_count": 40
        }
      ]
    },
    {
      "cell_type": "code",
      "source": [
        "model.wv.most_similar([\"salad\"], topn=10)"
      ],
      "metadata": {
        "colab": {
          "base_uri": "https://localhost:8080/"
        },
        "id": "AZt0DnPWMp-T",
        "outputId": "8699c01a-849e-495e-d06b-5e831bd3d024"
      },
      "execution_count": 45,
      "outputs": [
        {
          "output_type": "execute_result",
          "data": {
            "text/plain": [
              "[('dressing', 0.769506573677063),\n",
              " ('mesclun', 0.7498100996017456),\n",
              " ('vinaigrette', 0.7318605780601501),\n",
              " ('slaw', 0.7050743103027344),\n",
              " ('mizuna', 0.6951844096183777),\n",
              " ('lettuces', 0.6801778078079224),\n",
              " ('caesar', 0.673966646194458),\n",
              " ('dressed', 0.6735103130340576),\n",
              " ('salads', 0.6718811392784119),\n",
              " ('frisée', 0.669464111328125)]"
            ]
          },
          "metadata": {},
          "execution_count": 45
        }
      ]
    },
    {
      "cell_type": "code",
      "source": [
        "model.wv.most_similar([\"salad\", \"chicken\"], topn=10)"
      ],
      "metadata": {
        "colab": {
          "base_uri": "https://localhost:8080/"
        },
        "id": "t1ojOOvlUImA",
        "outputId": "f1b193cf-0d1c-4743-b66b-1a822d7b5c87"
      },
      "execution_count": 46,
      "outputs": [
        {
          "output_type": "execute_result",
          "data": {
            "text/plain": [
              "[('pheasant', 0.6032891869544983),\n",
              " ('dressing', 0.6020070314407349),\n",
              " ('slaw', 0.533129870891571),\n",
              " ('vinaigrette', 0.5217583775520325),\n",
              " ('caesar', 0.519704282283783),\n",
              " ('turkey', 0.5124456286430359),\n",
              " ('romaine', 0.5089423656463623),\n",
              " ('mesclun', 0.507909893989563),\n",
              " ('lettuces', 0.5052557587623596),\n",
              " ('thousand', 0.5011932253837585)]"
            ]
          },
          "metadata": {},
          "execution_count": 46
        }
      ]
    },
    {
      "cell_type": "code",
      "source": [
        "model.wv.most_similar([\"orange\"], topn=3)"
      ],
      "metadata": {
        "colab": {
          "base_uri": "https://localhost:8080/"
        },
        "id": "5EAJqaJgUNc9",
        "outputId": "4d6ebd86-da4d-4d93-8a37-3d9aafef6d0a"
      },
      "execution_count": 47,
      "outputs": [
        {
          "output_type": "execute_result",
          "data": {
            "text/plain": [
              "[('tangerine', 0.870799720287323),\n",
              " ('lemon', 0.836215615272522),\n",
              " ('lime', 0.7355307936668396)]"
            ]
          },
          "metadata": {},
          "execution_count": 47
        }
      ]
    },
    {
      "cell_type": "markdown",
      "source": [
        "## Part 5: Explore Results"
      ],
      "metadata": {
        "id": "zTtznk7iV9UT"
      }
    },
    {
      "cell_type": "code",
      "source": [
        "with open(\"items_for_sale.txt\", \"r\") as f:\n",
        "  items_for_sale = f.read().split(\"\\n\")"
      ],
      "metadata": {
        "id": "sePG4tQaUNjv"
      },
      "execution_count": 49,
      "outputs": []
    },
    {
      "cell_type": "code",
      "source": [
        "items_for_sale[:3]"
      ],
      "metadata": {
        "colab": {
          "base_uri": "https://localhost:8080/"
        },
        "id": "kBIU56bTWDrU",
        "outputId": "c2f9855a-2ecd-4691-a1ff-58bc6529f67b"
      },
      "execution_count": 50,
      "outputs": [
        {
          "output_type": "execute_result",
          "data": {
            "text/plain": [
              "['salt', 'pepper', 'fresh']"
            ]
          },
          "metadata": {},
          "execution_count": 50
        }
      ]
    },
    {
      "cell_type": "code",
      "source": [
        "len(items_for_sale)"
      ],
      "metadata": {
        "colab": {
          "base_uri": "https://localhost:8080/"
        },
        "id": "GGopLUa8YTXC",
        "outputId": "5835940c-7611-49d4-b4d3-5b83c892a683"
      },
      "execution_count": 54,
      "outputs": [
        {
          "output_type": "execute_result",
          "data": {
            "text/plain": [
              "911"
            ]
          },
          "metadata": {},
          "execution_count": 54
        }
      ]
    },
    {
      "cell_type": "code",
      "source": [
        "words, vectors = [], []\n",
        "for item in items_for_sale:\n",
        "  try:\n",
        "    vectors.append(model.wv.get_vector(item))\n",
        "    words.append(item)\n",
        "  except KeyError:\n",
        "    print(f\"Word {item} not found in vocab\")\n"
      ],
      "metadata": {
        "id": "7hi16tUbWDuJ"
      },
      "execution_count": 52,
      "outputs": []
    },
    {
      "cell_type": "code",
      "source": [
        "vectors[0]"
      ],
      "metadata": {
        "colab": {
          "base_uri": "https://localhost:8080/"
        },
        "id": "jSi3zvlvYRI2",
        "outputId": "ea24fc06-63be-42ad-9a09-17d352371ada"
      },
      "execution_count": 53,
      "outputs": [
        {
          "output_type": "execute_result",
          "data": {
            "text/plain": [
              "array([-1.2531586 ,  3.4913213 , -2.9554653 ,  1.1076771 , -0.95653254,\n",
              "        2.7706892 , -1.7626681 , -2.218332  ,  1.9955722 , -0.81811404,\n",
              "        0.83783835, -1.5925776 , -0.48210704, -1.0372424 ,  0.6375832 ,\n",
              "       -1.7859305 ,  2.6218038 ,  3.836935  ,  1.3076773 ,  0.8129402 ,\n",
              "       -3.300386  , -0.5605042 , -1.9268923 , -2.6914608 , -2.3466427 ,\n",
              "       -3.2850907 ,  1.8880697 ,  0.66722625,  0.06738486, -1.9908646 ,\n",
              "       -1.6907972 ,  0.25453392, -3.0886242 , -0.26567405,  1.5179183 ,\n",
              "       -1.5886363 , -0.16113587,  2.5807433 ,  4.321326  , -1.1911223 ,\n",
              "        0.45109117, -0.92972946,  1.7479472 ,  2.6590295 , -2.529971  ,\n",
              "        2.6149747 ,  3.1669414 , -1.2182426 ,  2.5591533 , -0.03203814,\n",
              "       -0.31041506,  1.801805  , -4.5375357 , -3.3036437 ,  0.38811684,\n",
              "       -3.347414  , -0.91719216, -2.641104  , -1.5522771 ,  0.20942934,\n",
              "        2.7568126 , -0.09487677, -0.1449638 , -0.8463443 ,  0.1014962 ,\n",
              "        2.7401526 ,  2.8452415 ,  0.2159375 , -1.044043  ,  0.42452186,\n",
              "        0.96475405,  0.746778  , -2.9016342 ,  0.06765272,  1.89619   ,\n",
              "        2.395543  ,  1.6424246 , -1.3325001 , -2.2066302 ,  0.05279093,\n",
              "        3.2529814 ,  1.8502731 , -2.8536532 , -3.3671489 , -1.2349933 ,\n",
              "       -1.6109251 , -4.7253966 , -3.5100973 , -4.2271323 , -1.3716564 ,\n",
              "        1.070173  , -2.2914493 , -3.2697663 ,  0.45057678, -0.13927166,\n",
              "       -0.3055463 ,  0.12888698,  4.373237  ,  0.17097051,  1.3546402 ],\n",
              "      dtype=float32)"
            ]
          },
          "metadata": {},
          "execution_count": 53
        }
      ]
    },
    {
      "cell_type": "code",
      "source": [
        "sims_mat = cosine_similarity(vectors, vectors)"
      ],
      "metadata": {
        "id": "27y3u59KWDxE"
      },
      "execution_count": 56,
      "outputs": []
    },
    {
      "cell_type": "code",
      "source": [
        "sims_mat.shape"
      ],
      "metadata": {
        "colab": {
          "base_uri": "https://localhost:8080/"
        },
        "id": "WK866SCEWDzY",
        "outputId": "55b4fe52-714b-49ee-ac87-f713e0061839"
      },
      "execution_count": 57,
      "outputs": [
        {
          "output_type": "execute_result",
          "data": {
            "text/plain": [
              "(911, 911)"
            ]
          },
          "metadata": {},
          "execution_count": 57
        }
      ]
    },
    {
      "cell_type": "code",
      "source": [
        "# remove duplicates and diagonal\n",
        "for i in range(len(vectors)):\n",
        "  sims_mat[i, list(range(i + 1))] = False"
      ],
      "metadata": {
        "id": "wAy4EhavWD2O"
      },
      "execution_count": 66,
      "outputs": []
    },
    {
      "cell_type": "code",
      "source": [
        "k = 15\n",
        "indices = list(range(len(vectors)))"
      ],
      "metadata": {
        "id": "RWLHsl78WD5F"
      },
      "execution_count": 60,
      "outputs": []
    },
    {
      "cell_type": "code",
      "source": [
        "random.shuffle(indices)"
      ],
      "metadata": {
        "id": "8f6EBeiVWD8n"
      },
      "execution_count": 61,
      "outputs": []
    },
    {
      "cell_type": "code",
      "source": [
        "indices = indices[:k]"
      ],
      "metadata": {
        "id": "wA-n3nfDa_eW"
      },
      "execution_count": 62,
      "outputs": []
    },
    {
      "cell_type": "code",
      "source": [
        "small_vectors = [vectors[i] for i in indices]\n",
        "small_words = [words[i] for i in indices]"
      ],
      "metadata": {
        "id": "ui7Eknaha_hc"
      },
      "execution_count": 67,
      "outputs": []
    },
    {
      "cell_type": "code",
      "source": [
        "small_sims = cosine_similarity(small_vectors)"
      ],
      "metadata": {
        "id": "E2djiZmha_kC"
      },
      "execution_count": 68,
      "outputs": []
    },
    {
      "cell_type": "code",
      "source": [
        "# set diagonal to 0:\n",
        "for x in range(len(small_vectors)):\n",
        "  small_sims[x, x] = 0"
      ],
      "metadata": {
        "id": "3eZtjXJva_m8"
      },
      "execution_count": 69,
      "outputs": []
    },
    {
      "cell_type": "code",
      "source": [
        "# adapted from https://matplotlib.org/3.1.1/gallery/images_contours_and_fields/image_annotated_heatmap.html\n",
        "\n",
        "fig, ax = plt.subplots()\n",
        "im = ax.imshow(small_sims)\n",
        "\n",
        "ax.set_xticks(np.arange(len(small_vectors)))\n",
        "ax.set_yticks(np.arange(len(small_vectors)))\n",
        "\n",
        "ax.set_xticklabels(small_words)\n",
        "ax.set_yticklabels(small_words)\n",
        "ax.grid(False)\n",
        "\n",
        "plt.setp(ax.get_xticklabels(), rotation=90)\n",
        "\n",
        "fig.tight_layout()\n",
        "plt.show()"
      ],
      "metadata": {
        "colab": {
          "base_uri": "https://localhost:8080/",
          "height": 472
        },
        "id": "BdTvCMGKa_pR",
        "outputId": "92dd3572-a675-4fc2-f7a3-23e6b034f255"
      },
      "execution_count": 71,
      "outputs": [
        {
          "output_type": "display_data",
          "data": {
            "text/plain": [
              "<Figure size 640x480 with 1 Axes>"
            ],
            "image/svg+xml": "<?xml version=\"1.0\" encoding=\"utf-8\" standalone=\"no\"?>\n<!DOCTYPE svg PUBLIC \"-//W3C//DTD SVG 1.1//EN\"\n  \"http://www.w3.org/Graphics/SVG/1.1/DTD/svg11.dtd\">\n<svg xmlns:xlink=\"http://www.w3.org/1999/xlink\" width=\"338.286875pt\" height=\"338.286875pt\" viewBox=\"0 0 338.286875 338.286875\" xmlns=\"http://www.w3.org/2000/svg\" version=\"1.1\">\n <metadata>\n  <rdf:RDF xmlns:dc=\"http://purl.org/dc/elements/1.1/\" xmlns:cc=\"http://creativecommons.org/ns#\" xmlns:rdf=\"http://www.w3.org/1999/02/22-rdf-syntax-ns#\">\n   <cc:Work>\n    <dc:type rdf:resource=\"http://purl.org/dc/dcmitype/StillImage\"/>\n    <dc:date>2023-04-27T20:50:10.421531</dc:date>\n    <dc:format>image/svg+xml</dc:format>\n    <dc:creator>\n     <cc:Agent>\n      <dc:title>Matplotlib v3.7.1, https://matplotlib.org/</dc:title>\n     </cc:Agent>\n    </dc:creator>\n   </cc:Work>\n  </rdf:RDF>\n </metadata>\n <defs>\n  <style type=\"text/css\">*{stroke-linejoin: round; stroke-linecap: butt}</style>\n </defs>\n <g id=\"figure_1\">\n  <g id=\"patch_1\">\n   <path d=\"M 0 338.286875 \nL 338.286875 338.286875 \nL 338.286875 0 \nL 0 0 \nz\n\" style=\"fill: #ffffff\"/>\n  </g>\n  <g id=\"axes_1\">\n   <g id=\"patch_2\">\n    <path d=\"M 86.896875 251.39 \nL 331.086875 251.39 \nL 331.086875 7.2 \nL 86.896875 7.2 \nz\n\" style=\"fill: #e5e5e5\"/>\n   </g>\n   <g clip-path=\"url(#p20f5ad0c3f)\">\n    <image xlink:href=\"data:image/png;base64,\niVBORw0KGgoAAAANSUhEUgAAAVQAAAFUCAYAAAB7ksS1AAAKBUlEQVR4nO3dy4/dBRnG8fd0zsz0MjNtmaGUcikUaEWMFsEmgAuCmCCwICExMRoTvDVBYwwxJigrN5goG4Maw8K4IhKIBI2SGC9BQAKkFoRAgUKgcms7lHZmSqcz0/pPPO/Kz+cPeHLymzPf89u9g2v/esfpanLw0XNbdtdf/17LblXVxF1r27YPXjnZsjv11nLLblXV+J+eadt+/7tXt+zeeNvjLbtVVbNL69q2F5bHW3affHZHy25V1br/jrRtz2/r+V5PvjJs2a2qWtW2DPB/RlABQgQVIERQAUIEFSBEUAFCBBUgRFABQgQVIERQAUIEFSBEUAFCBBUgRFABQgQVIERQAUIEFSBEUAFCBBUgRFABQgQVIERQAUIGV9x2T9sZ6flzBy27p8baPnKdGm2brvEjPc9jcWPf8xicapuu6f/0fO5Vy33P491rev6GVVVnP9HzuR//+a9bdquqtv1+d9v2xP6eE9Vz2/vOrntDBQgRVIAQQQUIEVSAEEEFCBFUgBBBBQgRVIAQQQUIEVSAEEEFCBFUgBBBBQgRVIAQQQUIEVSAEEEFCBFUgBBBBQgRVIAQQQUIGX5wWd/42LGe3clPz/YMV9Xc8fG27ZXnJlt2l87ou+J43gWH27bXPri2ZffQrqmW3aqq6e2dz2Ndy+6Ff/xmy25V1WTTZdKqqvmLVlp2J14ftuxWeUMFiBFUgBBBBQgRVIAQQQUIEVSAEEEFCBFUgBBBBQgRVIAQQQUIEVSAEEEFCBFUgBBBBQgRVIAQQQUIEVSAEEEFCBFUgBBBBQgRVICQ4cpU3wniuvCjltn5p2dadquqlrb3fOaqqs2v9JzFPbmx75TvO4c3tG1v3djze35y/aBlt6pq+Ocz27Yn7n61ZXfy4Utadquq5j621Lb9xs33texue3B3y26VN1SAGEEFCBFUgBBBBQgRVIAQQQUIEVSAEEEFCBFUgBBBBQgRVIAQQQUIEVSAEEEFCBFUgBBBBQgRVIAQQQUIEVSAEEEFCBFUgBBBBQgZ3PrE7tNd4y88uqNld3HmVMtuVdXpYdvjqC1/79k9trXvjPTEO33P+uREz7nnK761t2W3qmrPr3a2bS9u7HkeF9/Sc566qmr+znPato+fPd6ye8Ed+1p2q7yhAsQIKkCIoAKECCpAiKAChAgqQIigAoQIKkCIoAKECCpAiKAChAgqQIigAoQIKkCIoAKECCpAiKAChAgqQIigAoQIKkCIoAKEDPc91HOZtKpq9YmeC6L3fe2XLbtVVXfdvrtt+8Dnhi27Z+7pu0w6d37fb+7C1pWW3X++dVHLblXVsOkyaVXV+JGe/5c3HrikZbeqavSHh9q2Z19Z3bJ72XCxZbfKGypAjKAChAgqQIigAoQIKkCIoAKECCpAiKAChAgqQIigAoQIKkCIoAKECCpAiKAChAgqQIigAoQIKkCIoAKECCpAiKAChAgqQIigAoQMl9b2jY992LN7/+xVPcNVdWLjSNv2xktnW3bnD8207FZVrTnYc9q4qmp5Tc+zHu6fatmtqlq++ljb9lXn72/ZffLBy1t2q6pWPdL33Tt7tuc8+vS1Cy27Vd5QAWIEFSBEUAFCBBUgRFABQgQVIERQAUIEFSBEUAFCBBUgRFABQgQVIERQAUIEFSBEUAFCBBUgRFABQgQVIERQAUIEFSBEUAFCBBUgZHD5N+5puxN8dHvP7qqTPbtVVRtf7jubvGZ2pWX34OWjLbtVVWc9s9i2ffiT4y27S5Mts1VVtbip529YVXXGv3veb9a/3vcPM3rkRNv2sR09f8jjm/reI72hAoQIKkCIoAKECCpAiKAChAgqQIigAoQIKkCIoAKECCpAiKAChAgqQIigAoQIKkCIoAKECCpAiKAChAgqQIigAoQIKkCIoAKEDMcW+q58bvrUwZbdpfvPatmtqnrg7p+1bd907w9adnd84dWW3aqq1xYvadueeb7nour8uWMtu1VVw49G2rbH5k+17L759Z7dqqotM8fbtmefnWrZveBHT7bsVnlDBYgRVIAQQQUIEVSAEEEFCBFUgBBBBQgRVIAQQQUIEVSAEEEFCBFUgBBBBQgRVIAQQQUIEVSAEEEFCBFUgBBBBQgRVIAQQQUIEVSAkOHpQd/4ob09556Xr1lu2a2q+sXsZ9u257f1fO7XHu479XzxLX0nqveN93zuVSsts1VVNXGg7yTz/Jam95t3x3t2q+rA/Ezb9mjT41i88TM9w+UNFSBGUAFCBBUgRFABQgQVIERQAUIEFSBEUAFCBBUgRFABQgQVIERQAUIEFSBEUAFCBBUgRFABQgQVIERQAUIEFSBEUAFCBBUgRFABQgbn/+Ynp7vG1+8da9mduundlt2qqnde6Dl9XVW19u2e36+57X1ntSdeH7Ztzzy/1LI7/52jLbtVVUdemm7b3vxUz4nq042vTUe2j7Rtj/R8PWr0WFvyvKECpAgqQIigAoQIKkCIoAKECCpAiKAChAgqQIigAoQIKkCIoAKECCpAiKAChAgqQIigAoQIKkCIoAKECCpAiKAChAgqQIigAoQMrv/b99pOAF664b2W3T88dmXLblXVugN9vzHHz+m5annrdU+17FZVfXv68bbtL975/ZbdQc9jrqqq1UdW2rbfvLnnuzfYcLJlt6pqdKzv4u6p/RMtu9semmvZrfKGChAjqAAhggoQIqgAIYIKECKoACGCChAiqAAhggoQIqgAIYIKECKoACGCChAiqAAhggoQIqgAIYIKECKoACGCChAiqAAhggoQIqgAIYOt9/607Yz0xBsjXdNtFs7ru0F8zsffb9k98OZMy25V1ZlPDNu2j17cs/v5G/b0DFfVl6b/1bb91Udub9kd+6DvvWli1+G27bk90y27M7t6/g+rvKECxAgqQIigAoQIKkCIoAKECCpAiKAChAgqQIigAoQIKkCIoAKECCpAiKAChAgqQIigAoQIKkCIoAKECCpAiKAChAgqQIigAoQIKkDI4KLf/bjtjPTqpye6pttc9+Wn27b/8dtdLbsLW9r+hLVpZ9/J3YPPndWyu+HlltmqqlpZ3bd9YnrQM7zzWM9uVdVzU33bTV/rkRM9u1XeUAFiBBUgRFABQgQVIERQAUIEFSBEUAFCBBUgRFABQgQVIERQAUIEFSBEUAFCBBUgRFABQgQVIERQAUIEFSBEUAFCBBUgRFABQoadl0lP7Jpv2V0+tKZlt6rqpQ83t20f3XmyZXfzX4Ytu1VVp/duattev65nd2FL0/XQqho93jZdn7hhX8vuMy9ua9mtqhqZ6ru4e8aLPbuTX3m7Z7i8oQLECCpAiKAChAgqQIigAoQIKkCIoAKECCpAiKAChAgqQIigAoQIKkCIoAKECCpAiKAChAgqQIigAoQIKkCIoAKECCpAiKAChAgqQMj/ANTARZjH4FzSAAAAAElFTkSuQmCC\" id=\"imagefbc870f747\" transform=\"scale(1 -1) translate(0 -244.8)\" x=\"86.896875\" y=\"-6.59\" width=\"244.8\" height=\"244.8\"/>\n   </g>\n   <g id=\"matplotlib.axis_1\">\n    <g id=\"xtick_1\">\n     <g id=\"line2d_1\">\n      <defs>\n       <path id=\"ma4fac5a82f\" d=\"M 0 0 \nL 0 3.5 \n\" style=\"stroke: #555555; stroke-width: 0.8\"/>\n      </defs>\n      <g>\n       <use xlink:href=\"#ma4fac5a82f\" x=\"95.036542\" y=\"251.39\" style=\"fill: #555555; stroke: #555555; stroke-width: 0.8\"/>\n      </g>\n     </g>\n     <g id=\"text_1\">\n      <!-- pomegranates -->\n      <g style=\"fill: #555555\" transform=\"translate(97.795917 331.086875) rotate(-90) scale(0.1 -0.1)\">\n       <defs>\n        <path id=\"DejaVuSans-70\" d=\"M 1159 525 \nL 1159 -1331 \nL 581 -1331 \nL 581 3500 \nL 1159 3500 \nL 1159 2969 \nQ 1341 3281 1617 3432 \nQ 1894 3584 2278 3584 \nQ 2916 3584 3314 3078 \nQ 3713 2572 3713 1747 \nQ 3713 922 3314 415 \nQ 2916 -91 2278 -91 \nQ 1894 -91 1617 61 \nQ 1341 213 1159 525 \nz\nM 3116 1747 \nQ 3116 2381 2855 2742 \nQ 2594 3103 2138 3103 \nQ 1681 3103 1420 2742 \nQ 1159 2381 1159 1747 \nQ 1159 1113 1420 752 \nQ 1681 391 2138 391 \nQ 2594 391 2855 752 \nQ 3116 1113 3116 1747 \nz\n\" transform=\"scale(0.015625)\"/>\n        <path id=\"DejaVuSans-6f\" d=\"M 1959 3097 \nQ 1497 3097 1228 2736 \nQ 959 2375 959 1747 \nQ 959 1119 1226 758 \nQ 1494 397 1959 397 \nQ 2419 397 2687 759 \nQ 2956 1122 2956 1747 \nQ 2956 2369 2687 2733 \nQ 2419 3097 1959 3097 \nz\nM 1959 3584 \nQ 2709 3584 3137 3096 \nQ 3566 2609 3566 1747 \nQ 3566 888 3137 398 \nQ 2709 -91 1959 -91 \nQ 1206 -91 779 398 \nQ 353 888 353 1747 \nQ 353 2609 779 3096 \nQ 1206 3584 1959 3584 \nz\n\" transform=\"scale(0.015625)\"/>\n        <path id=\"DejaVuSans-6d\" d=\"M 3328 2828 \nQ 3544 3216 3844 3400 \nQ 4144 3584 4550 3584 \nQ 5097 3584 5394 3201 \nQ 5691 2819 5691 2113 \nL 5691 0 \nL 5113 0 \nL 5113 2094 \nQ 5113 2597 4934 2840 \nQ 4756 3084 4391 3084 \nQ 3944 3084 3684 2787 \nQ 3425 2491 3425 1978 \nL 3425 0 \nL 2847 0 \nL 2847 2094 \nQ 2847 2600 2669 2842 \nQ 2491 3084 2119 3084 \nQ 1678 3084 1418 2786 \nQ 1159 2488 1159 1978 \nL 1159 0 \nL 581 0 \nL 581 3500 \nL 1159 3500 \nL 1159 2956 \nQ 1356 3278 1631 3431 \nQ 1906 3584 2284 3584 \nQ 2666 3584 2933 3390 \nQ 3200 3197 3328 2828 \nz\n\" transform=\"scale(0.015625)\"/>\n        <path id=\"DejaVuSans-65\" d=\"M 3597 1894 \nL 3597 1613 \nL 953 1613 \nQ 991 1019 1311 708 \nQ 1631 397 2203 397 \nQ 2534 397 2845 478 \nQ 3156 559 3463 722 \nL 3463 178 \nQ 3153 47 2828 -22 \nQ 2503 -91 2169 -91 \nQ 1331 -91 842 396 \nQ 353 884 353 1716 \nQ 353 2575 817 3079 \nQ 1281 3584 2069 3584 \nQ 2775 3584 3186 3129 \nQ 3597 2675 3597 1894 \nz\nM 3022 2063 \nQ 3016 2534 2758 2815 \nQ 2500 3097 2075 3097 \nQ 1594 3097 1305 2825 \nQ 1016 2553 972 2059 \nL 3022 2063 \nz\n\" transform=\"scale(0.015625)\"/>\n        <path id=\"DejaVuSans-67\" d=\"M 2906 1791 \nQ 2906 2416 2648 2759 \nQ 2391 3103 1925 3103 \nQ 1463 3103 1205 2759 \nQ 947 2416 947 1791 \nQ 947 1169 1205 825 \nQ 1463 481 1925 481 \nQ 2391 481 2648 825 \nQ 2906 1169 2906 1791 \nz\nM 3481 434 \nQ 3481 -459 3084 -895 \nQ 2688 -1331 1869 -1331 \nQ 1566 -1331 1297 -1286 \nQ 1028 -1241 775 -1147 \nL 775 -588 \nQ 1028 -725 1275 -790 \nQ 1522 -856 1778 -856 \nQ 2344 -856 2625 -561 \nQ 2906 -266 2906 331 \nL 2906 616 \nQ 2728 306 2450 153 \nQ 2172 0 1784 0 \nQ 1141 0 747 490 \nQ 353 981 353 1791 \nQ 353 2603 747 3093 \nQ 1141 3584 1784 3584 \nQ 2172 3584 2450 3431 \nQ 2728 3278 2906 2969 \nL 2906 3500 \nL 3481 3500 \nL 3481 434 \nz\n\" transform=\"scale(0.015625)\"/>\n        <path id=\"DejaVuSans-72\" d=\"M 2631 2963 \nQ 2534 3019 2420 3045 \nQ 2306 3072 2169 3072 \nQ 1681 3072 1420 2755 \nQ 1159 2438 1159 1844 \nL 1159 0 \nL 581 0 \nL 581 3500 \nL 1159 3500 \nL 1159 2956 \nQ 1341 3275 1631 3429 \nQ 1922 3584 2338 3584 \nQ 2397 3584 2469 3576 \nQ 2541 3569 2628 3553 \nL 2631 2963 \nz\n\" transform=\"scale(0.015625)\"/>\n        <path id=\"DejaVuSans-61\" d=\"M 2194 1759 \nQ 1497 1759 1228 1600 \nQ 959 1441 959 1056 \nQ 959 750 1161 570 \nQ 1363 391 1709 391 \nQ 2188 391 2477 730 \nQ 2766 1069 2766 1631 \nL 2766 1759 \nL 2194 1759 \nz\nM 3341 1997 \nL 3341 0 \nL 2766 0 \nL 2766 531 \nQ 2569 213 2275 61 \nQ 1981 -91 1556 -91 \nQ 1019 -91 701 211 \nQ 384 513 384 1019 \nQ 384 1609 779 1909 \nQ 1175 2209 1959 2209 \nL 2766 2209 \nL 2766 2266 \nQ 2766 2663 2505 2880 \nQ 2244 3097 1772 3097 \nQ 1472 3097 1187 3025 \nQ 903 2953 641 2809 \nL 641 3341 \nQ 956 3463 1253 3523 \nQ 1550 3584 1831 3584 \nQ 2591 3584 2966 3190 \nQ 3341 2797 3341 1997 \nz\n\" transform=\"scale(0.015625)\"/>\n        <path id=\"DejaVuSans-6e\" d=\"M 3513 2113 \nL 3513 0 \nL 2938 0 \nL 2938 2094 \nQ 2938 2591 2744 2837 \nQ 2550 3084 2163 3084 \nQ 1697 3084 1428 2787 \nQ 1159 2491 1159 1978 \nL 1159 0 \nL 581 0 \nL 581 3500 \nL 1159 3500 \nL 1159 2956 \nQ 1366 3272 1645 3428 \nQ 1925 3584 2291 3584 \nQ 2894 3584 3203 3211 \nQ 3513 2838 3513 2113 \nz\n\" transform=\"scale(0.015625)\"/>\n        <path id=\"DejaVuSans-74\" d=\"M 1172 4494 \nL 1172 3500 \nL 2356 3500 \nL 2356 3053 \nL 1172 3053 \nL 1172 1153 \nQ 1172 725 1289 603 \nQ 1406 481 1766 481 \nL 2356 481 \nL 2356 0 \nL 1766 0 \nQ 1100 0 847 248 \nQ 594 497 594 1153 \nL 594 3053 \nL 172 3053 \nL 172 3500 \nL 594 3500 \nL 594 4494 \nL 1172 4494 \nz\n\" transform=\"scale(0.015625)\"/>\n        <path id=\"DejaVuSans-73\" d=\"M 2834 3397 \nL 2834 2853 \nQ 2591 2978 2328 3040 \nQ 2066 3103 1784 3103 \nQ 1356 3103 1142 2972 \nQ 928 2841 928 2578 \nQ 928 2378 1081 2264 \nQ 1234 2150 1697 2047 \nL 1894 2003 \nQ 2506 1872 2764 1633 \nQ 3022 1394 3022 966 \nQ 3022 478 2636 193 \nQ 2250 -91 1575 -91 \nQ 1294 -91 989 -36 \nQ 684 19 347 128 \nL 347 722 \nQ 666 556 975 473 \nQ 1284 391 1588 391 \nQ 1994 391 2212 530 \nQ 2431 669 2431 922 \nQ 2431 1156 2273 1281 \nQ 2116 1406 1581 1522 \nL 1381 1569 \nQ 847 1681 609 1914 \nQ 372 2147 372 2553 \nQ 372 3047 722 3315 \nQ 1072 3584 1716 3584 \nQ 2034 3584 2315 3537 \nQ 2597 3491 2834 3397 \nz\n\" transform=\"scale(0.015625)\"/>\n       </defs>\n       <use xlink:href=\"#DejaVuSans-70\"/>\n       <use xlink:href=\"#DejaVuSans-6f\" x=\"63.476562\"/>\n       <use xlink:href=\"#DejaVuSans-6d\" x=\"124.658203\"/>\n       <use xlink:href=\"#DejaVuSans-65\" x=\"222.070312\"/>\n       <use xlink:href=\"#DejaVuSans-67\" x=\"283.59375\"/>\n       <use xlink:href=\"#DejaVuSans-72\" x=\"347.070312\"/>\n       <use xlink:href=\"#DejaVuSans-61\" x=\"388.183594\"/>\n       <use xlink:href=\"#DejaVuSans-6e\" x=\"449.462891\"/>\n       <use xlink:href=\"#DejaVuSans-61\" x=\"512.841797\"/>\n       <use xlink:href=\"#DejaVuSans-74\" x=\"574.121094\"/>\n       <use xlink:href=\"#DejaVuSans-65\" x=\"613.330078\"/>\n       <use xlink:href=\"#DejaVuSans-73\" x=\"674.853516\"/>\n      </g>\n     </g>\n    </g>\n    <g id=\"xtick_2\">\n     <g id=\"line2d_2\">\n      <g>\n       <use xlink:href=\"#ma4fac5a82f\" x=\"111.315875\" y=\"251.39\" style=\"fill: #555555; stroke: #555555; stroke-width: 0.8\"/>\n      </g>\n     </g>\n     <g id=\"text_2\">\n      <!-- yoghurt -->\n      <g style=\"fill: #555555\" transform=\"translate(114.07525 297.482187) rotate(-90) scale(0.1 -0.1)\">\n       <defs>\n        <path id=\"DejaVuSans-79\" d=\"M 2059 -325 \nQ 1816 -950 1584 -1140 \nQ 1353 -1331 966 -1331 \nL 506 -1331 \nL 506 -850 \nL 844 -850 \nQ 1081 -850 1212 -737 \nQ 1344 -625 1503 -206 \nL 1606 56 \nL 191 3500 \nL 800 3500 \nL 1894 763 \nL 2988 3500 \nL 3597 3500 \nL 2059 -325 \nz\n\" transform=\"scale(0.015625)\"/>\n        <path id=\"DejaVuSans-68\" d=\"M 3513 2113 \nL 3513 0 \nL 2938 0 \nL 2938 2094 \nQ 2938 2591 2744 2837 \nQ 2550 3084 2163 3084 \nQ 1697 3084 1428 2787 \nQ 1159 2491 1159 1978 \nL 1159 0 \nL 581 0 \nL 581 4863 \nL 1159 4863 \nL 1159 2956 \nQ 1366 3272 1645 3428 \nQ 1925 3584 2291 3584 \nQ 2894 3584 3203 3211 \nQ 3513 2838 3513 2113 \nz\n\" transform=\"scale(0.015625)\"/>\n        <path id=\"DejaVuSans-75\" d=\"M 544 1381 \nL 544 3500 \nL 1119 3500 \nL 1119 1403 \nQ 1119 906 1312 657 \nQ 1506 409 1894 409 \nQ 2359 409 2629 706 \nQ 2900 1003 2900 1516 \nL 2900 3500 \nL 3475 3500 \nL 3475 0 \nL 2900 0 \nL 2900 538 \nQ 2691 219 2414 64 \nQ 2138 -91 1772 -91 \nQ 1169 -91 856 284 \nQ 544 659 544 1381 \nz\nM 1991 3584 \nL 1991 3584 \nz\n\" transform=\"scale(0.015625)\"/>\n       </defs>\n       <use xlink:href=\"#DejaVuSans-79\"/>\n       <use xlink:href=\"#DejaVuSans-6f\" x=\"59.179688\"/>\n       <use xlink:href=\"#DejaVuSans-67\" x=\"120.361328\"/>\n       <use xlink:href=\"#DejaVuSans-68\" x=\"183.837891\"/>\n       <use xlink:href=\"#DejaVuSans-75\" x=\"247.216797\"/>\n       <use xlink:href=\"#DejaVuSans-72\" x=\"310.595703\"/>\n       <use xlink:href=\"#DejaVuSans-74\" x=\"351.708984\"/>\n      </g>\n     </g>\n    </g>\n    <g id=\"xtick_3\">\n     <g id=\"line2d_3\">\n      <g>\n       <use xlink:href=\"#ma4fac5a82f\" x=\"127.595208\" y=\"251.39\" style=\"fill: #555555; stroke: #555555; stroke-width: 0.8\"/>\n      </g>\n     </g>\n     <g id=\"text_3\">\n      <!-- pimenton -->\n      <g style=\"fill: #555555\" transform=\"translate(130.354583 306.124375) rotate(-90) scale(0.1 -0.1)\">\n       <defs>\n        <path id=\"DejaVuSans-69\" d=\"M 603 3500 \nL 1178 3500 \nL 1178 0 \nL 603 0 \nL 603 3500 \nz\nM 603 4863 \nL 1178 4863 \nL 1178 4134 \nL 603 4134 \nL 603 4863 \nz\n\" transform=\"scale(0.015625)\"/>\n       </defs>\n       <use xlink:href=\"#DejaVuSans-70\"/>\n       <use xlink:href=\"#DejaVuSans-69\" x=\"63.476562\"/>\n       <use xlink:href=\"#DejaVuSans-6d\" x=\"91.259766\"/>\n       <use xlink:href=\"#DejaVuSans-65\" x=\"188.671875\"/>\n       <use xlink:href=\"#DejaVuSans-6e\" x=\"250.195312\"/>\n       <use xlink:href=\"#DejaVuSans-74\" x=\"313.574219\"/>\n       <use xlink:href=\"#DejaVuSans-6f\" x=\"352.783203\"/>\n       <use xlink:href=\"#DejaVuSans-6e\" x=\"413.964844\"/>\n      </g>\n     </g>\n    </g>\n    <g id=\"xtick_4\">\n     <g id=\"line2d_4\">\n      <g>\n       <use xlink:href=\"#ma4fac5a82f\" x=\"143.874542\" y=\"251.39\" style=\"fill: #555555; stroke: #555555; stroke-width: 0.8\"/>\n      </g>\n     </g>\n     <g id=\"text_4\">\n      <!-- oreos -->\n      <g style=\"fill: #555555\" transform=\"translate(146.633917 285.875937) rotate(-90) scale(0.1 -0.1)\">\n       <use xlink:href=\"#DejaVuSans-6f\"/>\n       <use xlink:href=\"#DejaVuSans-72\" x=\"61.181641\"/>\n       <use xlink:href=\"#DejaVuSans-65\" x=\"100.044922\"/>\n       <use xlink:href=\"#DejaVuSans-6f\" x=\"161.568359\"/>\n       <use xlink:href=\"#DejaVuSans-73\" x=\"222.75\"/>\n      </g>\n     </g>\n    </g>\n    <g id=\"xtick_5\">\n     <g id=\"line2d_5\">\n      <g>\n       <use xlink:href=\"#ma4fac5a82f\" x=\"160.153875\" y=\"251.39\" style=\"fill: #555555; stroke: #555555; stroke-width: 0.8\"/>\n      </g>\n     </g>\n     <g id=\"text_5\">\n      <!-- peppercorn -->\n      <g style=\"fill: #555555\" transform=\"translate(162.91325 315.518125) rotate(-90) scale(0.1 -0.1)\">\n       <defs>\n        <path id=\"DejaVuSans-63\" d=\"M 3122 3366 \nL 3122 2828 \nQ 2878 2963 2633 3030 \nQ 2388 3097 2138 3097 \nQ 1578 3097 1268 2742 \nQ 959 2388 959 1747 \nQ 959 1106 1268 751 \nQ 1578 397 2138 397 \nQ 2388 397 2633 464 \nQ 2878 531 3122 666 \nL 3122 134 \nQ 2881 22 2623 -34 \nQ 2366 -91 2075 -91 \nQ 1284 -91 818 406 \nQ 353 903 353 1747 \nQ 353 2603 823 3093 \nQ 1294 3584 2113 3584 \nQ 2378 3584 2631 3529 \nQ 2884 3475 3122 3366 \nz\n\" transform=\"scale(0.015625)\"/>\n       </defs>\n       <use xlink:href=\"#DejaVuSans-70\"/>\n       <use xlink:href=\"#DejaVuSans-65\" x=\"63.476562\"/>\n       <use xlink:href=\"#DejaVuSans-70\" x=\"125\"/>\n       <use xlink:href=\"#DejaVuSans-70\" x=\"188.476562\"/>\n       <use xlink:href=\"#DejaVuSans-65\" x=\"251.953125\"/>\n       <use xlink:href=\"#DejaVuSans-72\" x=\"313.476562\"/>\n       <use xlink:href=\"#DejaVuSans-63\" x=\"352.339844\"/>\n       <use xlink:href=\"#DejaVuSans-6f\" x=\"407.320312\"/>\n       <use xlink:href=\"#DejaVuSans-72\" x=\"468.501953\"/>\n       <use xlink:href=\"#DejaVuSans-6e\" x=\"507.865234\"/>\n      </g>\n     </g>\n    </g>\n    <g id=\"xtick_6\">\n     <g id=\"line2d_6\">\n      <g>\n       <use xlink:href=\"#ma4fac5a82f\" x=\"176.433208\" y=\"251.39\" style=\"fill: #555555; stroke: #555555; stroke-width: 0.8\"/>\n      </g>\n     </g>\n     <g id=\"text_6\">\n      <!-- saltine -->\n      <g style=\"fill: #555555\" transform=\"translate(179.192583 291.694687) rotate(-90) scale(0.1 -0.1)\">\n       <defs>\n        <path id=\"DejaVuSans-6c\" d=\"M 603 4863 \nL 1178 4863 \nL 1178 0 \nL 603 0 \nL 603 4863 \nz\n\" transform=\"scale(0.015625)\"/>\n       </defs>\n       <use xlink:href=\"#DejaVuSans-73\"/>\n       <use xlink:href=\"#DejaVuSans-61\" x=\"52.099609\"/>\n       <use xlink:href=\"#DejaVuSans-6c\" x=\"113.378906\"/>\n       <use xlink:href=\"#DejaVuSans-74\" x=\"141.162109\"/>\n       <use xlink:href=\"#DejaVuSans-69\" x=\"180.371094\"/>\n       <use xlink:href=\"#DejaVuSans-6e\" x=\"208.154297\"/>\n       <use xlink:href=\"#DejaVuSans-65\" x=\"271.533203\"/>\n      </g>\n     </g>\n    </g>\n    <g id=\"xtick_7\">\n     <g id=\"line2d_7\">\n      <g>\n       <use xlink:href=\"#ma4fac5a82f\" x=\"192.712542\" y=\"251.39\" style=\"fill: #555555; stroke: #555555; stroke-width: 0.8\"/>\n      </g>\n     </g>\n     <g id=\"text_7\">\n      <!-- fudge -->\n      <g style=\"fill: #555555\" transform=\"translate(195.471917 287.097812) rotate(-90) scale(0.1 -0.1)\">\n       <defs>\n        <path id=\"DejaVuSans-66\" d=\"M 2375 4863 \nL 2375 4384 \nL 1825 4384 \nQ 1516 4384 1395 4259 \nQ 1275 4134 1275 3809 \nL 1275 3500 \nL 2222 3500 \nL 2222 3053 \nL 1275 3053 \nL 1275 0 \nL 697 0 \nL 697 3053 \nL 147 3053 \nL 147 3500 \nL 697 3500 \nL 697 3744 \nQ 697 4328 969 4595 \nQ 1241 4863 1831 4863 \nL 2375 4863 \nz\n\" transform=\"scale(0.015625)\"/>\n        <path id=\"DejaVuSans-64\" d=\"M 2906 2969 \nL 2906 4863 \nL 3481 4863 \nL 3481 0 \nL 2906 0 \nL 2906 525 \nQ 2725 213 2448 61 \nQ 2172 -91 1784 -91 \nQ 1150 -91 751 415 \nQ 353 922 353 1747 \nQ 353 2572 751 3078 \nQ 1150 3584 1784 3584 \nQ 2172 3584 2448 3432 \nQ 2725 3281 2906 2969 \nz\nM 947 1747 \nQ 947 1113 1208 752 \nQ 1469 391 1925 391 \nQ 2381 391 2643 752 \nQ 2906 1113 2906 1747 \nQ 2906 2381 2643 2742 \nQ 2381 3103 1925 3103 \nQ 1469 3103 1208 2742 \nQ 947 2381 947 1747 \nz\n\" transform=\"scale(0.015625)\"/>\n       </defs>\n       <use xlink:href=\"#DejaVuSans-66\"/>\n       <use xlink:href=\"#DejaVuSans-75\" x=\"35.205078\"/>\n       <use xlink:href=\"#DejaVuSans-64\" x=\"98.583984\"/>\n       <use xlink:href=\"#DejaVuSans-67\" x=\"162.060547\"/>\n       <use xlink:href=\"#DejaVuSans-65\" x=\"225.537109\"/>\n      </g>\n     </g>\n    </g>\n    <g id=\"xtick_8\">\n     <g id=\"line2d_8\">\n      <g>\n       <use xlink:href=\"#ma4fac5a82f\" x=\"208.991875\" y=\"251.39\" style=\"fill: #555555; stroke: #555555; stroke-width: 0.8\"/>\n      </g>\n     </g>\n     <g id=\"text_8\">\n      <!-- eggs -->\n      <g style=\"fill: #555555\" transform=\"translate(211.75125 282.449375) rotate(-90) scale(0.1 -0.1)\">\n       <use xlink:href=\"#DejaVuSans-65\"/>\n       <use xlink:href=\"#DejaVuSans-67\" x=\"61.523438\"/>\n       <use xlink:href=\"#DejaVuSans-67\" x=\"125\"/>\n       <use xlink:href=\"#DejaVuSans-73\" x=\"188.476562\"/>\n      </g>\n     </g>\n    </g>\n    <g id=\"xtick_9\">\n     <g id=\"line2d_9\">\n      <g>\n       <use xlink:href=\"#ma4fac5a82f\" x=\"225.271208\" y=\"251.39\" style=\"fill: #555555; stroke: #555555; stroke-width: 0.8\"/>\n      </g>\n     </g>\n     <g id=\"text_9\">\n      <!-- anchovy -->\n      <g style=\"fill: #555555\" transform=\"translate(228.030583 300.647812) rotate(-90) scale(0.1 -0.1)\">\n       <defs>\n        <path id=\"DejaVuSans-76\" d=\"M 191 3500 \nL 800 3500 \nL 1894 563 \nL 2988 3500 \nL 3597 3500 \nL 2284 0 \nL 1503 0 \nL 191 3500 \nz\n\" transform=\"scale(0.015625)\"/>\n       </defs>\n       <use xlink:href=\"#DejaVuSans-61\"/>\n       <use xlink:href=\"#DejaVuSans-6e\" x=\"61.279297\"/>\n       <use xlink:href=\"#DejaVuSans-63\" x=\"124.658203\"/>\n       <use xlink:href=\"#DejaVuSans-68\" x=\"179.638672\"/>\n       <use xlink:href=\"#DejaVuSans-6f\" x=\"243.017578\"/>\n       <use xlink:href=\"#DejaVuSans-76\" x=\"304.199219\"/>\n       <use xlink:href=\"#DejaVuSans-79\" x=\"363.378906\"/>\n      </g>\n     </g>\n    </g>\n    <g id=\"xtick_10\">\n     <g id=\"line2d_10\">\n      <g>\n       <use xlink:href=\"#ma4fac5a82f\" x=\"241.550542\" y=\"251.39\" style=\"fill: #555555; stroke: #555555; stroke-width: 0.8\"/>\n      </g>\n     </g>\n     <g id=\"text_10\">\n      <!-- chipotle -->\n      <g style=\"fill: #555555\" transform=\"translate(244.309917 298.322812) rotate(-90) scale(0.1 -0.1)\">\n       <use xlink:href=\"#DejaVuSans-63\"/>\n       <use xlink:href=\"#DejaVuSans-68\" x=\"54.980469\"/>\n       <use xlink:href=\"#DejaVuSans-69\" x=\"118.359375\"/>\n       <use xlink:href=\"#DejaVuSans-70\" x=\"146.142578\"/>\n       <use xlink:href=\"#DejaVuSans-6f\" x=\"209.619141\"/>\n       <use xlink:href=\"#DejaVuSans-74\" x=\"270.800781\"/>\n       <use xlink:href=\"#DejaVuSans-6c\" x=\"310.009766\"/>\n       <use xlink:href=\"#DejaVuSans-65\" x=\"337.792969\"/>\n      </g>\n     </g>\n    </g>\n    <g id=\"xtick_11\">\n     <g id=\"line2d_11\">\n      <g>\n       <use xlink:href=\"#ma4fac5a82f\" x=\"257.829875\" y=\"251.39\" style=\"fill: #555555; stroke: #555555; stroke-width: 0.8\"/>\n      </g>\n     </g>\n     <g id=\"text_11\">\n      <!-- perciatelli -->\n      <g style=\"fill: #555555\" transform=\"translate(260.58925 307.59) rotate(-90) scale(0.1 -0.1)\">\n       <use xlink:href=\"#DejaVuSans-70\"/>\n       <use xlink:href=\"#DejaVuSans-65\" x=\"63.476562\"/>\n       <use xlink:href=\"#DejaVuSans-72\" x=\"125\"/>\n       <use xlink:href=\"#DejaVuSans-63\" x=\"163.863281\"/>\n       <use xlink:href=\"#DejaVuSans-69\" x=\"218.84375\"/>\n       <use xlink:href=\"#DejaVuSans-61\" x=\"246.626953\"/>\n       <use xlink:href=\"#DejaVuSans-74\" x=\"307.90625\"/>\n       <use xlink:href=\"#DejaVuSans-65\" x=\"347.115234\"/>\n       <use xlink:href=\"#DejaVuSans-6c\" x=\"408.638672\"/>\n       <use xlink:href=\"#DejaVuSans-6c\" x=\"436.421875\"/>\n       <use xlink:href=\"#DejaVuSans-69\" x=\"464.205078\"/>\n      </g>\n     </g>\n    </g>\n    <g id=\"xtick_12\">\n     <g id=\"line2d_12\">\n      <g>\n       <use xlink:href=\"#ma4fac5a82f\" x=\"274.109208\" y=\"251.39\" style=\"fill: #555555; stroke: #555555; stroke-width: 0.8\"/>\n      </g>\n     </g>\n     <g id=\"text_12\">\n      <!-- breads -->\n      <g style=\"fill: #555555\" transform=\"translate(276.868583 292.463437) rotate(-90) scale(0.1 -0.1)\">\n       <defs>\n        <path id=\"DejaVuSans-62\" d=\"M 3116 1747 \nQ 3116 2381 2855 2742 \nQ 2594 3103 2138 3103 \nQ 1681 3103 1420 2742 \nQ 1159 2381 1159 1747 \nQ 1159 1113 1420 752 \nQ 1681 391 2138 391 \nQ 2594 391 2855 752 \nQ 3116 1113 3116 1747 \nz\nM 1159 2969 \nQ 1341 3281 1617 3432 \nQ 1894 3584 2278 3584 \nQ 2916 3584 3314 3078 \nQ 3713 2572 3713 1747 \nQ 3713 922 3314 415 \nQ 2916 -91 2278 -91 \nQ 1894 -91 1617 61 \nQ 1341 213 1159 525 \nL 1159 0 \nL 581 0 \nL 581 4863 \nL 1159 4863 \nL 1159 2969 \nz\n\" transform=\"scale(0.015625)\"/>\n       </defs>\n       <use xlink:href=\"#DejaVuSans-62\"/>\n       <use xlink:href=\"#DejaVuSans-72\" x=\"63.476562\"/>\n       <use xlink:href=\"#DejaVuSans-65\" x=\"102.339844\"/>\n       <use xlink:href=\"#DejaVuSans-61\" x=\"163.863281\"/>\n       <use xlink:href=\"#DejaVuSans-64\" x=\"225.142578\"/>\n       <use xlink:href=\"#DejaVuSans-73\" x=\"288.619141\"/>\n      </g>\n     </g>\n    </g>\n    <g id=\"xtick_13\">\n     <g id=\"line2d_13\">\n      <g>\n       <use xlink:href=\"#ma4fac5a82f\" x=\"290.388542\" y=\"251.39\" style=\"fill: #555555; stroke: #555555; stroke-width: 0.8\"/>\n      </g>\n     </g>\n     <g id=\"text_13\">\n      <!-- hickory -->\n      <g style=\"fill: #555555\" transform=\"translate(293.147917 294.580625) rotate(-90) scale(0.1 -0.1)\">\n       <defs>\n        <path id=\"DejaVuSans-6b\" d=\"M 581 4863 \nL 1159 4863 \nL 1159 1991 \nL 2875 3500 \nL 3609 3500 \nL 1753 1863 \nL 3688 0 \nL 2938 0 \nL 1159 1709 \nL 1159 0 \nL 581 0 \nL 581 4863 \nz\n\" transform=\"scale(0.015625)\"/>\n       </defs>\n       <use xlink:href=\"#DejaVuSans-68\"/>\n       <use xlink:href=\"#DejaVuSans-69\" x=\"63.378906\"/>\n       <use xlink:href=\"#DejaVuSans-63\" x=\"91.162109\"/>\n       <use xlink:href=\"#DejaVuSans-6b\" x=\"146.142578\"/>\n       <use xlink:href=\"#DejaVuSans-6f\" x=\"200.427734\"/>\n       <use xlink:href=\"#DejaVuSans-72\" x=\"261.609375\"/>\n       <use xlink:href=\"#DejaVuSans-79\" x=\"302.722656\"/>\n      </g>\n     </g>\n    </g>\n    <g id=\"xtick_14\">\n     <g id=\"line2d_14\">\n      <g>\n       <use xlink:href=\"#ma4fac5a82f\" x=\"306.667875\" y=\"251.39\" style=\"fill: #555555; stroke: #555555; stroke-width: 0.8\"/>\n      </g>\n     </g>\n     <g id=\"text_14\">\n      <!-- tortillas -->\n      <g style=\"fill: #555555\" transform=\"translate(309.42725 296.132187) rotate(-90) scale(0.1 -0.1)\">\n       <use xlink:href=\"#DejaVuSans-74\"/>\n       <use xlink:href=\"#DejaVuSans-6f\" x=\"39.208984\"/>\n       <use xlink:href=\"#DejaVuSans-72\" x=\"100.390625\"/>\n       <use xlink:href=\"#DejaVuSans-74\" x=\"141.503906\"/>\n       <use xlink:href=\"#DejaVuSans-69\" x=\"180.712891\"/>\n       <use xlink:href=\"#DejaVuSans-6c\" x=\"208.496094\"/>\n       <use xlink:href=\"#DejaVuSans-6c\" x=\"236.279297\"/>\n       <use xlink:href=\"#DejaVuSans-61\" x=\"264.0625\"/>\n       <use xlink:href=\"#DejaVuSans-73\" x=\"325.341797\"/>\n      </g>\n     </g>\n    </g>\n    <g id=\"xtick_15\">\n     <g id=\"line2d_15\">\n      <g>\n       <use xlink:href=\"#ma4fac5a82f\" x=\"322.947208\" y=\"251.39\" style=\"fill: #555555; stroke: #555555; stroke-width: 0.8\"/>\n      </g>\n     </g>\n     <g id=\"text_15\">\n      <!-- tomatoes -->\n      <g style=\"fill: #555555\" transform=\"translate(325.706583 305.699375) rotate(-90) scale(0.1 -0.1)\">\n       <use xlink:href=\"#DejaVuSans-74\"/>\n       <use xlink:href=\"#DejaVuSans-6f\" x=\"39.208984\"/>\n       <use xlink:href=\"#DejaVuSans-6d\" x=\"100.390625\"/>\n       <use xlink:href=\"#DejaVuSans-61\" x=\"197.802734\"/>\n       <use xlink:href=\"#DejaVuSans-74\" x=\"259.082031\"/>\n       <use xlink:href=\"#DejaVuSans-6f\" x=\"298.291016\"/>\n       <use xlink:href=\"#DejaVuSans-65\" x=\"359.472656\"/>\n       <use xlink:href=\"#DejaVuSans-73\" x=\"420.996094\"/>\n      </g>\n     </g>\n    </g>\n   </g>\n   <g id=\"matplotlib.axis_2\">\n    <g id=\"ytick_1\">\n     <g id=\"line2d_16\">\n      <defs>\n       <path id=\"m3705864108\" d=\"M 0 0 \nL -3.5 0 \n\" style=\"stroke: #555555; stroke-width: 0.8\"/>\n      </defs>\n      <g>\n       <use xlink:href=\"#m3705864108\" x=\"86.896875\" y=\"15.339667\" style=\"fill: #555555; stroke: #555555; stroke-width: 0.8\"/>\n      </g>\n     </g>\n     <g id=\"text_16\">\n      <!-- pomegranates -->\n      <g style=\"fill: #555555\" transform=\"translate(7.2 19.138885) scale(0.1 -0.1)\">\n       <use xlink:href=\"#DejaVuSans-70\"/>\n       <use xlink:href=\"#DejaVuSans-6f\" x=\"63.476562\"/>\n       <use xlink:href=\"#DejaVuSans-6d\" x=\"124.658203\"/>\n       <use xlink:href=\"#DejaVuSans-65\" x=\"222.070312\"/>\n       <use xlink:href=\"#DejaVuSans-67\" x=\"283.59375\"/>\n       <use xlink:href=\"#DejaVuSans-72\" x=\"347.070312\"/>\n       <use xlink:href=\"#DejaVuSans-61\" x=\"388.183594\"/>\n       <use xlink:href=\"#DejaVuSans-6e\" x=\"449.462891\"/>\n       <use xlink:href=\"#DejaVuSans-61\" x=\"512.841797\"/>\n       <use xlink:href=\"#DejaVuSans-74\" x=\"574.121094\"/>\n       <use xlink:href=\"#DejaVuSans-65\" x=\"613.330078\"/>\n       <use xlink:href=\"#DejaVuSans-73\" x=\"674.853516\"/>\n      </g>\n     </g>\n    </g>\n    <g id=\"ytick_2\">\n     <g id=\"line2d_17\">\n      <g>\n       <use xlink:href=\"#m3705864108\" x=\"86.896875\" y=\"31.619\" style=\"fill: #555555; stroke: #555555; stroke-width: 0.8\"/>\n      </g>\n     </g>\n     <g id=\"text_17\">\n      <!-- yoghurt -->\n      <g style=\"fill: #555555\" transform=\"translate(40.804688 35.418219) scale(0.1 -0.1)\">\n       <use xlink:href=\"#DejaVuSans-79\"/>\n       <use xlink:href=\"#DejaVuSans-6f\" x=\"59.179688\"/>\n       <use xlink:href=\"#DejaVuSans-67\" x=\"120.361328\"/>\n       <use xlink:href=\"#DejaVuSans-68\" x=\"183.837891\"/>\n       <use xlink:href=\"#DejaVuSans-75\" x=\"247.216797\"/>\n       <use xlink:href=\"#DejaVuSans-72\" x=\"310.595703\"/>\n       <use xlink:href=\"#DejaVuSans-74\" x=\"351.708984\"/>\n      </g>\n     </g>\n    </g>\n    <g id=\"ytick_3\">\n     <g id=\"line2d_18\">\n      <g>\n       <use xlink:href=\"#m3705864108\" x=\"86.896875\" y=\"47.898333\" style=\"fill: #555555; stroke: #555555; stroke-width: 0.8\"/>\n      </g>\n     </g>\n     <g id=\"text_18\">\n      <!-- pimenton -->\n      <g style=\"fill: #555555\" transform=\"translate(32.1625 51.697552) scale(0.1 -0.1)\">\n       <use xlink:href=\"#DejaVuSans-70\"/>\n       <use xlink:href=\"#DejaVuSans-69\" x=\"63.476562\"/>\n       <use xlink:href=\"#DejaVuSans-6d\" x=\"91.259766\"/>\n       <use xlink:href=\"#DejaVuSans-65\" x=\"188.671875\"/>\n       <use xlink:href=\"#DejaVuSans-6e\" x=\"250.195312\"/>\n       <use xlink:href=\"#DejaVuSans-74\" x=\"313.574219\"/>\n       <use xlink:href=\"#DejaVuSans-6f\" x=\"352.783203\"/>\n       <use xlink:href=\"#DejaVuSans-6e\" x=\"413.964844\"/>\n      </g>\n     </g>\n    </g>\n    <g id=\"ytick_4\">\n     <g id=\"line2d_19\">\n      <g>\n       <use xlink:href=\"#m3705864108\" x=\"86.896875\" y=\"64.177667\" style=\"fill: #555555; stroke: #555555; stroke-width: 0.8\"/>\n      </g>\n     </g>\n     <g id=\"text_19\">\n      <!-- oreos -->\n      <g style=\"fill: #555555\" transform=\"translate(52.410938 67.976885) scale(0.1 -0.1)\">\n       <use xlink:href=\"#DejaVuSans-6f\"/>\n       <use xlink:href=\"#DejaVuSans-72\" x=\"61.181641\"/>\n       <use xlink:href=\"#DejaVuSans-65\" x=\"100.044922\"/>\n       <use xlink:href=\"#DejaVuSans-6f\" x=\"161.568359\"/>\n       <use xlink:href=\"#DejaVuSans-73\" x=\"222.75\"/>\n      </g>\n     </g>\n    </g>\n    <g id=\"ytick_5\">\n     <g id=\"line2d_20\">\n      <g>\n       <use xlink:href=\"#m3705864108\" x=\"86.896875\" y=\"80.457\" style=\"fill: #555555; stroke: #555555; stroke-width: 0.8\"/>\n      </g>\n     </g>\n     <g id=\"text_20\">\n      <!-- peppercorn -->\n      <g style=\"fill: #555555\" transform=\"translate(22.76875 84.256219) scale(0.1 -0.1)\">\n       <use xlink:href=\"#DejaVuSans-70\"/>\n       <use xlink:href=\"#DejaVuSans-65\" x=\"63.476562\"/>\n       <use xlink:href=\"#DejaVuSans-70\" x=\"125\"/>\n       <use xlink:href=\"#DejaVuSans-70\" x=\"188.476562\"/>\n       <use xlink:href=\"#DejaVuSans-65\" x=\"251.953125\"/>\n       <use xlink:href=\"#DejaVuSans-72\" x=\"313.476562\"/>\n       <use xlink:href=\"#DejaVuSans-63\" x=\"352.339844\"/>\n       <use xlink:href=\"#DejaVuSans-6f\" x=\"407.320312\"/>\n       <use xlink:href=\"#DejaVuSans-72\" x=\"468.501953\"/>\n       <use xlink:href=\"#DejaVuSans-6e\" x=\"507.865234\"/>\n      </g>\n     </g>\n    </g>\n    <g id=\"ytick_6\">\n     <g id=\"line2d_21\">\n      <g>\n       <use xlink:href=\"#m3705864108\" x=\"86.896875\" y=\"96.736333\" style=\"fill: #555555; stroke: #555555; stroke-width: 0.8\"/>\n      </g>\n     </g>\n     <g id=\"text_21\">\n      <!-- saltine -->\n      <g style=\"fill: #555555\" transform=\"translate(46.592188 100.535552) scale(0.1 -0.1)\">\n       <use xlink:href=\"#DejaVuSans-73\"/>\n       <use xlink:href=\"#DejaVuSans-61\" x=\"52.099609\"/>\n       <use xlink:href=\"#DejaVuSans-6c\" x=\"113.378906\"/>\n       <use xlink:href=\"#DejaVuSans-74\" x=\"141.162109\"/>\n       <use xlink:href=\"#DejaVuSans-69\" x=\"180.371094\"/>\n       <use xlink:href=\"#DejaVuSans-6e\" x=\"208.154297\"/>\n       <use xlink:href=\"#DejaVuSans-65\" x=\"271.533203\"/>\n      </g>\n     </g>\n    </g>\n    <g id=\"ytick_7\">\n     <g id=\"line2d_22\">\n      <g>\n       <use xlink:href=\"#m3705864108\" x=\"86.896875\" y=\"113.015667\" style=\"fill: #555555; stroke: #555555; stroke-width: 0.8\"/>\n      </g>\n     </g>\n     <g id=\"text_22\">\n      <!-- fudge -->\n      <g style=\"fill: #555555\" transform=\"translate(51.189063 116.814885) scale(0.1 -0.1)\">\n       <use xlink:href=\"#DejaVuSans-66\"/>\n       <use xlink:href=\"#DejaVuSans-75\" x=\"35.205078\"/>\n       <use xlink:href=\"#DejaVuSans-64\" x=\"98.583984\"/>\n       <use xlink:href=\"#DejaVuSans-67\" x=\"162.060547\"/>\n       <use xlink:href=\"#DejaVuSans-65\" x=\"225.537109\"/>\n      </g>\n     </g>\n    </g>\n    <g id=\"ytick_8\">\n     <g id=\"line2d_23\">\n      <g>\n       <use xlink:href=\"#m3705864108\" x=\"86.896875\" y=\"129.295\" style=\"fill: #555555; stroke: #555555; stroke-width: 0.8\"/>\n      </g>\n     </g>\n     <g id=\"text_23\">\n      <!-- eggs -->\n      <g style=\"fill: #555555\" transform=\"translate(55.8375 133.094219) scale(0.1 -0.1)\">\n       <use xlink:href=\"#DejaVuSans-65\"/>\n       <use xlink:href=\"#DejaVuSans-67\" x=\"61.523438\"/>\n       <use xlink:href=\"#DejaVuSans-67\" x=\"125\"/>\n       <use xlink:href=\"#DejaVuSans-73\" x=\"188.476562\"/>\n      </g>\n     </g>\n    </g>\n    <g id=\"ytick_9\">\n     <g id=\"line2d_24\">\n      <g>\n       <use xlink:href=\"#m3705864108\" x=\"86.896875\" y=\"145.574333\" style=\"fill: #555555; stroke: #555555; stroke-width: 0.8\"/>\n      </g>\n     </g>\n     <g id=\"text_24\">\n      <!-- anchovy -->\n      <g style=\"fill: #555555\" transform=\"translate(37.639063 149.373552) scale(0.1 -0.1)\">\n       <use xlink:href=\"#DejaVuSans-61\"/>\n       <use xlink:href=\"#DejaVuSans-6e\" x=\"61.279297\"/>\n       <use xlink:href=\"#DejaVuSans-63\" x=\"124.658203\"/>\n       <use xlink:href=\"#DejaVuSans-68\" x=\"179.638672\"/>\n       <use xlink:href=\"#DejaVuSans-6f\" x=\"243.017578\"/>\n       <use xlink:href=\"#DejaVuSans-76\" x=\"304.199219\"/>\n       <use xlink:href=\"#DejaVuSans-79\" x=\"363.378906\"/>\n      </g>\n     </g>\n    </g>\n    <g id=\"ytick_10\">\n     <g id=\"line2d_25\">\n      <g>\n       <use xlink:href=\"#m3705864108\" x=\"86.896875\" y=\"161.853667\" style=\"fill: #555555; stroke: #555555; stroke-width: 0.8\"/>\n      </g>\n     </g>\n     <g id=\"text_25\">\n      <!-- chipotle -->\n      <g style=\"fill: #555555\" transform=\"translate(39.964063 165.652885) scale(0.1 -0.1)\">\n       <use xlink:href=\"#DejaVuSans-63\"/>\n       <use xlink:href=\"#DejaVuSans-68\" x=\"54.980469\"/>\n       <use xlink:href=\"#DejaVuSans-69\" x=\"118.359375\"/>\n       <use xlink:href=\"#DejaVuSans-70\" x=\"146.142578\"/>\n       <use xlink:href=\"#DejaVuSans-6f\" x=\"209.619141\"/>\n       <use xlink:href=\"#DejaVuSans-74\" x=\"270.800781\"/>\n       <use xlink:href=\"#DejaVuSans-6c\" x=\"310.009766\"/>\n       <use xlink:href=\"#DejaVuSans-65\" x=\"337.792969\"/>\n      </g>\n     </g>\n    </g>\n    <g id=\"ytick_11\">\n     <g id=\"line2d_26\">\n      <g>\n       <use xlink:href=\"#m3705864108\" x=\"86.896875\" y=\"178.133\" style=\"fill: #555555; stroke: #555555; stroke-width: 0.8\"/>\n      </g>\n     </g>\n     <g id=\"text_26\">\n      <!-- perciatelli -->\n      <g style=\"fill: #555555\" transform=\"translate(30.696875 181.932219) scale(0.1 -0.1)\">\n       <use xlink:href=\"#DejaVuSans-70\"/>\n       <use xlink:href=\"#DejaVuSans-65\" x=\"63.476562\"/>\n       <use xlink:href=\"#DejaVuSans-72\" x=\"125\"/>\n       <use xlink:href=\"#DejaVuSans-63\" x=\"163.863281\"/>\n       <use xlink:href=\"#DejaVuSans-69\" x=\"218.84375\"/>\n       <use xlink:href=\"#DejaVuSans-61\" x=\"246.626953\"/>\n       <use xlink:href=\"#DejaVuSans-74\" x=\"307.90625\"/>\n       <use xlink:href=\"#DejaVuSans-65\" x=\"347.115234\"/>\n       <use xlink:href=\"#DejaVuSans-6c\" x=\"408.638672\"/>\n       <use xlink:href=\"#DejaVuSans-6c\" x=\"436.421875\"/>\n       <use xlink:href=\"#DejaVuSans-69\" x=\"464.205078\"/>\n      </g>\n     </g>\n    </g>\n    <g id=\"ytick_12\">\n     <g id=\"line2d_27\">\n      <g>\n       <use xlink:href=\"#m3705864108\" x=\"86.896875\" y=\"194.412333\" style=\"fill: #555555; stroke: #555555; stroke-width: 0.8\"/>\n      </g>\n     </g>\n     <g id=\"text_27\">\n      <!-- breads -->\n      <g style=\"fill: #555555\" transform=\"translate(45.823438 198.211552) scale(0.1 -0.1)\">\n       <use xlink:href=\"#DejaVuSans-62\"/>\n       <use xlink:href=\"#DejaVuSans-72\" x=\"63.476562\"/>\n       <use xlink:href=\"#DejaVuSans-65\" x=\"102.339844\"/>\n       <use xlink:href=\"#DejaVuSans-61\" x=\"163.863281\"/>\n       <use xlink:href=\"#DejaVuSans-64\" x=\"225.142578\"/>\n       <use xlink:href=\"#DejaVuSans-73\" x=\"288.619141\"/>\n      </g>\n     </g>\n    </g>\n    <g id=\"ytick_13\">\n     <g id=\"line2d_28\">\n      <g>\n       <use xlink:href=\"#m3705864108\" x=\"86.896875\" y=\"210.691667\" style=\"fill: #555555; stroke: #555555; stroke-width: 0.8\"/>\n      </g>\n     </g>\n     <g id=\"text_28\">\n      <!-- hickory -->\n      <g style=\"fill: #555555\" transform=\"translate(43.70625 214.490885) scale(0.1 -0.1)\">\n       <use xlink:href=\"#DejaVuSans-68\"/>\n       <use xlink:href=\"#DejaVuSans-69\" x=\"63.378906\"/>\n       <use xlink:href=\"#DejaVuSans-63\" x=\"91.162109\"/>\n       <use xlink:href=\"#DejaVuSans-6b\" x=\"146.142578\"/>\n       <use xlink:href=\"#DejaVuSans-6f\" x=\"200.427734\"/>\n       <use xlink:href=\"#DejaVuSans-72\" x=\"261.609375\"/>\n       <use xlink:href=\"#DejaVuSans-79\" x=\"302.722656\"/>\n      </g>\n     </g>\n    </g>\n    <g id=\"ytick_14\">\n     <g id=\"line2d_29\">\n      <g>\n       <use xlink:href=\"#m3705864108\" x=\"86.896875\" y=\"226.971\" style=\"fill: #555555; stroke: #555555; stroke-width: 0.8\"/>\n      </g>\n     </g>\n     <g id=\"text_29\">\n      <!-- tortillas -->\n      <g style=\"fill: #555555\" transform=\"translate(42.154688 230.770219) scale(0.1 -0.1)\">\n       <use xlink:href=\"#DejaVuSans-74\"/>\n       <use xlink:href=\"#DejaVuSans-6f\" x=\"39.208984\"/>\n       <use xlink:href=\"#DejaVuSans-72\" x=\"100.390625\"/>\n       <use xlink:href=\"#DejaVuSans-74\" x=\"141.503906\"/>\n       <use xlink:href=\"#DejaVuSans-69\" x=\"180.712891\"/>\n       <use xlink:href=\"#DejaVuSans-6c\" x=\"208.496094\"/>\n       <use xlink:href=\"#DejaVuSans-6c\" x=\"236.279297\"/>\n       <use xlink:href=\"#DejaVuSans-61\" x=\"264.0625\"/>\n       <use xlink:href=\"#DejaVuSans-73\" x=\"325.341797\"/>\n      </g>\n     </g>\n    </g>\n    <g id=\"ytick_15\">\n     <g id=\"line2d_30\">\n      <g>\n       <use xlink:href=\"#m3705864108\" x=\"86.896875\" y=\"243.250333\" style=\"fill: #555555; stroke: #555555; stroke-width: 0.8\"/>\n      </g>\n     </g>\n     <g id=\"text_30\">\n      <!-- tomatoes -->\n      <g style=\"fill: #555555\" transform=\"translate(32.5875 247.049552) scale(0.1 -0.1)\">\n       <use xlink:href=\"#DejaVuSans-74\"/>\n       <use xlink:href=\"#DejaVuSans-6f\" x=\"39.208984\"/>\n       <use xlink:href=\"#DejaVuSans-6d\" x=\"100.390625\"/>\n       <use xlink:href=\"#DejaVuSans-61\" x=\"197.802734\"/>\n       <use xlink:href=\"#DejaVuSans-74\" x=\"259.082031\"/>\n       <use xlink:href=\"#DejaVuSans-6f\" x=\"298.291016\"/>\n       <use xlink:href=\"#DejaVuSans-65\" x=\"359.472656\"/>\n       <use xlink:href=\"#DejaVuSans-73\" x=\"420.996094\"/>\n      </g>\n     </g>\n    </g>\n   </g>\n   <g id=\"patch_3\">\n    <path d=\"M 86.896875 251.39 \nL 86.896875 7.2 \n\" style=\"fill: none; stroke: #ffffff; stroke-linejoin: miter; stroke-linecap: square\"/>\n   </g>\n   <g id=\"patch_4\">\n    <path d=\"M 331.086875 251.39 \nL 331.086875 7.2 \n\" style=\"fill: none; stroke: #ffffff; stroke-linejoin: miter; stroke-linecap: square\"/>\n   </g>\n   <g id=\"patch_5\">\n    <path d=\"M 86.896875 251.39 \nL 331.086875 251.39 \n\" style=\"fill: none; stroke: #ffffff; stroke-linejoin: miter; stroke-linecap: square\"/>\n   </g>\n   <g id=\"patch_6\">\n    <path d=\"M 86.896875 7.2 \nL 331.086875 7.2 \n\" style=\"fill: none; stroke: #ffffff; stroke-linejoin: miter; stroke-linecap: square\"/>\n   </g>\n  </g>\n </g>\n <defs>\n  <clipPath id=\"p20f5ad0c3f\">\n   <rect x=\"86.896875\" y=\"7.2\" width=\"244.19\" height=\"244.19\"/>\n  </clipPath>\n </defs>\n</svg>\n"
          },
          "metadata": {}
        }
      ]
    },
    {
      "cell_type": "markdown",
      "source": [
        "## Part 6: Build and Visualize Interactive Network Graph\n",
        "VIEW .html FILE TO SEE RESULT!"
      ],
      "metadata": {
        "id": "AaChgaTtgdLq"
      }
    },
    {
      "cell_type": "code",
      "source": [
        "indices = np.argwhere(sims_mat > 0.65)"
      ],
      "metadata": {
        "id": "BxdQvEwAgycS"
      },
      "execution_count": 74,
      "outputs": []
    },
    {
      "cell_type": "code",
      "source": [
        "indices[0]"
      ],
      "metadata": {
        "colab": {
          "base_uri": "https://localhost:8080/"
        },
        "id": "ut2gogzRhTFC",
        "outputId": "66bf4752-ddbf-40b7-b8f9-f2f9925a60cf"
      },
      "execution_count": 75,
      "outputs": [
        {
          "output_type": "execute_result",
          "data": {
            "text/plain": [
              "array([  4, 701])"
            ]
          },
          "metadata": {},
          "execution_count": 75
        }
      ]
    },
    {
      "cell_type": "code",
      "source": [
        "sims_mat[4, 701]"
      ],
      "metadata": {
        "colab": {
          "base_uri": "https://localhost:8080/"
        },
        "id": "3Bcl_bh1hidL",
        "outputId": "dc61ec7c-2611-4978-92b6-1e2e4155f768"
      },
      "execution_count": 79,
      "outputs": [
        {
          "output_type": "execute_result",
          "data": {
            "text/plain": [
              "0.70124155"
            ]
          },
          "metadata": {},
          "execution_count": 79
        }
      ]
    },
    {
      "cell_type": "code",
      "source": [
        "indices.shape"
      ],
      "metadata": {
        "colab": {
          "base_uri": "https://localhost:8080/"
        },
        "id": "ddRdXiV6hU-p",
        "outputId": "43020449-ed11-4c03-c57f-559638c47b59"
      },
      "execution_count": 77,
      "outputs": [
        {
          "output_type": "execute_result",
          "data": {
            "text/plain": [
              "(1162, 2)"
            ]
          },
          "metadata": {},
          "execution_count": 77
        }
      ]
    },
    {
      "cell_type": "code",
      "source": [
        "G = nx.Graph()\n",
        "\n",
        "for index in indices:\n",
        "  G.add_edge(words[index[0]], words[index[1]], \n",
        "             weight=sims_mat[index[0], index[1]])"
      ],
      "metadata": {
        "id": "vBC0SsZvhGob"
      },
      "execution_count": 80,
      "outputs": []
    },
    {
      "cell_type": "code",
      "source": [
        "weight_values = nx.get_edge_attributes(G, \"weight\")\n"
      ],
      "metadata": {
        "id": "pEyX73AAh5Sn"
      },
      "execution_count": 82,
      "outputs": []
    },
    {
      "cell_type": "code",
      "source": [
        "print(weight_values[('udon', 'ramen')])"
      ],
      "metadata": {
        "colab": {
          "base_uri": "https://localhost:8080/"
        },
        "id": "gXpu_0dSh4sV",
        "outputId": "47002aac-00d9-4fd9-bb38-0b5e1128a3d5"
      },
      "execution_count": 85,
      "outputs": [
        {
          "output_type": "stream",
          "name": "stdout",
          "text": [
            "0.75651443\n"
          ]
        }
      ]
    },
    {
      "cell_type": "code",
      "source": [
        "# Implement Fruchterman-Reingold force-directed algorithm: \n",
        "positions = nx.spring_layout(G)"
      ],
      "metadata": {
        "id": "TyF5Vou8ienx"
      },
      "execution_count": 90,
      "outputs": []
    },
    {
      "cell_type": "code",
      "source": [
        "for food in [\"udon\", \"ramen\", \"watermelon\", \"fajita\", \"taco\"]:\n",
        "  print(food, positions[food])\n"
      ],
      "metadata": {
        "colab": {
          "base_uri": "https://localhost:8080/"
        },
        "id": "P4U57WchjRtQ",
        "outputId": "d5948459-c4db-4150-928c-d883dbaa7d67"
      },
      "execution_count": 98,
      "outputs": [
        {
          "output_type": "stream",
          "name": "stdout",
          "text": [
            "udon [-0.23447444 -0.47050637]\n",
            "ramen [-0.26668262 -0.50654358]\n",
            "watermelon [0.51272982 0.19421203]\n",
            "fajita [-0.88145572 -0.11107299]\n",
            "taco [-0.86996752 -0.12858586]\n"
          ]
        }
      ]
    },
    {
      "cell_type": "code",
      "source": [
        "nx.set_node_attributes(G, name=\"position\", values=positions)"
      ],
      "metadata": {
        "id": "uCFh5u_zkEXg"
      },
      "execution_count": 99,
      "outputs": []
    },
    {
      "cell_type": "code",
      "source": [
        "searches = [\"udan\", \"taco\"]"
      ],
      "metadata": {
        "id": "yElog4eZkEp7"
      },
      "execution_count": 100,
      "outputs": []
    },
    {
      "cell_type": "code",
      "execution_count": 101,
      "metadata": {
        "id": "FmflSUw08mb8"
      },
      "outputs": [],
      "source": [
        "edge_x = []\n",
        "edge_y = []\n",
        "weights = []\n",
        "ave_x, ave_y = [], []\n",
        "for edge in G.edges():\n",
        "    x0, y0 = G.nodes[edge[0]]['position']\n",
        "    x1, y1 = G.nodes[edge[1]]['position']\n",
        "    edge_x.append(x0)\n",
        "    edge_x.append(x1)\n",
        "    edge_x.append(None)\n",
        "    edge_y.append(y0)\n",
        "    edge_y.append(y1)\n",
        "    edge_y.append(None)\n",
        "    ave_x.append(np.mean([x0, x1]))\n",
        "    ave_y.append(np.mean([y0, y1]))\n",
        "    weights.append(f'{edge[0]}, {edge[1]}: {weight_values[(edge[0], edge[1])]}')\n",
        "\n",
        "edge_trace = go.Scatter(\n",
        "    x=edge_x, y=edge_y,\n",
        "    opacity=0.7,\n",
        "    line=dict(width=2, color='White'),\n",
        "    hoverinfo='text',\n",
        "    mode='lines')\n",
        "\n",
        "edge_trace.text = weights\n",
        "\n",
        "\n",
        "node_x = []\n",
        "node_y = []\n",
        "sizes = []\n",
        "for node in G.nodes():\n",
        "    x, y = G.nodes[node]['position']\n",
        "    node_x.append(x)\n",
        "    node_y.append(y)\n",
        "    # if user has searched for word, make its node bigger\n",
        "    if node in searches:\n",
        "        sizes.append(50)\n",
        "    else:\n",
        "        sizes.append(15)\n",
        "\n",
        "node_trace = go.Scatter(\n",
        "    x=node_x, y=node_y,\n",
        "    mode='markers',\n",
        "    hoverinfo='text',\n",
        "    marker=dict(\n",
        "        showscale=True,\n",
        "        line=dict(color='White'),\n",
        "        # colorscale options\n",
        "        #'Greys' | 'YlGnBu' | 'Greens' | 'YlOrRd' | 'Bluered' | 'RdBu' |\n",
        "        #'Reds' | 'Blues' | 'Picnic' | 'Rainbow' | 'Portland' | 'Jet' |\n",
        "        #'Hot' | 'Blackbody' | 'Earth' | 'Electric' | 'Viridis' |\n",
        "        colorscale='Picnic',\n",
        "        reversescale=False,\n",
        "        color=[],\n",
        "        opacity=0.9,\n",
        "        size=sizes,\n",
        "        colorbar=dict(\n",
        "            thickness=15,\n",
        "            title='Node Connections',\n",
        "            xanchor='left',\n",
        "            titleside='right'\n",
        "        ),\n",
        "        line_width=2\n",
        "    )\n",
        ")\n",
        "\n",
        "invisible_similarity_trace = go.Scatter(\n",
        "    x=ave_x, y=ave_y,\n",
        "    mode='markers',\n",
        "    hoverinfo='text',\n",
        "    marker=dict(\n",
        "        color=[],\n",
        "        opacity=0,\n",
        "    )\n",
        ")\n",
        "\n",
        "invisible_similarity_trace.text=weights"
      ]
    },
    {
      "cell_type": "code",
      "execution_count": 102,
      "metadata": {
        "id": "kjaetZXk8mb-"
      },
      "outputs": [],
      "source": [
        "node_adjacencies = []\n",
        "node_text = []\n",
        "for node, adjacencies in enumerate(G.adjacency()):\n",
        "    node_adjacencies.append(len(adjacencies[1]))\n",
        "    node_text.append(adjacencies[0])\n",
        "\n",
        "node_trace.marker.color = node_adjacencies\n",
        "node_trace.text = node_text"
      ]
    },
    {
      "cell_type": "code",
      "execution_count": null,
      "metadata": {
        "id": "KLtX_ZOm8mb-"
      },
      "outputs": [],
      "source": [
        "fig = go.Figure(\n",
        "    data=[edge_trace, node_trace, invisible_similarity_trace],\n",
        "    layout=go.Layout(\n",
        "        title='Network Graph of Word Embeddings',\n",
        "        template='plotly_dark',\n",
        "        titlefont_size=20,\n",
        "        showlegend=False,\n",
        "        hovermode='closest',\n",
        "        margin=dict(b=20,l=5,r=5,t=40),\n",
        "        annotations=[\n",
        "            dict(\n",
        "                text=\"Adapted from: <a href='https://plotly.com/ipython-notebooks/network-graphs/'> https://plotly.com/ipython-notebooks/network-graphs/</a>\",\n",
        "                showarrow=False,\n",
        "                xref=\"paper\", yref=\"paper\",\n",
        "                x=0.005, y=-0.002 ) \n",
        "        ],\n",
        "        xaxis=dict(showgrid=False, zeroline=False, showticklabels=False),\n",
        "        yaxis=dict(showgrid=False, zeroline=False, showticklabels=False)\n",
        "    )\n",
        ")\n",
        "\n",
        "plot(fig)"
      ]
    },
    {
      "cell_type": "markdown",
      "source": [
        "Drawback of using cosine similarity: need to recompute cosine similarity matrix each time a new observation is added.\n"
      ],
      "metadata": {
        "id": "63EvO7sYl8n6"
      }
    },
    {
      "cell_type": "markdown",
      "source": [
        "Potential next step:\n",
        "Convert the plurals of ingredients to their singular form (ex. \"eggs\" -> \"egg\") in order to reduce the size of the dataset and improve accuracy."
      ],
      "metadata": {
        "id": "XdVGO24iokB8"
      }
    }
  ],
  "metadata": {
    "kernelspec": {
      "display_name": "Python 3",
      "language": "python",
      "name": "python3"
    },
    "language_info": {
      "codemirror_mode": {
        "name": "ipython",
        "version": 3
      },
      "file_extension": ".py",
      "mimetype": "text/x-python",
      "name": "python",
      "nbconvert_exporter": "python",
      "pygments_lexer": "ipython3",
      "version": "3.7.4"
    },
    "colab": {
      "provenance": [],
      "include_colab_link": true
    }
  },
  "nbformat": 4,
  "nbformat_minor": 0
}
